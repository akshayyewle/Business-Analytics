{
 "cells": [
  {
   "cell_type": "markdown",
   "metadata": {},
   "source": [
    "# **Setup**\n",
    "\n",
    "* https://www.youtube.com/watch?v=6-dhdMDiYWQ"
   ]
  },
  {
   "cell_type": "code",
   "execution_count": 6,
   "metadata": {},
   "outputs": [
    {
     "name": "stdout",
     "output_type": "stream",
     "text": [
      "Python 3.12.0\n",
      "CPU Cores:  16\n",
      "System RAM: 15.69\n"
     ]
    }
   ],
   "source": [
    "!python --version\n",
    "\n",
    "from psutil import *\n",
    "print('CPU Cores: ',cpu_count())\n",
    "print(f'System RAM: {virtual_memory()[0]/(1024**3):.2f}')"
   ]
  },
  {
   "cell_type": "code",
   "execution_count": 26,
   "metadata": {},
   "outputs": [],
   "source": [
    "import os\n",
    "from IPython.display import clear_output\n",
    "\n",
    "import pandas as pd \n",
    "import numpy as np \n",
    "import matplotlib.pyplot as plt\n",
    "import datetime as dt\n",
    "import yfinance as yf\n",
    "from pandas_datareader import data as pdr"
   ]
  },
  {
   "cell_type": "markdown",
   "metadata": {},
   "source": [
    "# **Data Import**"
   ]
  },
  {
   "cell_type": "code",
   "execution_count": 36,
   "metadata": {},
   "outputs": [
    {
     "data": {
      "text/html": [
       "<div>\n",
       "<style scoped>\n",
       "    .dataframe tbody tr th:only-of-type {\n",
       "        vertical-align: middle;\n",
       "    }\n",
       "\n",
       "    .dataframe tbody tr th {\n",
       "        vertical-align: top;\n",
       "    }\n",
       "\n",
       "    .dataframe thead th {\n",
       "        text-align: right;\n",
       "    }\n",
       "</style>\n",
       "<table border=\"1\" class=\"dataframe\">\n",
       "  <thead>\n",
       "    <tr style=\"text-align: right;\">\n",
       "      <th></th>\n",
       "      <th>Open</th>\n",
       "      <th>High</th>\n",
       "      <th>Low</th>\n",
       "      <th>Close</th>\n",
       "      <th>Volume</th>\n",
       "      <th>Dividends</th>\n",
       "      <th>Stock Splits</th>\n",
       "    </tr>\n",
       "    <tr>\n",
       "      <th>Date</th>\n",
       "      <th></th>\n",
       "      <th></th>\n",
       "      <th></th>\n",
       "      <th></th>\n",
       "      <th></th>\n",
       "      <th></th>\n",
       "      <th></th>\n",
       "    </tr>\n",
       "  </thead>\n",
       "  <tbody>\n",
       "    <tr>\n",
       "      <th>2003-11-10 00:00:00-05:00</th>\n",
       "      <td>0.340277</td>\n",
       "      <td>0.343308</td>\n",
       "      <td>0.331031</td>\n",
       "      <td>0.331940</td>\n",
       "      <td>234276000</td>\n",
       "      <td>0.0</td>\n",
       "      <td>0.0</td>\n",
       "    </tr>\n",
       "    <tr>\n",
       "      <th>2003-11-11 00:00:00-05:00</th>\n",
       "      <td>0.331940</td>\n",
       "      <td>0.333759</td>\n",
       "      <td>0.325574</td>\n",
       "      <td>0.326484</td>\n",
       "      <td>215073600</td>\n",
       "      <td>0.0</td>\n",
       "      <td>0.0</td>\n",
       "    </tr>\n",
       "    <tr>\n",
       "      <th>2003-11-12 00:00:00-05:00</th>\n",
       "      <td>0.325574</td>\n",
       "      <td>0.344369</td>\n",
       "      <td>0.325574</td>\n",
       "      <td>0.338458</td>\n",
       "      <td>300003200</td>\n",
       "      <td>0.0</td>\n",
       "      <td>0.0</td>\n",
       "    </tr>\n",
       "    <tr>\n",
       "      <th>2003-11-13 00:00:00-05:00</th>\n",
       "      <td>0.334517</td>\n",
       "      <td>0.341944</td>\n",
       "      <td>0.332244</td>\n",
       "      <td>0.339822</td>\n",
       "      <td>212772000</td>\n",
       "      <td>0.0</td>\n",
       "      <td>0.0</td>\n",
       "    </tr>\n",
       "    <tr>\n",
       "      <th>2003-11-14 00:00:00-05:00</th>\n",
       "      <td>0.340732</td>\n",
       "      <td>0.342702</td>\n",
       "      <td>0.322543</td>\n",
       "      <td>0.325271</td>\n",
       "      <td>237048000</td>\n",
       "      <td>0.0</td>\n",
       "      <td>0.0</td>\n",
       "    </tr>\n",
       "    <tr>\n",
       "      <th>...</th>\n",
       "      <td>...</td>\n",
       "      <td>...</td>\n",
       "      <td>...</td>\n",
       "      <td>...</td>\n",
       "      <td>...</td>\n",
       "      <td>...</td>\n",
       "      <td>...</td>\n",
       "    </tr>\n",
       "    <tr>\n",
       "      <th>2023-11-02 00:00:00-04:00</th>\n",
       "      <td>175.520004</td>\n",
       "      <td>177.779999</td>\n",
       "      <td>175.460007</td>\n",
       "      <td>177.570007</td>\n",
       "      <td>77334800</td>\n",
       "      <td>0.0</td>\n",
       "      <td>0.0</td>\n",
       "    </tr>\n",
       "    <tr>\n",
       "      <th>2023-11-03 00:00:00-04:00</th>\n",
       "      <td>174.240005</td>\n",
       "      <td>176.820007</td>\n",
       "      <td>173.350006</td>\n",
       "      <td>176.649994</td>\n",
       "      <td>79763700</td>\n",
       "      <td>0.0</td>\n",
       "      <td>0.0</td>\n",
       "    </tr>\n",
       "    <tr>\n",
       "      <th>2023-11-06 00:00:00-05:00</th>\n",
       "      <td>176.380005</td>\n",
       "      <td>179.429993</td>\n",
       "      <td>176.210007</td>\n",
       "      <td>179.229996</td>\n",
       "      <td>63841300</td>\n",
       "      <td>0.0</td>\n",
       "      <td>0.0</td>\n",
       "    </tr>\n",
       "    <tr>\n",
       "      <th>2023-11-07 00:00:00-05:00</th>\n",
       "      <td>179.179993</td>\n",
       "      <td>182.440002</td>\n",
       "      <td>178.970001</td>\n",
       "      <td>181.820007</td>\n",
       "      <td>70464000</td>\n",
       "      <td>0.0</td>\n",
       "      <td>0.0</td>\n",
       "    </tr>\n",
       "    <tr>\n",
       "      <th>2023-11-08 00:00:00-05:00</th>\n",
       "      <td>182.350006</td>\n",
       "      <td>183.449997</td>\n",
       "      <td>181.598999</td>\n",
       "      <td>182.648407</td>\n",
       "      <td>30271756</td>\n",
       "      <td>0.0</td>\n",
       "      <td>0.0</td>\n",
       "    </tr>\n",
       "  </tbody>\n",
       "</table>\n",
       "<p>5034 rows × 7 columns</p>\n",
       "</div>"
      ],
      "text/plain": [
       "                                 Open        High         Low       Close  \\\n",
       "Date                                                                        \n",
       "2003-11-10 00:00:00-05:00    0.340277    0.343308    0.331031    0.331940   \n",
       "2003-11-11 00:00:00-05:00    0.331940    0.333759    0.325574    0.326484   \n",
       "2003-11-12 00:00:00-05:00    0.325574    0.344369    0.325574    0.338458   \n",
       "2003-11-13 00:00:00-05:00    0.334517    0.341944    0.332244    0.339822   \n",
       "2003-11-14 00:00:00-05:00    0.340732    0.342702    0.322543    0.325271   \n",
       "...                               ...         ...         ...         ...   \n",
       "2023-11-02 00:00:00-04:00  175.520004  177.779999  175.460007  177.570007   \n",
       "2023-11-03 00:00:00-04:00  174.240005  176.820007  173.350006  176.649994   \n",
       "2023-11-06 00:00:00-05:00  176.380005  179.429993  176.210007  179.229996   \n",
       "2023-11-07 00:00:00-05:00  179.179993  182.440002  178.970001  181.820007   \n",
       "2023-11-08 00:00:00-05:00  182.350006  183.449997  181.598999  182.648407   \n",
       "\n",
       "                              Volume  Dividends  Stock Splits  \n",
       "Date                                                           \n",
       "2003-11-10 00:00:00-05:00  234276000        0.0           0.0  \n",
       "2003-11-11 00:00:00-05:00  215073600        0.0           0.0  \n",
       "2003-11-12 00:00:00-05:00  300003200        0.0           0.0  \n",
       "2003-11-13 00:00:00-05:00  212772000        0.0           0.0  \n",
       "2003-11-14 00:00:00-05:00  237048000        0.0           0.0  \n",
       "...                              ...        ...           ...  \n",
       "2023-11-02 00:00:00-04:00   77334800        0.0           0.0  \n",
       "2023-11-03 00:00:00-04:00   79763700        0.0           0.0  \n",
       "2023-11-06 00:00:00-05:00   63841300        0.0           0.0  \n",
       "2023-11-07 00:00:00-05:00   70464000        0.0           0.0  \n",
       "2023-11-08 00:00:00-05:00   30271756        0.0           0.0  \n",
       "\n",
       "[5034 rows x 7 columns]"
      ]
     },
     "execution_count": 36,
     "metadata": {},
     "output_type": "execute_result"
    }
   ],
   "source": [
    "data = yf.Ticker('AAPL')\n",
    "data.history(period='20y')"
   ]
  },
  {
   "cell_type": "code",
   "execution_count": 11,
   "metadata": {},
   "outputs": [],
   "source": [
    "# Define Function To Get Data\n",
    "def get_data(stocks,start_date,end_date):\n",
    "    stockData = pdr.get_data_yahoo(stocks,start_date,end_date)\n",
    "    stockData = stockData['Close']\n",
    "    returns = stockData.pct_change()\n",
    "    meanReturns = returns.mean()\n",
    "    covMatrix = returns.cov()\n",
    "    \n",
    "    return meanReturns,covMatrix    "
   ]
  },
  {
   "cell_type": "markdown",
   "metadata": {},
   "source": [
    "# **Create Portfolio**"
   ]
  },
  {
   "cell_type": "code",
   "execution_count": 12,
   "metadata": {},
   "outputs": [
    {
     "data": {
      "text/plain": [
       "['CBA.AX', 'BHP.AX', 'TLS.AX', 'NAB.AX', 'WBC.AX', 'STO.AX']"
      ]
     },
     "execution_count": 12,
     "metadata": {},
     "output_type": "execute_result"
    }
   ],
   "source": [
    "# Create Portfolio\n",
    "portfolio = ['CBA','BHP','TLS','NAB','WBC','STO']\n",
    "\n",
    "# Create YFinance Tickers\n",
    "Stock_List_YFinance = [stock + '.AX' for stock in portfolio]\n",
    "Stock_List_YFinance"
   ]
  },
  {
   "cell_type": "markdown",
   "metadata": {},
   "source": [
    "# **Specify Simulation Time**"
   ]
  },
  {
   "cell_type": "code",
   "execution_count": 16,
   "metadata": {},
   "outputs": [
    {
     "name": "stdout",
     "output_type": "stream",
     "text": [
      "2023-01-12 18:14:21.192319 \n",
      " 2023-11-08 18:14:21.192319\n"
     ]
    }
   ],
   "source": [
    "# Specify Simualtion Start & End Date\n",
    "End_Date = dt.datetime.now()\n",
    "Start_Date = End_Date - dt.timedelta(days=300)\n",
    "\n",
    "print(Start_Date,'\\n',End_Date)"
   ]
  },
  {
   "cell_type": "code",
   "execution_count": 17,
   "metadata": {},
   "outputs": [
    {
     "ename": "TypeError",
     "evalue": "string indices must be integers, not 'str'",
     "output_type": "error",
     "traceback": [
      "\u001b[1;31m---------------------------------------------------------------------------\u001b[0m",
      "\u001b[1;31mTypeError\u001b[0m                                 Traceback (most recent call last)",
      "\u001b[1;32mc:\\Users\\aksha\\OneDrive\\06 Data Science & Analytics\\Github\\Business-Analytics\\04 Monte Carlo Simulation Of Stock Price\\Code.ipynb Cell 8\u001b[0m line \u001b[0;36m1\n\u001b[1;32m----> <a href='vscode-notebook-cell:/c%3A/Users/aksha/OneDrive/06%20Data%20Science%20%26%20Analytics/Github/Business-Analytics/04%20Monte%20Carlo%20Simulation%20Of%20Stock%20Price/Code.ipynb#X12sZmlsZQ%3D%3D?line=0'>1</a>\u001b[0m Mean_Returns, Covar_Matrix \u001b[39m=\u001b[39m get_data(Stock_List_YFinance,Start_Date,End_Date)\n",
      "\u001b[1;32mc:\\Users\\aksha\\OneDrive\\06 Data Science & Analytics\\Github\\Business-Analytics\\04 Monte Carlo Simulation Of Stock Price\\Code.ipynb Cell 8\u001b[0m line \u001b[0;36m3\n\u001b[0;32m      <a href='vscode-notebook-cell:/c%3A/Users/aksha/OneDrive/06%20Data%20Science%20%26%20Analytics/Github/Business-Analytics/04%20Monte%20Carlo%20Simulation%20Of%20Stock%20Price/Code.ipynb#X12sZmlsZQ%3D%3D?line=1'>2</a>\u001b[0m \u001b[39mdef\u001b[39;00m \u001b[39mget_data\u001b[39m(stocks,start_date,end_date):\n\u001b[1;32m----> <a href='vscode-notebook-cell:/c%3A/Users/aksha/OneDrive/06%20Data%20Science%20%26%20Analytics/Github/Business-Analytics/04%20Monte%20Carlo%20Simulation%20Of%20Stock%20Price/Code.ipynb#X12sZmlsZQ%3D%3D?line=2'>3</a>\u001b[0m     stockData \u001b[39m=\u001b[39m pdr\u001b[39m.\u001b[39;49mget_data_yahoo(stocks,start_date,end_date)\n\u001b[0;32m      <a href='vscode-notebook-cell:/c%3A/Users/aksha/OneDrive/06%20Data%20Science%20%26%20Analytics/Github/Business-Analytics/04%20Monte%20Carlo%20Simulation%20Of%20Stock%20Price/Code.ipynb#X12sZmlsZQ%3D%3D?line=3'>4</a>\u001b[0m     stockData \u001b[39m=\u001b[39m stockData[\u001b[39m'\u001b[39m\u001b[39mClose\u001b[39m\u001b[39m'\u001b[39m]\n\u001b[0;32m      <a href='vscode-notebook-cell:/c%3A/Users/aksha/OneDrive/06%20Data%20Science%20%26%20Analytics/Github/Business-Analytics/04%20Monte%20Carlo%20Simulation%20Of%20Stock%20Price/Code.ipynb#X12sZmlsZQ%3D%3D?line=4'>5</a>\u001b[0m     returns \u001b[39m=\u001b[39m stockData\u001b[39m.\u001b[39mpct_change()\n",
      "File \u001b[1;32mc:\\Users\\aksha\\AppData\\Local\\Programs\\Python\\Python312\\Lib\\site-packages\\pandas_datareader\\data.py:80\u001b[0m, in \u001b[0;36mget_data_yahoo\u001b[1;34m(*args, **kwargs)\u001b[0m\n\u001b[0;32m     79\u001b[0m \u001b[39mdef\u001b[39;00m \u001b[39mget_data_yahoo\u001b[39m(\u001b[39m*\u001b[39margs, \u001b[39m*\u001b[39m\u001b[39m*\u001b[39mkwargs):\n\u001b[1;32m---> 80\u001b[0m     \u001b[39mreturn\u001b[39;00m YahooDailyReader(\u001b[39m*\u001b[39;49margs, \u001b[39m*\u001b[39;49m\u001b[39m*\u001b[39;49mkwargs)\u001b[39m.\u001b[39;49mread()\n",
      "File \u001b[1;32mc:\\Users\\aksha\\AppData\\Local\\Programs\\Python\\Python312\\Lib\\site-packages\\pandas_datareader\\base.py:258\u001b[0m, in \u001b[0;36m_DailyBaseReader.read\u001b[1;34m(self)\u001b[0m\n\u001b[0;32m    256\u001b[0m     df \u001b[39m=\u001b[39m \u001b[39mself\u001b[39m\u001b[39m.\u001b[39m_dl_mult_symbols(\u001b[39mself\u001b[39m\u001b[39m.\u001b[39msymbols\u001b[39m.\u001b[39mindex)\n\u001b[0;32m    257\u001b[0m \u001b[39melse\u001b[39;00m:\n\u001b[1;32m--> 258\u001b[0m     df \u001b[39m=\u001b[39m \u001b[39mself\u001b[39;49m\u001b[39m.\u001b[39;49m_dl_mult_symbols(\u001b[39mself\u001b[39;49m\u001b[39m.\u001b[39;49msymbols)\n\u001b[0;32m    259\u001b[0m \u001b[39mreturn\u001b[39;00m df\n",
      "File \u001b[1;32mc:\\Users\\aksha\\AppData\\Local\\Programs\\Python\\Python312\\Lib\\site-packages\\pandas_datareader\\base.py:268\u001b[0m, in \u001b[0;36m_DailyBaseReader._dl_mult_symbols\u001b[1;34m(self, symbols)\u001b[0m\n\u001b[0;32m    266\u001b[0m \u001b[39mfor\u001b[39;00m sym \u001b[39min\u001b[39;00m sym_group:\n\u001b[0;32m    267\u001b[0m     \u001b[39mtry\u001b[39;00m:\n\u001b[1;32m--> 268\u001b[0m         stocks[sym] \u001b[39m=\u001b[39m \u001b[39mself\u001b[39;49m\u001b[39m.\u001b[39;49m_read_one_data(\u001b[39mself\u001b[39;49m\u001b[39m.\u001b[39;49murl, \u001b[39mself\u001b[39;49m\u001b[39m.\u001b[39;49m_get_params(sym))\n\u001b[0;32m    269\u001b[0m         passed\u001b[39m.\u001b[39mappend(sym)\n\u001b[0;32m    270\u001b[0m     \u001b[39mexcept\u001b[39;00m (\u001b[39mIOError\u001b[39;00m, \u001b[39mKeyError\u001b[39;00m):\n",
      "File \u001b[1;32mc:\\Users\\aksha\\AppData\\Local\\Programs\\Python\\Python312\\Lib\\site-packages\\pandas_datareader\\yahoo\\daily.py:153\u001b[0m, in \u001b[0;36mYahooDailyReader._read_one_data\u001b[1;34m(self, url, params)\u001b[0m\n\u001b[0;32m    151\u001b[0m \u001b[39mtry\u001b[39;00m:\n\u001b[0;32m    152\u001b[0m     j \u001b[39m=\u001b[39m json\u001b[39m.\u001b[39mloads(re\u001b[39m.\u001b[39msearch(ptrn, resp\u001b[39m.\u001b[39mtext, re\u001b[39m.\u001b[39mDOTALL)\u001b[39m.\u001b[39mgroup(\u001b[39m1\u001b[39m))\n\u001b[1;32m--> 153\u001b[0m     data \u001b[39m=\u001b[39m j[\u001b[39m\"\u001b[39;49m\u001b[39mcontext\u001b[39;49m\u001b[39m\"\u001b[39;49m][\u001b[39m\"\u001b[39;49m\u001b[39mdispatcher\u001b[39;49m\u001b[39m\"\u001b[39;49m][\u001b[39m\"\u001b[39;49m\u001b[39mstores\u001b[39;49m\u001b[39m\"\u001b[39;49m][\u001b[39m\"\u001b[39;49m\u001b[39mHistoricalPriceStore\u001b[39;49m\u001b[39m\"\u001b[39;49m]\n\u001b[0;32m    154\u001b[0m \u001b[39mexcept\u001b[39;00m \u001b[39mKeyError\u001b[39;00m:\n\u001b[0;32m    155\u001b[0m     msg \u001b[39m=\u001b[39m \u001b[39m\"\u001b[39m\u001b[39mNo data fetched for symbol \u001b[39m\u001b[39m{}\u001b[39;00m\u001b[39m using \u001b[39m\u001b[39m{}\u001b[39;00m\u001b[39m\"\u001b[39m\n",
      "\u001b[1;31mTypeError\u001b[0m: string indices must be integers, not 'str'"
     ]
    }
   ],
   "source": [
    "Mean_Returns, Covar_Matrix = get_data(Stock_List_YFinance,Start_Date,End_Date)"
   ]
  },
  {
   "cell_type": "markdown",
   "metadata": {},
   "source": [
    "# **Assign Portfolio Weights**"
   ]
  },
  {
   "cell_type": "code",
   "execution_count": null,
   "metadata": {},
   "outputs": [],
   "source": [
    "# Crete Random Weights\n",
    "Portfolio_Weights = np.random.random(len(Mean_Returns))\n",
    "print(Portfolio_Weights)\n",
    "\n",
    "# Ensure Weights Add Upto 1\n",
    "Portfolio_Weights /= np.sum(Portfolio_Weights)\n",
    "print(Portfolio_Weights)"
   ]
  }
 ],
 "metadata": {
  "kernelspec": {
   "display_name": "Python 3",
   "language": "python",
   "name": "python3"
  },
  "language_info": {
   "codemirror_mode": {
    "name": "ipython",
    "version": 3
   },
   "file_extension": ".py",
   "mimetype": "text/x-python",
   "name": "python",
   "nbconvert_exporter": "python",
   "pygments_lexer": "ipython3",
   "version": "3.12.0"
  }
 },
 "nbformat": 4,
 "nbformat_minor": 2
}
