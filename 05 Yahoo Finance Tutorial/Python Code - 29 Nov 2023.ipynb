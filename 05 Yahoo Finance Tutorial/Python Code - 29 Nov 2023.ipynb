{
 "cells": [
  {
   "cell_type": "markdown",
   "metadata": {},
   "source": [
    "# **Setup**"
   ]
  },
  {
   "cell_type": "code",
   "execution_count": 23,
   "metadata": {},
   "outputs": [],
   "source": [
    "import yfinance as yf\n",
    "import yahoo_fin as si\n",
    "import pandas as pd \n",
    "import numpy as np \n",
    "import matplotlib.pyplot as plt\n",
    "plt.style.use('ggplot')\n",
    "from datetime import datetime"
   ]
  },
  {
   "cell_type": "markdown",
   "metadata": {},
   "source": [
    "## **Check Attributes Of Yahoo Finance**"
   ]
  },
  {
   "cell_type": "code",
   "execution_count": 2,
   "metadata": {},
   "outputs": [
    {
     "data": {
      "text/plain": [
       "<module 'yfinance' from 'c:\\\\Users\\\\aksha\\\\AppData\\\\Local\\\\Programs\\\\Python\\\\Python311\\\\Lib\\\\site-packages\\\\yfinance\\\\__init__.py'>"
      ]
     },
     "execution_count": 2,
     "metadata": {},
     "output_type": "execute_result"
    }
   ],
   "source": [
    "yf"
   ]
  },
  {
   "cell_type": "code",
   "execution_count": 3,
   "metadata": {},
   "outputs": [
    {
     "data": {
      "text/plain": [
       "['Ticker',\n",
       " 'Tickers',\n",
       " '__all__',\n",
       " '__author__',\n",
       " '__builtins__',\n",
       " '__cached__',\n",
       " '__doc__',\n",
       " '__file__',\n",
       " '__loader__',\n",
       " '__name__',\n",
       " '__package__',\n",
       " '__path__',\n",
       " '__spec__',\n",
       " '__version__',\n",
       " 'base',\n",
       " 'cache',\n",
       " 'const',\n",
       " 'data',\n",
       " 'download',\n",
       " 'enable_debug_mode',\n",
       " 'exceptions',\n",
       " 'multi',\n",
       " 'pdr_override',\n",
       " 'scrapers',\n",
       " 'set_tz_cache_location',\n",
       " 'shared',\n",
       " 'ticker',\n",
       " 'tickers',\n",
       " 'utils',\n",
       " 'version']"
      ]
     },
     "execution_count": 3,
     "metadata": {},
     "output_type": "execute_result"
    }
   ],
   "source": [
    "dir(yf)"
   ]
  },
  {
   "cell_type": "markdown",
   "metadata": {},
   "source": [
    "# **Get Stock Data**"
   ]
  },
  {
   "cell_type": "code",
   "execution_count": 4,
   "metadata": {},
   "outputs": [],
   "source": [
    "# Set Stock Ticker\n",
    "Apple_Stock_Ticker = 'AAPL' "
   ]
  },
  {
   "cell_type": "code",
   "execution_count": 5,
   "metadata": {},
   "outputs": [
    {
     "data": {
      "text/plain": [
       "yfinance.Ticker object <AAPL>"
      ]
     },
     "execution_count": 5,
     "metadata": {},
     "output_type": "execute_result"
    }
   ],
   "source": [
    "# Get Stock Data\n",
    "Apple_Stock_Data = yf.Ticker(Apple_Stock_Ticker)\n",
    "Apple_Stock_Data"
   ]
  },
  {
   "cell_type": "code",
   "execution_count": 6,
   "metadata": {},
   "outputs": [
    {
     "name": "stdout",
     "output_type": "stream",
     "text": [
      "['__class__', '__delattr__', '__dict__', '__dir__', '__doc__', '__eq__', '__format__', '__ge__', '__getattribute__', '__getstate__', '__gt__', '__hash__', '__init__', '__init_subclass__', '__le__', '__lt__', '__module__', '__ne__', '__new__', '__reduce__', '__reduce_ex__', '__repr__', '__setattr__', '__sizeof__', '__str__', '__subclasshook__', '__weakref__', '_analysis', '_base_url', '_data', '_download_options', '_earnings', '_earnings_dates', '_expirations', '_fast_info', '_fetch_ticker_tz', '_financials', '_fix_bad_stock_split', '_fix_missing_div_adjust', '_fix_prices_sudden_change', '_fix_unit_mixups', '_fix_unit_random_mixups', '_fix_unit_switch', '_fix_zeroes', '_fundamentals', '_get_ticker_tz', '_history', '_history_metadata', '_history_metadata_formatted', '_holders', '_isin', '_news', '_options2df', '_quote', '_reconstruct_intervals_batch', '_reconstruct_start_interval', '_shares', '_tz', '_underlying', 'actions', 'analyst_price_target', 'balance_sheet', 'balancesheet', 'basic_info', 'calendar', 'capital_gains', 'cash_flow', 'cashflow', 'dividends', 'earnings', 'earnings_dates', 'earnings_forecasts', 'earnings_trend', 'fast_info', 'financials', 'get_actions', 'get_analyst_price_target', 'get_balance_sheet', 'get_balancesheet', 'get_calendar', 'get_capital_gains', 'get_cash_flow', 'get_cashflow', 'get_dividends', 'get_earnings', 'get_earnings_dates', 'get_earnings_forecast', 'get_earnings_trend', 'get_fast_info', 'get_financials', 'get_history_metadata', 'get_income_stmt', 'get_incomestmt', 'get_info', 'get_institutional_holders', 'get_isin', 'get_major_holders', 'get_mutualfund_holders', 'get_news', 'get_recommendations', 'get_recommendations_summary', 'get_rev_forecast', 'get_shares', 'get_shares_full', 'get_splits', 'get_sustainability', 'get_trend_details', 'history', 'history_metadata', 'income_stmt', 'incomestmt', 'info', 'institutional_holders', 'isin', 'major_holders', 'mutualfund_holders', 'news', 'option_chain', 'options', 'quarterly_balance_sheet', 'quarterly_balancesheet', 'quarterly_cash_flow', 'quarterly_cashflow', 'quarterly_earnings', 'quarterly_financials', 'quarterly_income_stmt', 'quarterly_incomestmt', 'recommendations', 'recommendations_summary', 'revenue_forecasts', 'session', 'shares', 'splits', 'sustainability', 'ticker', 'trend_details']\n"
     ]
    }
   ],
   "source": [
    "# Get All Methods & Attributes\n",
    "print(dir(Apple_Stock_Data))"
   ]
  },
  {
   "cell_type": "code",
   "execution_count": 7,
   "metadata": {},
   "outputs": [
    {
     "data": {
      "text/plain": [
       "'AAPL'"
      ]
     },
     "execution_count": 7,
     "metadata": {},
     "output_type": "execute_result"
    }
   ],
   "source": [
    "# Get Ticker\n",
    "Apple_Stock_Data.ticker"
   ]
  },
  {
   "cell_type": "markdown",
   "metadata": {},
   "source": [
    "# **Get Basic Info**"
   ]
  },
  {
   "cell_type": "code",
   "execution_count": 8,
   "metadata": {},
   "outputs": [
    {
     "data": {
      "text/plain": [
       "['currency',\n",
       " 'dayHigh',\n",
       " 'dayLow',\n",
       " 'exchange',\n",
       " 'fiftyDayAverage',\n",
       " 'lastPrice',\n",
       " 'lastVolume',\n",
       " 'marketCap',\n",
       " 'open',\n",
       " 'previousClose',\n",
       " 'quoteType',\n",
       " 'regularMarketPreviousClose',\n",
       " 'shares',\n",
       " 'tenDayAverageVolume',\n",
       " 'threeMonthAverageVolume',\n",
       " 'timezone',\n",
       " 'twoHundredDayAverage',\n",
       " 'yearChange',\n",
       " 'yearHigh',\n",
       " 'yearLow']"
      ]
     },
     "execution_count": 8,
     "metadata": {},
     "output_type": "execute_result"
    }
   ],
   "source": [
    "Apple_Stock_Data.basic_info.keys()"
   ]
  },
  {
   "cell_type": "markdown",
   "metadata": {},
   "source": [
    "### **Get Stock Price**"
   ]
  },
  {
   "cell_type": "code",
   "execution_count": 9,
   "metadata": {},
   "outputs": [
    {
     "name": "stdout",
     "output_type": "stream",
     "text": [
      "Opening Price:  189.77999877929688\n",
      "Lastest Price:  190.39999389648438 \n",
      "\n",
      "Day High Price:  191.0800018310547\n",
      "Day Low Price:  189.39999389648438\n"
     ]
    }
   ],
   "source": [
    "print('Opening Price: ',Apple_Stock_Data.basic_info['open'])\n",
    "print('Lastest Price: ',Apple_Stock_Data.basic_info['lastPrice'],'\\n')\n",
    "print('Day High Price: ',Apple_Stock_Data.basic_info['dayHigh'])\n",
    "print('Day Low Price: ',Apple_Stock_Data.basic_info['dayLow'])"
   ]
  },
  {
   "cell_type": "markdown",
   "metadata": {},
   "source": [
    "### **Get Market Capitalization**"
   ]
  },
  {
   "cell_type": "code",
   "execution_count": 10,
   "metadata": {},
   "outputs": [
    {
     "name": "stdout",
     "output_type": "stream",
     "text": [
      "Market Capitalization:  2961.25 Billion USD\n"
     ]
    }
   ],
   "source": [
    "print('Market Capitalization: ',round(Apple_Stock_Data.basic_info['marketCap']/(10**9),2),'Billion USD')"
   ]
  },
  {
   "cell_type": "markdown",
   "metadata": {},
   "source": [
    "### **Get Trading Currency**"
   ]
  },
  {
   "cell_type": "code",
   "execution_count": 11,
   "metadata": {},
   "outputs": [
    {
     "data": {
      "text/plain": [
       "'USD'"
      ]
     },
     "execution_count": 11,
     "metadata": {},
     "output_type": "execute_result"
    }
   ],
   "source": [
    "Apple_Stock_Data.basic_info['currency']"
   ]
  },
  {
   "cell_type": "markdown",
   "metadata": {},
   "source": [
    "### **Get Moving Averages**"
   ]
  },
  {
   "cell_type": "code",
   "execution_count": 12,
   "metadata": {},
   "outputs": [
    {
     "name": "stdout",
     "output_type": "stream",
     "text": [
      "50 Day Average:  178.61020080566405\n",
      "200 Day Average:  174.72625045776368\n"
     ]
    }
   ],
   "source": [
    "print('50 Day Average: ', Apple_Stock_Data.basic_info['fiftyDayAverage'])\n",
    "print('200 Day Average: ', Apple_Stock_Data.basic_info['twoHundredDayAverage'])"
   ]
  },
  {
   "cell_type": "markdown",
   "metadata": {},
   "source": [
    "# **Get Financial Info**"
   ]
  },
  {
   "cell_type": "markdown",
   "metadata": {},
   "source": [
    "## **Get Financial Statement**"
   ]
  },
  {
   "cell_type": "code",
   "execution_count": 16,
   "metadata": {},
   "outputs": [
    {
     "data": {
      "text/html": [
       "<div>\n",
       "<style scoped>\n",
       "    .dataframe tbody tr th:only-of-type {\n",
       "        vertical-align: middle;\n",
       "    }\n",
       "\n",
       "    .dataframe tbody tr th {\n",
       "        vertical-align: top;\n",
       "    }\n",
       "\n",
       "    .dataframe thead th {\n",
       "        text-align: right;\n",
       "    }\n",
       "</style>\n",
       "<table border=\"1\" class=\"dataframe\">\n",
       "  <thead>\n",
       "    <tr style=\"text-align: right;\">\n",
       "      <th></th>\n",
       "      <th>2023-09-30</th>\n",
       "      <th>2022-09-30</th>\n",
       "      <th>2021-09-30</th>\n",
       "      <th>2020-09-30</th>\n",
       "    </tr>\n",
       "  </thead>\n",
       "  <tbody>\n",
       "    <tr>\n",
       "      <th>TaxEffectOfUnusualItems</th>\n",
       "      <td>0.0</td>\n",
       "      <td>0.0</td>\n",
       "      <td>0.0</td>\n",
       "      <td>0.0</td>\n",
       "    </tr>\n",
       "    <tr>\n",
       "      <th>TaxRateForCalcs</th>\n",
       "      <td>0.147192</td>\n",
       "      <td>0.162045</td>\n",
       "      <td>0.133023</td>\n",
       "      <td>0.144282</td>\n",
       "    </tr>\n",
       "    <tr>\n",
       "      <th>NormalizedEBITDA</th>\n",
       "      <td>125820000000.0</td>\n",
       "      <td>130541000000.0</td>\n",
       "      <td>120233000000.0</td>\n",
       "      <td>77344000000.0</td>\n",
       "    </tr>\n",
       "    <tr>\n",
       "      <th>NetIncomeFromContinuingOperationNetMinorityInterest</th>\n",
       "      <td>96995000000.0</td>\n",
       "      <td>99803000000.0</td>\n",
       "      <td>94680000000.0</td>\n",
       "      <td>57411000000.0</td>\n",
       "    </tr>\n",
       "    <tr>\n",
       "      <th>ReconciledDepreciation</th>\n",
       "      <td>11519000000.0</td>\n",
       "      <td>11104000000.0</td>\n",
       "      <td>11284000000.0</td>\n",
       "      <td>11056000000.0</td>\n",
       "    </tr>\n",
       "    <tr>\n",
       "      <th>ReconciledCostOfRevenue</th>\n",
       "      <td>214137000000.0</td>\n",
       "      <td>223546000000.0</td>\n",
       "      <td>212981000000.0</td>\n",
       "      <td>169559000000.0</td>\n",
       "    </tr>\n",
       "    <tr>\n",
       "      <th>EBITDA</th>\n",
       "      <td>125820000000.0</td>\n",
       "      <td>130541000000.0</td>\n",
       "      <td>120233000000.0</td>\n",
       "      <td>77344000000.0</td>\n",
       "    </tr>\n",
       "    <tr>\n",
       "      <th>EBIT</th>\n",
       "      <td>114301000000.0</td>\n",
       "      <td>119437000000.0</td>\n",
       "      <td>108949000000.0</td>\n",
       "      <td>66288000000.0</td>\n",
       "    </tr>\n",
       "    <tr>\n",
       "      <th>NetInterestIncome</th>\n",
       "      <td>NaN</td>\n",
       "      <td>-106000000.0</td>\n",
       "      <td>198000000.0</td>\n",
       "      <td>890000000.0</td>\n",
       "    </tr>\n",
       "    <tr>\n",
       "      <th>InterestExpense</th>\n",
       "      <td>NaN</td>\n",
       "      <td>2931000000.0</td>\n",
       "      <td>2645000000.0</td>\n",
       "      <td>2873000000.0</td>\n",
       "    </tr>\n",
       "    <tr>\n",
       "      <th>InterestIncome</th>\n",
       "      <td>NaN</td>\n",
       "      <td>2825000000.0</td>\n",
       "      <td>2843000000.0</td>\n",
       "      <td>3763000000.0</td>\n",
       "    </tr>\n",
       "    <tr>\n",
       "      <th>NormalizedIncome</th>\n",
       "      <td>96995000000.0</td>\n",
       "      <td>99803000000.0</td>\n",
       "      <td>94680000000.0</td>\n",
       "      <td>57411000000.0</td>\n",
       "    </tr>\n",
       "    <tr>\n",
       "      <th>NetIncomeFromContinuingAndDiscontinuedOperation</th>\n",
       "      <td>96995000000.0</td>\n",
       "      <td>99803000000.0</td>\n",
       "      <td>94680000000.0</td>\n",
       "      <td>57411000000.0</td>\n",
       "    </tr>\n",
       "    <tr>\n",
       "      <th>TotalExpenses</th>\n",
       "      <td>268984000000.0</td>\n",
       "      <td>274891000000.0</td>\n",
       "      <td>256868000000.0</td>\n",
       "      <td>208227000000.0</td>\n",
       "    </tr>\n",
       "    <tr>\n",
       "      <th>TotalOperatingIncomeAsReported</th>\n",
       "      <td>114301000000.0</td>\n",
       "      <td>119437000000.0</td>\n",
       "      <td>108949000000.0</td>\n",
       "      <td>66288000000.0</td>\n",
       "    </tr>\n",
       "    <tr>\n",
       "      <th>DilutedAverageShares</th>\n",
       "      <td>15812547000.0</td>\n",
       "      <td>16325819000.0</td>\n",
       "      <td>16864919000.0</td>\n",
       "      <td>17528214000.0</td>\n",
       "    </tr>\n",
       "    <tr>\n",
       "      <th>BasicAverageShares</th>\n",
       "      <td>15744231000.0</td>\n",
       "      <td>16215963000.0</td>\n",
       "      <td>16701272000.0</td>\n",
       "      <td>17352119000.0</td>\n",
       "    </tr>\n",
       "    <tr>\n",
       "      <th>DilutedEPS</th>\n",
       "      <td>6.13</td>\n",
       "      <td>6.11</td>\n",
       "      <td>5.61</td>\n",
       "      <td>3.28</td>\n",
       "    </tr>\n",
       "    <tr>\n",
       "      <th>BasicEPS</th>\n",
       "      <td>6.16</td>\n",
       "      <td>6.15</td>\n",
       "      <td>5.67</td>\n",
       "      <td>3.31</td>\n",
       "    </tr>\n",
       "    <tr>\n",
       "      <th>DilutedNIAvailtoComStockholders</th>\n",
       "      <td>96995000000.0</td>\n",
       "      <td>99803000000.0</td>\n",
       "      <td>94680000000.0</td>\n",
       "      <td>57411000000.0</td>\n",
       "    </tr>\n",
       "    <tr>\n",
       "      <th>NetIncomeCommonStockholders</th>\n",
       "      <td>96995000000.0</td>\n",
       "      <td>99803000000.0</td>\n",
       "      <td>94680000000.0</td>\n",
       "      <td>57411000000.0</td>\n",
       "    </tr>\n",
       "    <tr>\n",
       "      <th>NetIncome</th>\n",
       "      <td>96995000000.0</td>\n",
       "      <td>99803000000.0</td>\n",
       "      <td>94680000000.0</td>\n",
       "      <td>57411000000.0</td>\n",
       "    </tr>\n",
       "    <tr>\n",
       "      <th>NetIncomeIncludingNoncontrollingInterests</th>\n",
       "      <td>96995000000.0</td>\n",
       "      <td>99803000000.0</td>\n",
       "      <td>94680000000.0</td>\n",
       "      <td>57411000000.0</td>\n",
       "    </tr>\n",
       "    <tr>\n",
       "      <th>NetIncomeContinuousOperations</th>\n",
       "      <td>96995000000.0</td>\n",
       "      <td>99803000000.0</td>\n",
       "      <td>94680000000.0</td>\n",
       "      <td>57411000000.0</td>\n",
       "    </tr>\n",
       "    <tr>\n",
       "      <th>TaxProvision</th>\n",
       "      <td>16741000000.0</td>\n",
       "      <td>19300000000.0</td>\n",
       "      <td>14527000000.0</td>\n",
       "      <td>9680000000.0</td>\n",
       "    </tr>\n",
       "    <tr>\n",
       "      <th>PretaxIncome</th>\n",
       "      <td>113736000000.0</td>\n",
       "      <td>119103000000.0</td>\n",
       "      <td>109207000000.0</td>\n",
       "      <td>67091000000.0</td>\n",
       "    </tr>\n",
       "    <tr>\n",
       "      <th>OtherIncomeExpense</th>\n",
       "      <td>-565000000.0</td>\n",
       "      <td>-334000000.0</td>\n",
       "      <td>258000000.0</td>\n",
       "      <td>803000000.0</td>\n",
       "    </tr>\n",
       "    <tr>\n",
       "      <th>OtherNonOperatingIncomeExpenses</th>\n",
       "      <td>-565000000.0</td>\n",
       "      <td>-334000000.0</td>\n",
       "      <td>258000000.0</td>\n",
       "      <td>803000000.0</td>\n",
       "    </tr>\n",
       "    <tr>\n",
       "      <th>NetNonOperatingInterestIncomeExpense</th>\n",
       "      <td>NaN</td>\n",
       "      <td>-106000000.0</td>\n",
       "      <td>198000000.0</td>\n",
       "      <td>890000000.0</td>\n",
       "    </tr>\n",
       "    <tr>\n",
       "      <th>InterestExpenseNonOperating</th>\n",
       "      <td>NaN</td>\n",
       "      <td>2931000000.0</td>\n",
       "      <td>2645000000.0</td>\n",
       "      <td>2873000000.0</td>\n",
       "    </tr>\n",
       "    <tr>\n",
       "      <th>InterestIncomeNonOperating</th>\n",
       "      <td>NaN</td>\n",
       "      <td>2825000000.0</td>\n",
       "      <td>2843000000.0</td>\n",
       "      <td>3763000000.0</td>\n",
       "    </tr>\n",
       "    <tr>\n",
       "      <th>OperatingIncome</th>\n",
       "      <td>114301000000.0</td>\n",
       "      <td>119437000000.0</td>\n",
       "      <td>108949000000.0</td>\n",
       "      <td>66288000000.0</td>\n",
       "    </tr>\n",
       "    <tr>\n",
       "      <th>OperatingExpense</th>\n",
       "      <td>54847000000.0</td>\n",
       "      <td>51345000000.0</td>\n",
       "      <td>43887000000.0</td>\n",
       "      <td>38668000000.0</td>\n",
       "    </tr>\n",
       "    <tr>\n",
       "      <th>ResearchAndDevelopment</th>\n",
       "      <td>29915000000.0</td>\n",
       "      <td>26251000000.0</td>\n",
       "      <td>21914000000.0</td>\n",
       "      <td>18752000000.0</td>\n",
       "    </tr>\n",
       "    <tr>\n",
       "      <th>SellingGeneralAndAdministration</th>\n",
       "      <td>24932000000.0</td>\n",
       "      <td>25094000000.0</td>\n",
       "      <td>21973000000.0</td>\n",
       "      <td>19916000000.0</td>\n",
       "    </tr>\n",
       "    <tr>\n",
       "      <th>GrossProfit</th>\n",
       "      <td>169148000000.0</td>\n",
       "      <td>170782000000.0</td>\n",
       "      <td>152836000000.0</td>\n",
       "      <td>104956000000.0</td>\n",
       "    </tr>\n",
       "    <tr>\n",
       "      <th>CostOfRevenue</th>\n",
       "      <td>214137000000.0</td>\n",
       "      <td>223546000000.0</td>\n",
       "      <td>212981000000.0</td>\n",
       "      <td>169559000000.0</td>\n",
       "    </tr>\n",
       "    <tr>\n",
       "      <th>TotalRevenue</th>\n",
       "      <td>383285000000.0</td>\n",
       "      <td>394328000000.0</td>\n",
       "      <td>365817000000.0</td>\n",
       "      <td>274515000000.0</td>\n",
       "    </tr>\n",
       "    <tr>\n",
       "      <th>OperatingRevenue</th>\n",
       "      <td>383285000000.0</td>\n",
       "      <td>394328000000.0</td>\n",
       "      <td>365817000000.0</td>\n",
       "      <td>274515000000.0</td>\n",
       "    </tr>\n",
       "  </tbody>\n",
       "</table>\n",
       "</div>"
      ],
      "text/plain": [
       "                                                        2023-09-30  \\\n",
       "TaxEffectOfUnusualItems                                        0.0   \n",
       "TaxRateForCalcs                                           0.147192   \n",
       "NormalizedEBITDA                                    125820000000.0   \n",
       "NetIncomeFromContinuingOperationNetMinorityInte...   96995000000.0   \n",
       "ReconciledDepreciation                               11519000000.0   \n",
       "ReconciledCostOfRevenue                             214137000000.0   \n",
       "EBITDA                                              125820000000.0   \n",
       "EBIT                                                114301000000.0   \n",
       "NetInterestIncome                                              NaN   \n",
       "InterestExpense                                                NaN   \n",
       "InterestIncome                                                 NaN   \n",
       "NormalizedIncome                                     96995000000.0   \n",
       "NetIncomeFromContinuingAndDiscontinuedOperation      96995000000.0   \n",
       "TotalExpenses                                       268984000000.0   \n",
       "TotalOperatingIncomeAsReported                      114301000000.0   \n",
       "DilutedAverageShares                                 15812547000.0   \n",
       "BasicAverageShares                                   15744231000.0   \n",
       "DilutedEPS                                                    6.13   \n",
       "BasicEPS                                                      6.16   \n",
       "DilutedNIAvailtoComStockholders                      96995000000.0   \n",
       "NetIncomeCommonStockholders                          96995000000.0   \n",
       "NetIncome                                            96995000000.0   \n",
       "NetIncomeIncludingNoncontrollingInterests            96995000000.0   \n",
       "NetIncomeContinuousOperations                        96995000000.0   \n",
       "TaxProvision                                         16741000000.0   \n",
       "PretaxIncome                                        113736000000.0   \n",
       "OtherIncomeExpense                                    -565000000.0   \n",
       "OtherNonOperatingIncomeExpenses                       -565000000.0   \n",
       "NetNonOperatingInterestIncomeExpense                           NaN   \n",
       "InterestExpenseNonOperating                                    NaN   \n",
       "InterestIncomeNonOperating                                     NaN   \n",
       "OperatingIncome                                     114301000000.0   \n",
       "OperatingExpense                                     54847000000.0   \n",
       "ResearchAndDevelopment                               29915000000.0   \n",
       "SellingGeneralAndAdministration                      24932000000.0   \n",
       "GrossProfit                                         169148000000.0   \n",
       "CostOfRevenue                                       214137000000.0   \n",
       "TotalRevenue                                        383285000000.0   \n",
       "OperatingRevenue                                    383285000000.0   \n",
       "\n",
       "                                                        2022-09-30  \\\n",
       "TaxEffectOfUnusualItems                                        0.0   \n",
       "TaxRateForCalcs                                           0.162045   \n",
       "NormalizedEBITDA                                    130541000000.0   \n",
       "NetIncomeFromContinuingOperationNetMinorityInte...   99803000000.0   \n",
       "ReconciledDepreciation                               11104000000.0   \n",
       "ReconciledCostOfRevenue                             223546000000.0   \n",
       "EBITDA                                              130541000000.0   \n",
       "EBIT                                                119437000000.0   \n",
       "NetInterestIncome                                     -106000000.0   \n",
       "InterestExpense                                       2931000000.0   \n",
       "InterestIncome                                        2825000000.0   \n",
       "NormalizedIncome                                     99803000000.0   \n",
       "NetIncomeFromContinuingAndDiscontinuedOperation      99803000000.0   \n",
       "TotalExpenses                                       274891000000.0   \n",
       "TotalOperatingIncomeAsReported                      119437000000.0   \n",
       "DilutedAverageShares                                 16325819000.0   \n",
       "BasicAverageShares                                   16215963000.0   \n",
       "DilutedEPS                                                    6.11   \n",
       "BasicEPS                                                      6.15   \n",
       "DilutedNIAvailtoComStockholders                      99803000000.0   \n",
       "NetIncomeCommonStockholders                          99803000000.0   \n",
       "NetIncome                                            99803000000.0   \n",
       "NetIncomeIncludingNoncontrollingInterests            99803000000.0   \n",
       "NetIncomeContinuousOperations                        99803000000.0   \n",
       "TaxProvision                                         19300000000.0   \n",
       "PretaxIncome                                        119103000000.0   \n",
       "OtherIncomeExpense                                    -334000000.0   \n",
       "OtherNonOperatingIncomeExpenses                       -334000000.0   \n",
       "NetNonOperatingInterestIncomeExpense                  -106000000.0   \n",
       "InterestExpenseNonOperating                           2931000000.0   \n",
       "InterestIncomeNonOperating                            2825000000.0   \n",
       "OperatingIncome                                     119437000000.0   \n",
       "OperatingExpense                                     51345000000.0   \n",
       "ResearchAndDevelopment                               26251000000.0   \n",
       "SellingGeneralAndAdministration                      25094000000.0   \n",
       "GrossProfit                                         170782000000.0   \n",
       "CostOfRevenue                                       223546000000.0   \n",
       "TotalRevenue                                        394328000000.0   \n",
       "OperatingRevenue                                    394328000000.0   \n",
       "\n",
       "                                                        2021-09-30  \\\n",
       "TaxEffectOfUnusualItems                                        0.0   \n",
       "TaxRateForCalcs                                           0.133023   \n",
       "NormalizedEBITDA                                    120233000000.0   \n",
       "NetIncomeFromContinuingOperationNetMinorityInte...   94680000000.0   \n",
       "ReconciledDepreciation                               11284000000.0   \n",
       "ReconciledCostOfRevenue                             212981000000.0   \n",
       "EBITDA                                              120233000000.0   \n",
       "EBIT                                                108949000000.0   \n",
       "NetInterestIncome                                      198000000.0   \n",
       "InterestExpense                                       2645000000.0   \n",
       "InterestIncome                                        2843000000.0   \n",
       "NormalizedIncome                                     94680000000.0   \n",
       "NetIncomeFromContinuingAndDiscontinuedOperation      94680000000.0   \n",
       "TotalExpenses                                       256868000000.0   \n",
       "TotalOperatingIncomeAsReported                      108949000000.0   \n",
       "DilutedAverageShares                                 16864919000.0   \n",
       "BasicAverageShares                                   16701272000.0   \n",
       "DilutedEPS                                                    5.61   \n",
       "BasicEPS                                                      5.67   \n",
       "DilutedNIAvailtoComStockholders                      94680000000.0   \n",
       "NetIncomeCommonStockholders                          94680000000.0   \n",
       "NetIncome                                            94680000000.0   \n",
       "NetIncomeIncludingNoncontrollingInterests            94680000000.0   \n",
       "NetIncomeContinuousOperations                        94680000000.0   \n",
       "TaxProvision                                         14527000000.0   \n",
       "PretaxIncome                                        109207000000.0   \n",
       "OtherIncomeExpense                                     258000000.0   \n",
       "OtherNonOperatingIncomeExpenses                        258000000.0   \n",
       "NetNonOperatingInterestIncomeExpense                   198000000.0   \n",
       "InterestExpenseNonOperating                           2645000000.0   \n",
       "InterestIncomeNonOperating                            2843000000.0   \n",
       "OperatingIncome                                     108949000000.0   \n",
       "OperatingExpense                                     43887000000.0   \n",
       "ResearchAndDevelopment                               21914000000.0   \n",
       "SellingGeneralAndAdministration                      21973000000.0   \n",
       "GrossProfit                                         152836000000.0   \n",
       "CostOfRevenue                                       212981000000.0   \n",
       "TotalRevenue                                        365817000000.0   \n",
       "OperatingRevenue                                    365817000000.0   \n",
       "\n",
       "                                                        2020-09-30  \n",
       "TaxEffectOfUnusualItems                                        0.0  \n",
       "TaxRateForCalcs                                           0.144282  \n",
       "NormalizedEBITDA                                     77344000000.0  \n",
       "NetIncomeFromContinuingOperationNetMinorityInte...   57411000000.0  \n",
       "ReconciledDepreciation                               11056000000.0  \n",
       "ReconciledCostOfRevenue                             169559000000.0  \n",
       "EBITDA                                               77344000000.0  \n",
       "EBIT                                                 66288000000.0  \n",
       "NetInterestIncome                                      890000000.0  \n",
       "InterestExpense                                       2873000000.0  \n",
       "InterestIncome                                        3763000000.0  \n",
       "NormalizedIncome                                     57411000000.0  \n",
       "NetIncomeFromContinuingAndDiscontinuedOperation      57411000000.0  \n",
       "TotalExpenses                                       208227000000.0  \n",
       "TotalOperatingIncomeAsReported                       66288000000.0  \n",
       "DilutedAverageShares                                 17528214000.0  \n",
       "BasicAverageShares                                   17352119000.0  \n",
       "DilutedEPS                                                    3.28  \n",
       "BasicEPS                                                      3.31  \n",
       "DilutedNIAvailtoComStockholders                      57411000000.0  \n",
       "NetIncomeCommonStockholders                          57411000000.0  \n",
       "NetIncome                                            57411000000.0  \n",
       "NetIncomeIncludingNoncontrollingInterests            57411000000.0  \n",
       "NetIncomeContinuousOperations                        57411000000.0  \n",
       "TaxProvision                                          9680000000.0  \n",
       "PretaxIncome                                         67091000000.0  \n",
       "OtherIncomeExpense                                     803000000.0  \n",
       "OtherNonOperatingIncomeExpenses                        803000000.0  \n",
       "NetNonOperatingInterestIncomeExpense                   890000000.0  \n",
       "InterestExpenseNonOperating                           2873000000.0  \n",
       "InterestIncomeNonOperating                            3763000000.0  \n",
       "OperatingIncome                                      66288000000.0  \n",
       "OperatingExpense                                     38668000000.0  \n",
       "ResearchAndDevelopment                               18752000000.0  \n",
       "SellingGeneralAndAdministration                      19916000000.0  \n",
       "GrossProfit                                         104956000000.0  \n",
       "CostOfRevenue                                       169559000000.0  \n",
       "TotalRevenue                                        274515000000.0  \n",
       "OperatingRevenue                                    274515000000.0  "
      ]
     },
     "execution_count": 16,
     "metadata": {},
     "output_type": "execute_result"
    }
   ],
   "source": [
    "Apple_Stock_Data.get_financials()"
   ]
  },
  {
   "cell_type": "code",
   "execution_count": 17,
   "metadata": {},
   "outputs": [
    {
     "data": {
      "text/plain": [
       "pandas.core.frame.DataFrame"
      ]
     },
     "execution_count": 17,
     "metadata": {},
     "output_type": "execute_result"
    }
   ],
   "source": [
    "type(Apple_Stock_Data.get_financials())"
   ]
  },
  {
   "cell_type": "code",
   "execution_count": 22,
   "metadata": {},
   "outputs": [
    {
     "data": {
      "text/plain": [
       "Index(['TaxEffectOfUnusualItems', 'TaxRateForCalcs', 'NormalizedEBITDA',\n",
       "       'NetIncomeFromContinuingOperationNetMinorityInterest',\n",
       "       'ReconciledDepreciation', 'ReconciledCostOfRevenue', 'EBITDA', 'EBIT',\n",
       "       'NetInterestIncome', 'InterestExpense', 'InterestIncome',\n",
       "       'NormalizedIncome', 'NetIncomeFromContinuingAndDiscontinuedOperation',\n",
       "       'TotalExpenses', 'TotalOperatingIncomeAsReported',\n",
       "       'DilutedAverageShares', 'BasicAverageShares', 'DilutedEPS', 'BasicEPS',\n",
       "       'DilutedNIAvailtoComStockholders', 'NetIncomeCommonStockholders',\n",
       "       'NetIncome', 'NetIncomeIncludingNoncontrollingInterests',\n",
       "       'NetIncomeContinuousOperations', 'TaxProvision', 'PretaxIncome',\n",
       "       'OtherIncomeExpense', 'OtherNonOperatingIncomeExpenses',\n",
       "       'NetNonOperatingInterestIncomeExpense', 'InterestExpenseNonOperating',\n",
       "       'InterestIncomeNonOperating', 'OperatingIncome', 'OperatingExpense',\n",
       "       'ResearchAndDevelopment', 'SellingGeneralAndAdministration',\n",
       "       'GrossProfit', 'CostOfRevenue', 'TotalRevenue', 'OperatingRevenue'],\n",
       "      dtype='object')"
      ]
     },
     "execution_count": 22,
     "metadata": {},
     "output_type": "execute_result"
    }
   ],
   "source": [
    "Apple_Stock_Data.get_financials().index"
   ]
  },
  {
   "cell_type": "markdown",
   "metadata": {},
   "source": [
    "## **Plot EBIDTA**"
   ]
  },
  {
   "cell_type": "code",
   "execution_count": 20,
   "metadata": {},
   "outputs": [
    {
     "data": {
      "text/plain": [
       "2023-09-30    125820000000.0\n",
       "2022-09-30    130541000000.0\n",
       "2021-09-30    120233000000.0\n",
       "2020-09-30     77344000000.0\n",
       "Name: EBITDA, dtype: object"
      ]
     },
     "execution_count": 20,
     "metadata": {},
     "output_type": "execute_result"
    }
   ],
   "source": [
    "Apple_Stock_Data.get_financials().loc['EBITDA']"
   ]
  },
  {
   "cell_type": "code",
   "execution_count": 31,
   "metadata": {},
   "outputs": [
    {
     "data": {
      "text/plain": [
       "DatetimeIndex(['2023-09-30', '2022-09-30', '2021-09-30', '2020-09-30'], dtype='datetime64[ns]', freq=None)"
      ]
     },
     "execution_count": 31,
     "metadata": {},
     "output_type": "execute_result"
    }
   ],
   "source": [
    "Apple_Stock_Data.get_financials().loc['EBITDA'].index"
   ]
  },
  {
   "cell_type": "code",
   "execution_count": 30,
   "metadata": {},
   "outputs": [
    {
     "data": {
      "text/plain": [
       "array([125820000000.0, 130541000000.0, 120233000000.0, 77344000000.0],\n",
       "      dtype=object)"
      ]
     },
     "execution_count": 30,
     "metadata": {},
     "output_type": "execute_result"
    }
   ],
   "source": [
    "Apple_Stock_Data.get_financials().loc['EBITDA'].values"
   ]
  },
  {
   "cell_type": "code",
   "execution_count": 34,
   "metadata": {},
   "outputs": [
    {
     "data": {
      "text/plain": [
       "Text(0.5, 1.0, 'Apple EBITDA')"
      ]
     },
     "execution_count": 34,
     "metadata": {},
     "output_type": "execute_result"
    },
    {
     "data": {
      "image/png": "[encoded data removed]",
      "text/plain": [
       "<Figure size 640x480 with 1 Axes>"
      ]
     },
     "metadata": {},
     "output_type": "display_data"
    }
   ],
   "source": [
    "plt.plot(\n",
    "    Apple_Stock_Data.get_financials().loc['EBITDA'].index,\n",
    "    Apple_Stock_Data.get_financials().loc['EBITDA'].values,\n",
    "    marker='o')\n",
    "plt.xticks(rotation=45)\n",
    "plt.title('Apple EBITDA')"
   ]
  },
  {
   "cell_type": "markdown",
   "metadata": {},
   "source": [
    "## **Get Revenue**"
   ]
  },
  {
   "cell_type": "code",
   "execution_count": null,
   "metadata": {},
   "outputs": [],
   "source": []
  },
  {
   "cell_type": "markdown",
   "metadata": {},
   "source": [
    "# **Get Shareholder Details**"
   ]
  },
  {
   "cell_type": "markdown",
   "metadata": {},
   "source": [
    "## **Major Shareholders**"
   ]
  },
  {
   "cell_type": "code",
   "execution_count": 27,
   "metadata": {},
   "outputs": [
    {
     "data": {
      "text/html": [
       "<div>\n",
       "<style scoped>\n",
       "    .dataframe tbody tr th:only-of-type {\n",
       "        vertical-align: middle;\n",
       "    }\n",
       "\n",
       "    .dataframe tbody tr th {\n",
       "        vertical-align: top;\n",
       "    }\n",
       "\n",
       "    .dataframe thead th {\n",
       "        text-align: right;\n",
       "    }\n",
       "</style>\n",
       "<table border=\"1\" class=\"dataframe\">\n",
       "  <thead>\n",
       "    <tr style=\"text-align: right;\">\n",
       "      <th></th>\n",
       "      <th>0</th>\n",
       "      <th>1</th>\n",
       "    </tr>\n",
       "  </thead>\n",
       "  <tbody>\n",
       "    <tr>\n",
       "      <th>0</th>\n",
       "      <td>0.07%</td>\n",
       "      <td>% of Shares Held by All Insider</td>\n",
       "    </tr>\n",
       "    <tr>\n",
       "      <th>1</th>\n",
       "      <td>61.32%</td>\n",
       "      <td>% of Shares Held by Institutions</td>\n",
       "    </tr>\n",
       "    <tr>\n",
       "      <th>2</th>\n",
       "      <td>61.36%</td>\n",
       "      <td>% of Float Held by Institutions</td>\n",
       "    </tr>\n",
       "    <tr>\n",
       "      <th>3</th>\n",
       "      <td>5762</td>\n",
       "      <td>Number of Institutions Holding Shares</td>\n",
       "    </tr>\n",
       "  </tbody>\n",
       "</table>\n",
       "</div>"
      ],
      "text/plain": [
       "        0                                      1\n",
       "0   0.07%        % of Shares Held by All Insider\n",
       "1  61.32%       % of Shares Held by Institutions\n",
       "2  61.36%        % of Float Held by Institutions\n",
       "3    5762  Number of Institutions Holding Shares"
      ]
     },
     "execution_count": 27,
     "metadata": {},
     "output_type": "execute_result"
    }
   ],
   "source": [
    "Apple_Stock_Data.get_major_holders()"
   ]
  },
  {
   "cell_type": "markdown",
   "metadata": {},
   "source": [
    "## **Institutional Holders**"
   ]
  },
  {
   "cell_type": "code",
   "execution_count": 28,
   "metadata": {},
   "outputs": [
    {
     "data": {
      "text/html": [
       "<div>\n",
       "<style scoped>\n",
       "    .dataframe tbody tr th:only-of-type {\n",
       "        vertical-align: middle;\n",
       "    }\n",
       "\n",
       "    .dataframe tbody tr th {\n",
       "        vertical-align: top;\n",
       "    }\n",
       "\n",
       "    .dataframe thead th {\n",
       "        text-align: right;\n",
       "    }\n",
       "</style>\n",
       "<table border=\"1\" class=\"dataframe\">\n",
       "  <thead>\n",
       "    <tr style=\"text-align: right;\">\n",
       "      <th></th>\n",
       "      <th>Holder</th>\n",
       "      <th>Shares</th>\n",
       "      <th>Date Reported</th>\n",
       "      <th>% Out</th>\n",
       "      <th>Value</th>\n",
       "    </tr>\n",
       "  </thead>\n",
       "  <tbody>\n",
       "    <tr>\n",
       "      <th>0</th>\n",
       "      <td>Vanguard Group Inc</td>\n",
       "      <td>1299997133</td>\n",
       "      <td>2023-09-29</td>\n",
       "      <td>0.0836</td>\n",
       "      <td>247519446188</td>\n",
       "    </tr>\n",
       "    <tr>\n",
       "      <th>1</th>\n",
       "      <td>Blackrock Inc.</td>\n",
       "      <td>1031407553</td>\n",
       "      <td>2023-09-29</td>\n",
       "      <td>0.0663</td>\n",
       "      <td>196379991795</td>\n",
       "    </tr>\n",
       "    <tr>\n",
       "      <th>2</th>\n",
       "      <td>Berkshire Hathaway, Inc</td>\n",
       "      <td>915560382</td>\n",
       "      <td>2023-09-29</td>\n",
       "      <td>0.0589</td>\n",
       "      <td>174322691144</td>\n",
       "    </tr>\n",
       "    <tr>\n",
       "      <th>3</th>\n",
       "      <td>State Street Corporation</td>\n",
       "      <td>569291690</td>\n",
       "      <td>2023-09-29</td>\n",
       "      <td>0.0366</td>\n",
       "      <td>108393134301</td>\n",
       "    </tr>\n",
       "    <tr>\n",
       "      <th>4</th>\n",
       "      <td>FMR, LLC</td>\n",
       "      <td>298321726</td>\n",
       "      <td>2023-09-29</td>\n",
       "      <td>0.0192</td>\n",
       "      <td>56800454809</td>\n",
       "    </tr>\n",
       "    <tr>\n",
       "      <th>5</th>\n",
       "      <td>Geode Capital Management, LLC</td>\n",
       "      <td>296103070</td>\n",
       "      <td>2023-09-29</td>\n",
       "      <td>0.0190</td>\n",
       "      <td>56378022720</td>\n",
       "    </tr>\n",
       "    <tr>\n",
       "      <th>6</th>\n",
       "      <td>Price (T.Rowe) Associates Inc</td>\n",
       "      <td>216307878</td>\n",
       "      <td>2023-09-29</td>\n",
       "      <td>0.0139</td>\n",
       "      <td>41185018650</td>\n",
       "    </tr>\n",
       "    <tr>\n",
       "      <th>7</th>\n",
       "      <td>Morgan Stanley</td>\n",
       "      <td>206732960</td>\n",
       "      <td>2023-09-29</td>\n",
       "      <td>0.0133</td>\n",
       "      <td>39361954322</td>\n",
       "    </tr>\n",
       "    <tr>\n",
       "      <th>8</th>\n",
       "      <td>Northern Trust Corporation</td>\n",
       "      <td>168874976</td>\n",
       "      <td>2023-09-29</td>\n",
       "      <td>0.0109</td>\n",
       "      <td>32153794399</td>\n",
       "    </tr>\n",
       "    <tr>\n",
       "      <th>9</th>\n",
       "      <td>Norges Bank Investment Management</td>\n",
       "      <td>167374278</td>\n",
       "      <td>2022-12-30</td>\n",
       "      <td>0.0108</td>\n",
       "      <td>31868061509</td>\n",
       "    </tr>\n",
       "  </tbody>\n",
       "</table>\n",
       "</div>"
      ],
      "text/plain": [
       "                              Holder      Shares Date Reported   % Out  \\\n",
       "0                 Vanguard Group Inc  1299997133    2023-09-29  0.0836   \n",
       "1                     Blackrock Inc.  1031407553    2023-09-29  0.0663   \n",
       "2            Berkshire Hathaway, Inc   915560382    2023-09-29  0.0589   \n",
       "3           State Street Corporation   569291690    2023-09-29  0.0366   \n",
       "4                           FMR, LLC   298321726    2023-09-29  0.0192   \n",
       "5      Geode Capital Management, LLC   296103070    2023-09-29  0.0190   \n",
       "6      Price (T.Rowe) Associates Inc   216307878    2023-09-29  0.0139   \n",
       "7                     Morgan Stanley   206732960    2023-09-29  0.0133   \n",
       "8         Northern Trust Corporation   168874976    2023-09-29  0.0109   \n",
       "9  Norges Bank Investment Management   167374278    2022-12-30  0.0108   \n",
       "\n",
       "          Value  \n",
       "0  247519446188  \n",
       "1  196379991795  \n",
       "2  174322691144  \n",
       "3  108393134301  \n",
       "4   56800454809  \n",
       "5   56378022720  \n",
       "6   41185018650  \n",
       "7   39361954322  \n",
       "8   32153794399  \n",
       "9   31868061509  "
      ]
     },
     "execution_count": 28,
     "metadata": {},
     "output_type": "execute_result"
    }
   ],
   "source": [
    "Apple_Stock_Data.get_institutional_holders()"
   ]
  },
  {
   "cell_type": "markdown",
   "metadata": {},
   "source": [
    "## **Mutual Fund Holders**"
   ]
  },
  {
   "cell_type": "code",
   "execution_count": null,
   "metadata": {},
   "outputs": [],
   "source": [
    "Apple_Stock_Data.get_mutualfund_holders"
   ]
  }
 ],
 "metadata": {
  "kernelspec": {
   "display_name": "Python 3",
   "language": "python",
   "name": "python3"
  },
  "language_info": {
   "codemirror_mode": {
    "name": "ipython",
    "version": 3
   },
   "file_extension": ".py",
   "mimetype": "text/x-python",
   "name": "python",
   "nbconvert_exporter": "python",
   "pygments_lexer": "ipython3",
   "version": "3.11.6"
  }
 },
 "nbformat": 4,
 "nbformat_minor": 2
}
