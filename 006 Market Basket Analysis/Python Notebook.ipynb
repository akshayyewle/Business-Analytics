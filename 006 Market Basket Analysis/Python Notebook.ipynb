{
 "cells": [
  {
   "cell_type": "markdown",
   "metadata": {},
   "source": [
    "# **Setup**"
   ]
  },
  {
   "cell_type": "code",
   "execution_count": 1,
   "metadata": {},
   "outputs": [],
   "source": [
    "import pandas as pd\n",
    "import matplotlib.pyplot as plt\n",
    "import seaborn as sns\n",
    "import plotly.express as px"
   ]
  },
  {
   "cell_type": "markdown",
   "metadata": {},
   "source": [
    "# **Data Import**"
   ]
  },
  {
   "cell_type": "code",
   "execution_count": 4,
   "metadata": {},
   "outputs": [
    {
     "name": "stdout",
     "output_type": "stream",
     "text": [
      "(500, 5)\n"
     ]
    },
    {
     "data": {
      "text/html": [
       "<div>\n",
       "<style scoped>\n",
       "    .dataframe tbody tr th:only-of-type {\n",
       "        vertical-align: middle;\n",
       "    }\n",
       "\n",
       "    .dataframe tbody tr th {\n",
       "        vertical-align: top;\n",
       "    }\n",
       "\n",
       "    .dataframe thead th {\n",
       "        text-align: right;\n",
       "    }\n",
       "</style>\n",
       "<table border=\"1\" class=\"dataframe\">\n",
       "  <thead>\n",
       "    <tr style=\"text-align: right;\">\n",
       "      <th></th>\n",
       "      <th>BillNo</th>\n",
       "      <th>Itemname</th>\n",
       "      <th>Quantity</th>\n",
       "      <th>Price</th>\n",
       "      <th>CustomerID</th>\n",
       "    </tr>\n",
       "  </thead>\n",
       "  <tbody>\n",
       "    <tr>\n",
       "      <th>0</th>\n",
       "      <td>1000</td>\n",
       "      <td>Apples</td>\n",
       "      <td>5</td>\n",
       "      <td>8.30</td>\n",
       "      <td>52299</td>\n",
       "    </tr>\n",
       "    <tr>\n",
       "      <th>1</th>\n",
       "      <td>1000</td>\n",
       "      <td>Butter</td>\n",
       "      <td>4</td>\n",
       "      <td>6.06</td>\n",
       "      <td>11752</td>\n",
       "    </tr>\n",
       "    <tr>\n",
       "      <th>2</th>\n",
       "      <td>1000</td>\n",
       "      <td>Eggs</td>\n",
       "      <td>4</td>\n",
       "      <td>2.66</td>\n",
       "      <td>16415</td>\n",
       "    </tr>\n",
       "    <tr>\n",
       "      <th>3</th>\n",
       "      <td>1000</td>\n",
       "      <td>Potatoes</td>\n",
       "      <td>4</td>\n",
       "      <td>8.10</td>\n",
       "      <td>22889</td>\n",
       "    </tr>\n",
       "    <tr>\n",
       "      <th>4</th>\n",
       "      <td>1004</td>\n",
       "      <td>Oranges</td>\n",
       "      <td>2</td>\n",
       "      <td>7.26</td>\n",
       "      <td>52255</td>\n",
       "    </tr>\n",
       "  </tbody>\n",
       "</table>\n",
       "</div>"
      ],
      "text/plain": [
       "   BillNo  Itemname  Quantity  Price  CustomerID\n",
       "0    1000    Apples         5   8.30       52299\n",
       "1    1000    Butter         4   6.06       11752\n",
       "2    1000      Eggs         4   2.66       16415\n",
       "3    1000  Potatoes         4   8.10       22889\n",
       "4    1004   Oranges         2   7.26       52255"
      ]
     },
     "execution_count": 4,
     "metadata": {},
     "output_type": "execute_result"
    }
   ],
   "source": [
    "df = pd.read_csv('market_basket_dataset.csv')\n",
    "\n",
    "print(df.shape)\n",
    "df.head()"
   ]
  },
  {
   "cell_type": "markdown",
   "metadata": {},
   "source": [
    "# **Data Validation**"
   ]
  },
  {
   "cell_type": "code",
   "execution_count": 5,
   "metadata": {},
   "outputs": [
    {
     "name": "stdout",
     "output_type": "stream",
     "text": [
      "<class 'pandas.core.frame.DataFrame'>\n",
      "RangeIndex: 500 entries, 0 to 499\n",
      "Data columns (total 5 columns):\n",
      " #   Column      Non-Null Count  Dtype  \n",
      "---  ------      --------------  -----  \n",
      " 0   BillNo      500 non-null    int64  \n",
      " 1   Itemname    500 non-null    object \n",
      " 2   Quantity    500 non-null    int64  \n",
      " 3   Price       500 non-null    float64\n",
      " 4   CustomerID  500 non-null    int64  \n",
      "dtypes: float64(1), int64(3), object(1)\n",
      "memory usage: 19.7+ KB\n"
     ]
    }
   ],
   "source": [
    "df.info()"
   ]
  },
  {
   "cell_type": "code",
   "execution_count": 10,
   "metadata": {},
   "outputs": [
    {
     "data": {
      "text/html": [
       "<div>\n",
       "<style scoped>\n",
       "    .dataframe tbody tr th:only-of-type {\n",
       "        vertical-align: middle;\n",
       "    }\n",
       "\n",
       "    .dataframe tbody tr th {\n",
       "        vertical-align: top;\n",
       "    }\n",
       "\n",
       "    .dataframe thead th {\n",
       "        text-align: right;\n",
       "    }\n",
       "</style>\n",
       "<table border=\"1\" class=\"dataframe\">\n",
       "  <thead>\n",
       "    <tr style=\"text-align: right;\">\n",
       "      <th></th>\n",
       "      <th>BillNo</th>\n",
       "      <th>Quantity</th>\n",
       "      <th>Price</th>\n",
       "      <th>CustomerID</th>\n",
       "    </tr>\n",
       "  </thead>\n",
       "  <tbody>\n",
       "    <tr>\n",
       "      <th>count</th>\n",
       "      <td>500.000000</td>\n",
       "      <td>500.000000</td>\n",
       "      <td>500.000000</td>\n",
       "      <td>500.000000</td>\n",
       "    </tr>\n",
       "    <tr>\n",
       "      <th>mean</th>\n",
       "      <td>1247.442000</td>\n",
       "      <td>2.978000</td>\n",
       "      <td>5.617660</td>\n",
       "      <td>54229.800000</td>\n",
       "    </tr>\n",
       "    <tr>\n",
       "      <th>std</th>\n",
       "      <td>144.483097</td>\n",
       "      <td>1.426038</td>\n",
       "      <td>2.572919</td>\n",
       "      <td>25672.122585</td>\n",
       "    </tr>\n",
       "    <tr>\n",
       "      <th>min</th>\n",
       "      <td>1000.000000</td>\n",
       "      <td>1.000000</td>\n",
       "      <td>1.040000</td>\n",
       "      <td>10504.000000</td>\n",
       "    </tr>\n",
       "    <tr>\n",
       "      <th>25%</th>\n",
       "      <td>1120.000000</td>\n",
       "      <td>2.000000</td>\n",
       "      <td>3.570000</td>\n",
       "      <td>32823.500000</td>\n",
       "    </tr>\n",
       "    <tr>\n",
       "      <th>50%</th>\n",
       "      <td>1246.500000</td>\n",
       "      <td>3.000000</td>\n",
       "      <td>5.430000</td>\n",
       "      <td>53506.500000</td>\n",
       "    </tr>\n",
       "    <tr>\n",
       "      <th>75%</th>\n",
       "      <td>1370.000000</td>\n",
       "      <td>4.000000</td>\n",
       "      <td>7.920000</td>\n",
       "      <td>76644.250000</td>\n",
       "    </tr>\n",
       "    <tr>\n",
       "      <th>max</th>\n",
       "      <td>1497.000000</td>\n",
       "      <td>5.000000</td>\n",
       "      <td>9.940000</td>\n",
       "      <td>99162.000000</td>\n",
       "    </tr>\n",
       "  </tbody>\n",
       "</table>\n",
       "</div>"
      ],
      "text/plain": [
       "            BillNo    Quantity       Price    CustomerID\n",
       "count   500.000000  500.000000  500.000000    500.000000\n",
       "mean   1247.442000    2.978000    5.617660  54229.800000\n",
       "std     144.483097    1.426038    2.572919  25672.122585\n",
       "min    1000.000000    1.000000    1.040000  10504.000000\n",
       "25%    1120.000000    2.000000    3.570000  32823.500000\n",
       "50%    1246.500000    3.000000    5.430000  53506.500000\n",
       "75%    1370.000000    4.000000    7.920000  76644.250000\n",
       "max    1497.000000    5.000000    9.940000  99162.000000"
      ]
     },
     "execution_count": 10,
     "metadata": {},
     "output_type": "execute_result"
    }
   ],
   "source": [
    "df.describe()"
   ]
  },
  {
   "cell_type": "code",
   "execution_count": 11,
   "metadata": {},
   "outputs": [
    {
     "data": {
      "text/plain": [
       "BillNo        0\n",
       "Itemname      0\n",
       "Quantity      0\n",
       "Price         0\n",
       "CustomerID    0\n",
       "dtype: int64"
      ]
     },
     "execution_count": 11,
     "metadata": {},
     "output_type": "execute_result"
    }
   ],
   "source": [
    "df.isna().sum()"
   ]
  },
  {
   "cell_type": "code",
   "execution_count": 12,
   "metadata": {},
   "outputs": [
    {
     "data": {
      "text/plain": [
       "array(['Apples', 'Butter', 'Eggs', 'Potatoes', 'Oranges', 'Milk',\n",
       "       'Onions', 'Cereal', 'Tomatoes', 'Bananas', 'Pasta', 'Bread',\n",
       "       'Coffee', 'Sugar', 'Chicken', 'Cheese', 'Tea', 'Yogurt', 'Juice'],\n",
       "      dtype=object)"
      ]
     },
     "execution_count": 12,
     "metadata": {},
     "output_type": "execute_result"
    }
   ],
   "source": [
    "# Unique Items\n",
    "df['Itemname'].unique()"
   ]
  },
  {
   "cell_type": "code",
   "execution_count": 14,
   "metadata": {},
   "outputs": [
    {
     "data": {
      "text/plain": [
       "499"
      ]
     },
     "execution_count": 14,
     "metadata": {},
     "output_type": "execute_result"
    }
   ],
   "source": [
    "# Unique Customer IDs\n",
    "len(df['CustomerID'].unique())"
   ]
  },
  {
   "cell_type": "markdown",
   "metadata": {},
   "source": [
    "# **Data Exploration**"
   ]
  },
  {
   "cell_type": "markdown",
   "metadata": {},
   "source": [
    "## **Item Wise Sales Quantity**"
   ]
  },
  {
   "cell_type": "code",
   "execution_count": 27,
   "metadata": {},
   "outputs": [
    {
     "data": {
      "application/vnd.plotly.v1+json": {
       "config": {
        "plotlyServerURL": "https://plot.ly"
       },
       "data": [
        {
         "alignmentgroup": "True",
         "bingroup": "x",
         "histfunc": "sum",
         "hovertemplate": "Itemname=%{x}<br>sum of Quantity=%{y}<extra></extra>",
         "legendgroup": "",
         "marker": {
          "color": "#636efa",
          "pattern": {
           "shape": ""
          }
         },
         "name": "",
         "offsetgroup": "",
         "orientation": "v",
         "showlegend": false,
         "type": "histogram",
         "x": [
          "Apples",
          "Butter",
          "Eggs",
          "Potatoes",
          "Oranges",
          "Milk",
          "Onions",
          "Cereal",
          "Tomatoes",
          "Potatoes",
          "Cereal",
          "Bananas",
          "Tomatoes",
          "Pasta",
          "Onions",
          "Bread",
          "Bananas",
          "Coffee",
          "Sugar",
          "Potatoes",
          "Oranges",
          "Bananas",
          "Oranges",
          "Potatoes",
          "Chicken",
          "Cereal",
          "Bananas",
          "Cheese",
          "Pasta",
          "Cereal",
          "Onions",
          "Bananas",
          "Chicken",
          "Sugar",
          "Eggs",
          "Onions",
          "Cereal",
          "Cheese",
          "Cereal",
          "Coffee",
          "Bread",
          "Onions",
          "Chicken",
          "Pasta",
          "Eggs",
          "Butter",
          "Bananas",
          "Chicken",
          "Tomatoes",
          "Tea",
          "Bananas",
          "Pasta",
          "Eggs",
          "Cereal",
          "Sugar",
          "Coffee",
          "Apples",
          "Tomatoes",
          "Chicken",
          "Pasta",
          "Bread",
          "Sugar",
          "Potatoes",
          "Yogurt",
          "Butter",
          "Bananas",
          "Milk",
          "Eggs",
          "Sugar",
          "Juice",
          "Tomatoes",
          "Butter",
          "Onions",
          "Coffee",
          "Bananas",
          "Onions",
          "Coffee",
          "Tea",
          "Bananas",
          "Onions",
          "Juice",
          "Pasta",
          "Tea",
          "Juice",
          "Cereal",
          "Butter",
          "Yogurt",
          "Juice",
          "Pasta",
          "Onions",
          "Chicken",
          "Tea",
          "Juice",
          "Potatoes",
          "Sugar",
          "Coffee",
          "Milk",
          "Tomatoes",
          "Apples",
          "Yogurt",
          "Eggs",
          "Pasta",
          "Bread",
          "Apples",
          "Butter",
          "Apples",
          "Tea",
          "Juice",
          "Butter",
          "Eggs",
          "Tomatoes",
          "Milk",
          "Milk",
          "Bananas",
          "Oranges",
          "Bananas",
          "Apples",
          "Yogurt",
          "Sugar",
          "Tomatoes",
          "Bread",
          "Bananas",
          "Potatoes",
          "Tomatoes",
          "Onions",
          "Milk",
          "Oranges",
          "Milk",
          "Yogurt",
          "Oranges",
          "Coffee",
          "Bread",
          "Juice",
          "Tomatoes",
          "Eggs",
          "Potatoes",
          "Bananas",
          "Milk",
          "Butter",
          "Bananas",
          "Onions",
          "Eggs",
          "Juice",
          "Cheese",
          "Cheese",
          "Oranges",
          "Tomatoes",
          "Yogurt",
          "Potatoes",
          "Juice",
          "Sugar",
          "Bananas",
          "Eggs",
          "Tea",
          "Yogurt",
          "Eggs",
          "Butter",
          "Oranges",
          "Bread",
          "Potatoes",
          "Cheese",
          "Sugar",
          "Apples",
          "Tomatoes",
          "Milk",
          "Cheese",
          "Oranges",
          "Yogurt",
          "Tea",
          "Cereal",
          "Cheese",
          "Cereal",
          "Pasta",
          "Bananas",
          "Coffee",
          "Yogurt",
          "Cereal",
          "Butter",
          "Chicken",
          "Juice",
          "Oranges",
          "Potatoes",
          "Tomatoes",
          "Coffee",
          "Bread",
          "Cereal",
          "Juice",
          "Tea",
          "Coffee",
          "Pasta",
          "Onions",
          "Cheese",
          "Tea",
          "Apples",
          "Oranges",
          "Tea",
          "Cereal",
          "Onions",
          "Juice",
          "Cheese",
          "Tea",
          "Cereal",
          "Yogurt",
          "Bananas",
          "Yogurt",
          "Bananas",
          "Sugar",
          "Tomatoes",
          "Chicken",
          "Butter",
          "Potatoes",
          "Tea",
          "Milk",
          "Oranges",
          "Apples",
          "Tomatoes",
          "Sugar",
          "Tomatoes",
          "Cheese",
          "Oranges",
          "Tea",
          "Yogurt",
          "Yogurt",
          "Oranges",
          "Coffee",
          "Yogurt",
          "Juice",
          "Potatoes",
          "Coffee",
          "Tea",
          "Bananas",
          "Sugar",
          "Coffee",
          "Butter",
          "Tea",
          "Butter",
          "Tomatoes",
          "Apples",
          "Bread",
          "Cheese",
          "Sugar",
          "Onions",
          "Potatoes",
          "Cheese",
          "Bananas",
          "Butter",
          "Cereal",
          "Potatoes",
          "Tea",
          "Bread",
          "Milk",
          "Oranges",
          "Cereal",
          "Bananas",
          "Onions",
          "Cheese",
          "Apples",
          "Eggs",
          "Milk",
          "Potatoes",
          "Cereal",
          "Pasta",
          "Oranges",
          "Chicken",
          "Bread",
          "Cheese",
          "Sugar",
          "Milk",
          "Tomatoes",
          "Cereal",
          "Chicken",
          "Coffee",
          "Cheese",
          "Juice",
          "Tea",
          "Eggs",
          "Potatoes",
          "Butter",
          "Bananas",
          "Eggs",
          "Cheese",
          "Bananas",
          "Juice",
          "Eggs",
          "Tomatoes",
          "Apples",
          "Potatoes",
          "Cheese",
          "Bananas",
          "Sugar",
          "Coffee",
          "Bread",
          "Apples",
          "Bananas",
          "Apples",
          "Milk",
          "Sugar",
          "Coffee",
          "Cereal",
          "Cheese",
          "Oranges",
          "Cheese",
          "Oranges",
          "Milk",
          "Onions",
          "Potatoes",
          "Coffee",
          "Cereal",
          "Tea",
          "Bread",
          "Pasta",
          "Eggs",
          "Coffee",
          "Yogurt",
          "Coffee",
          "Butter",
          "Eggs",
          "Onions",
          "Cereal",
          "Cheese",
          "Butter",
          "Apples",
          "Cheese",
          "Tea",
          "Bread",
          "Cereal",
          "Pasta",
          "Coffee",
          "Sugar",
          "Yogurt",
          "Milk",
          "Chicken",
          "Juice",
          "Pasta",
          "Oranges",
          "Cheese",
          "Coffee",
          "Tomatoes",
          "Bread",
          "Cereal",
          "Cheese",
          "Tomatoes",
          "Oranges",
          "Milk",
          "Tomatoes",
          "Cereal",
          "Apples",
          "Butter",
          "Onions",
          "Yogurt",
          "Milk",
          "Pasta",
          "Onions",
          "Tea",
          "Sugar",
          "Cheese",
          "Juice",
          "Coffee",
          "Onions",
          "Chicken",
          "Potatoes",
          "Apples",
          "Sugar",
          "Bread",
          "Yogurt",
          "Juice",
          "Coffee",
          "Apples",
          "Coffee",
          "Butter",
          "Bread",
          "Oranges",
          "Cheese",
          "Butter",
          "Tea",
          "Bananas",
          "Milk",
          "Onions",
          "Coffee",
          "Eggs",
          "Bananas",
          "Juice",
          "Eggs",
          "Sugar",
          "Coffee",
          "Apples",
          "Tea",
          "Apples",
          "Chicken",
          "Pasta",
          "Sugar",
          "Yogurt",
          "Apples",
          "Sugar",
          "Pasta",
          "Coffee",
          "Bread",
          "Milk",
          "Yogurt",
          "Yogurt",
          "Chicken",
          "Oranges",
          "Bread",
          "Butter",
          "Oranges",
          "Apples",
          "Chicken",
          "Eggs",
          "Cereal",
          "Sugar",
          "Tea",
          "Coffee",
          "Potatoes",
          "Eggs",
          "Cereal",
          "Pasta",
          "Pasta",
          "Butter",
          "Chicken",
          "Potatoes",
          "Bananas",
          "Tomatoes",
          "Eggs",
          "Apples",
          "Milk",
          "Tomatoes",
          "Cheese",
          "Onions",
          "Sugar",
          "Coffee",
          "Cereal",
          "Yogurt",
          "Sugar",
          "Tomatoes",
          "Eggs",
          "Bananas",
          "Eggs",
          "Tomatoes",
          "Eggs",
          "Cereal",
          "Pasta",
          "Bananas",
          "Bananas",
          "Cereal",
          "Onions",
          "Chicken",
          "Potatoes",
          "Bananas",
          "Cereal",
          "Bananas",
          "Juice",
          "Milk",
          "Oranges",
          "Butter",
          "Apples",
          "Bread",
          "Yogurt",
          "Oranges",
          "Sugar",
          "Potatoes",
          "Pasta",
          "Oranges",
          "Potatoes",
          "Yogurt",
          "Oranges",
          "Cheese",
          "Apples",
          "Milk",
          "Potatoes",
          "Coffee",
          "Yogurt",
          "Butter",
          "Bread",
          "Cereal",
          "Cheese",
          "Bananas",
          "Yogurt",
          "Pasta",
          "Chicken",
          "Juice",
          "Eggs",
          "Oranges",
          "Coffee",
          "Tomatoes",
          "Coffee",
          "Bread",
          "Juice",
          "Bananas",
          "Chicken",
          "Butter",
          "Oranges",
          "Milk",
          "Potatoes",
          "Chicken",
          "Bananas",
          "Juice",
          "Bread",
          "Coffee",
          "Pasta",
          "Eggs"
         ],
         "xaxis": "x",
         "y": [
          5,
          4,
          4,
          4,
          2,
          3,
          3,
          2,
          5,
          4,
          3,
          3,
          1,
          5,
          1,
          4,
          2,
          4,
          5,
          2,
          1,
          2,
          3,
          4,
          3,
          1,
          2,
          5,
          1,
          5,
          4,
          3,
          4,
          4,
          3,
          4,
          2,
          2,
          1,
          2,
          5,
          1,
          4,
          1,
          2,
          5,
          3,
          1,
          3,
          5,
          4,
          3,
          3,
          5,
          1,
          5,
          4,
          3,
          4,
          1,
          5,
          1,
          1,
          3,
          5,
          2,
          5,
          2,
          4,
          2,
          1,
          2,
          3,
          3,
          5,
          2,
          1,
          3,
          1,
          5,
          4,
          1,
          4,
          1,
          2,
          4,
          4,
          4,
          1,
          4,
          1,
          5,
          1,
          1,
          4,
          1,
          5,
          3,
          2,
          3,
          2,
          4,
          4,
          2,
          1,
          3,
          2,
          2,
          5,
          2,
          3,
          4,
          4,
          2,
          1,
          3,
          3,
          2,
          5,
          4,
          1,
          5,
          5,
          2,
          4,
          5,
          2,
          4,
          1,
          3,
          1,
          4,
          1,
          5,
          1,
          4,
          4,
          2,
          5,
          4,
          4,
          1,
          5,
          3,
          4,
          3,
          3,
          3,
          3,
          1,
          5,
          4,
          1,
          1,
          4,
          3,
          3,
          2,
          5,
          3,
          3,
          2,
          3,
          4,
          3,
          5,
          5,
          5,
          4,
          3,
          1,
          4,
          5,
          4,
          2,
          4,
          5,
          5,
          2,
          1,
          2,
          5,
          1,
          2,
          2,
          1,
          1,
          5,
          4,
          3,
          1,
          2,
          2,
          4,
          5,
          4,
          1,
          2,
          5,
          5,
          4,
          2,
          5,
          3,
          4,
          4,
          5,
          5,
          1,
          5,
          1,
          4,
          4,
          4,
          3,
          4,
          1,
          1,
          3,
          2,
          3,
          4,
          3,
          2,
          2,
          3,
          1,
          1,
          2,
          1,
          4,
          1,
          4,
          1,
          2,
          2,
          3,
          1,
          3,
          5,
          3,
          3,
          1,
          5,
          2,
          1,
          5,
          1,
          3,
          3,
          5,
          1,
          4,
          1,
          4,
          5,
          3,
          3,
          4,
          5,
          3,
          3,
          4,
          1,
          1,
          3,
          1,
          3,
          3,
          5,
          5,
          1,
          4,
          4,
          3,
          2,
          2,
          1,
          3,
          1,
          5,
          4,
          1,
          4,
          2,
          5,
          3,
          1,
          4,
          3,
          1,
          3,
          3,
          3,
          3,
          1,
          3,
          1,
          5,
          5,
          2,
          4,
          4,
          4,
          3,
          3,
          2,
          1,
          2,
          5,
          3,
          4,
          1,
          1,
          1,
          1,
          5,
          4,
          5,
          5,
          5,
          2,
          3,
          4,
          5,
          2,
          4,
          3,
          4,
          2,
          3,
          3,
          5,
          1,
          5,
          1,
          3,
          4,
          1,
          1,
          3,
          2,
          3,
          1,
          2,
          1,
          2,
          4,
          5,
          1,
          5,
          3,
          3,
          4,
          2,
          5,
          3,
          1,
          1,
          1,
          2,
          5,
          5,
          2,
          1,
          2,
          3,
          1,
          5,
          2,
          1,
          5,
          4,
          3,
          2,
          3,
          5,
          1,
          5,
          1,
          3,
          3,
          1,
          3,
          1,
          3,
          4,
          3,
          4,
          5,
          2,
          1,
          4,
          2,
          5,
          5,
          3,
          3,
          5,
          2,
          5,
          1,
          2,
          3,
          5,
          5,
          4,
          5,
          1,
          4,
          1,
          4,
          2,
          4,
          2,
          2,
          2,
          1,
          1,
          5,
          4,
          5,
          5,
          4,
          2,
          3,
          5,
          5,
          5,
          5,
          3,
          4,
          1,
          2,
          2,
          3,
          1,
          3,
          5,
          5,
          5,
          4,
          2,
          4,
          4,
          1,
          1,
          5,
          2,
          5,
          2,
          2,
          3,
          3,
          1,
          3,
          3,
          5,
          3,
          4,
          2,
          2,
          4,
          2,
          1,
          1,
          1,
          5,
          3,
          5,
          3,
          2,
          5,
          1,
          2,
          1,
          2,
          4,
          1,
          3,
          4,
          1,
          3,
          2,
          2,
          4,
          1,
          5,
          3,
          1,
          2,
          4,
          4,
          4,
          3,
          2,
          5,
          3,
          3,
          4
         ],
         "yaxis": "y"
        }
       ],
       "layout": {
        "barmode": "relative",
        "legend": {
         "tracegroupgap": 0
        },
        "margin": {
         "t": 60
        },
        "template": {
         "data": {
          "bar": [
           {
            "error_x": {
             "color": "#2a3f5f"
            },
            "error_y": {
             "color": "#2a3f5f"
            },
            "marker": {
             "line": {
              "color": "#E5ECF6",
              "width": 0.5
             },
             "pattern": {
              "fillmode": "overlay",
              "size": 10,
              "solidity": 0.2
             }
            },
            "type": "bar"
           }
          ],
          "barpolar": [
           {
            "marker": {
             "line": {
              "color": "#E5ECF6",
              "width": 0.5
             },
             "pattern": {
              "fillmode": "overlay",
              "size": 10,
              "solidity": 0.2
             }
            },
            "type": "barpolar"
           }
          ],
          "carpet": [
           {
            "aaxis": {
             "endlinecolor": "#2a3f5f",
             "gridcolor": "white",
             "linecolor": "white",
             "minorgridcolor": "white",
             "startlinecolor": "#2a3f5f"
            },
            "baxis": {
             "endlinecolor": "#2a3f5f",
             "gridcolor": "white",
             "linecolor": "white",
             "minorgridcolor": "white",
             "startlinecolor": "#2a3f5f"
            },
            "type": "carpet"
           }
          ],
          "choropleth": [
           {
            "colorbar": {
             "outlinewidth": 0,
             "ticks": ""
            },
            "type": "choropleth"
           }
          ],
          "contour": [
           {
            "colorbar": {
             "outlinewidth": 0,
             "ticks": ""
            },
            "colorscale": [
             [
              0,
              "#0d0887"
             ],
             [
              0.1111111111111111,
              "#46039f"
             ],
             [
              0.2222222222222222,
              "#7201a8"
             ],
             [
              0.3333333333333333,
              "#9c179e"
             ],
             [
              0.4444444444444444,
              "#bd3786"
             ],
             [
              0.5555555555555556,
              "#d8576b"
             ],
             [
              0.6666666666666666,
              "#ed7953"
             ],
             [
              0.7777777777777778,
              "#fb9f3a"
             ],
             [
              0.8888888888888888,
              "#fdca26"
             ],
             [
              1,
              "#f0f921"
             ]
            ],
            "type": "contour"
           }
          ],
          "contourcarpet": [
           {
            "colorbar": {
             "outlinewidth": 0,
             "ticks": ""
            },
            "type": "contourcarpet"
           }
          ],
          "heatmap": [
           {
            "colorbar": {
             "outlinewidth": 0,
             "ticks": ""
            },
            "colorscale": [
             [
              0,
              "#0d0887"
             ],
             [
              0.1111111111111111,
              "#46039f"
             ],
             [
              0.2222222222222222,
              "#7201a8"
             ],
             [
              0.3333333333333333,
              "#9c179e"
             ],
             [
              0.4444444444444444,
              "#bd3786"
             ],
             [
              0.5555555555555556,
              "#d8576b"
             ],
             [
              0.6666666666666666,
              "#ed7953"
             ],
             [
              0.7777777777777778,
              "#fb9f3a"
             ],
             [
              0.8888888888888888,
              "#fdca26"
             ],
             [
              1,
              "#f0f921"
             ]
            ],
            "type": "heatmap"
           }
          ],
          "heatmapgl": [
           {
            "colorbar": {
             "outlinewidth": 0,
             "ticks": ""
            },
            "colorscale": [
             [
              0,
              "#0d0887"
             ],
             [
              0.1111111111111111,
              "#46039f"
             ],
             [
              0.2222222222222222,
              "#7201a8"
             ],
             [
              0.3333333333333333,
              "#9c179e"
             ],
             [
              0.4444444444444444,
              "#bd3786"
             ],
             [
              0.5555555555555556,
              "#d8576b"
             ],
             [
              0.6666666666666666,
              "#ed7953"
             ],
             [
              0.7777777777777778,
              "#fb9f3a"
             ],
             [
              0.8888888888888888,
              "#fdca26"
             ],
             [
              1,
              "#f0f921"
             ]
            ],
            "type": "heatmapgl"
           }
          ],
          "histogram": [
           {
            "marker": {
             "pattern": {
              "fillmode": "overlay",
              "size": 10,
              "solidity": 0.2
             }
            },
            "type": "histogram"
           }
          ],
          "histogram2d": [
           {
            "colorbar": {
             "outlinewidth": 0,
             "ticks": ""
            },
            "colorscale": [
             [
              0,
              "#0d0887"
             ],
             [
              0.1111111111111111,
              "#46039f"
             ],
             [
              0.2222222222222222,
              "#7201a8"
             ],
             [
              0.3333333333333333,
              "#9c179e"
             ],
             [
              0.4444444444444444,
              "#bd3786"
             ],
             [
              0.5555555555555556,
              "#d8576b"
             ],
             [
              0.6666666666666666,
              "#ed7953"
             ],
             [
              0.7777777777777778,
              "#fb9f3a"
             ],
             [
              0.8888888888888888,
              "#fdca26"
             ],
             [
              1,
              "#f0f921"
             ]
            ],
            "type": "histogram2d"
           }
          ],
          "histogram2dcontour": [
           {
            "colorbar": {
             "outlinewidth": 0,
             "ticks": ""
            },
            "colorscale": [
             [
              0,
              "#0d0887"
             ],
             [
              0.1111111111111111,
              "#46039f"
             ],
             [
              0.2222222222222222,
              "#7201a8"
             ],
             [
              0.3333333333333333,
              "#9c179e"
             ],
             [
              0.4444444444444444,
              "#bd3786"
             ],
             [
              0.5555555555555556,
              "#d8576b"
             ],
             [
              0.6666666666666666,
              "#ed7953"
             ],
             [
              0.7777777777777778,
              "#fb9f3a"
             ],
             [
              0.8888888888888888,
              "#fdca26"
             ],
             [
              1,
              "#f0f921"
             ]
            ],
            "type": "histogram2dcontour"
           }
          ],
          "mesh3d": [
           {
            "colorbar": {
             "outlinewidth": 0,
             "ticks": ""
            },
            "type": "mesh3d"
           }
          ],
          "parcoords": [
           {
            "line": {
             "colorbar": {
              "outlinewidth": 0,
              "ticks": ""
             }
            },
            "type": "parcoords"
           }
          ],
          "pie": [
           {
            "automargin": true,
            "type": "pie"
           }
          ],
          "scatter": [
           {
            "fillpattern": {
             "fillmode": "overlay",
             "size": 10,
             "solidity": 0.2
            },
            "type": "scatter"
           }
          ],
          "scatter3d": [
           {
            "line": {
             "colorbar": {
              "outlinewidth": 0,
              "ticks": ""
             }
            },
            "marker": {
             "colorbar": {
              "outlinewidth": 0,
              "ticks": ""
             }
            },
            "type": "scatter3d"
           }
          ],
          "scattercarpet": [
           {
            "marker": {
             "colorbar": {
              "outlinewidth": 0,
              "ticks": ""
             }
            },
            "type": "scattercarpet"
           }
          ],
          "scattergeo": [
           {
            "marker": {
             "colorbar": {
              "outlinewidth": 0,
              "ticks": ""
             }
            },
            "type": "scattergeo"
           }
          ],
          "scattergl": [
           {
            "marker": {
             "colorbar": {
              "outlinewidth": 0,
              "ticks": ""
             }
            },
            "type": "scattergl"
           }
          ],
          "scattermapbox": [
           {
            "marker": {
             "colorbar": {
              "outlinewidth": 0,
              "ticks": ""
             }
            },
            "type": "scattermapbox"
           }
          ],
          "scatterpolar": [
           {
            "marker": {
             "colorbar": {
              "outlinewidth": 0,
              "ticks": ""
             }
            },
            "type": "scatterpolar"
           }
          ],
          "scatterpolargl": [
           {
            "marker": {
             "colorbar": {
              "outlinewidth": 0,
              "ticks": ""
             }
            },
            "type": "scatterpolargl"
           }
          ],
          "scatterternary": [
           {
            "marker": {
             "colorbar": {
              "outlinewidth": 0,
              "ticks": ""
             }
            },
            "type": "scatterternary"
           }
          ],
          "surface": [
           {
            "colorbar": {
             "outlinewidth": 0,
             "ticks": ""
            },
            "colorscale": [
             [
              0,
              "#0d0887"
             ],
             [
              0.1111111111111111,
              "#46039f"
             ],
             [
              0.2222222222222222,
              "#7201a8"
             ],
             [
              0.3333333333333333,
              "#9c179e"
             ],
             [
              0.4444444444444444,
              "#bd3786"
             ],
             [
              0.5555555555555556,
              "#d8576b"
             ],
             [
              0.6666666666666666,
              "#ed7953"
             ],
             [
              0.7777777777777778,
              "#fb9f3a"
             ],
             [
              0.8888888888888888,
              "#fdca26"
             ],
             [
              1,
              "#f0f921"
             ]
            ],
            "type": "surface"
           }
          ],
          "table": [
           {
            "cells": {
             "fill": {
              "color": "#EBF0F8"
             },
             "line": {
              "color": "white"
             }
            },
            "header": {
             "fill": {
              "color": "#C8D4E3"
             },
             "line": {
              "color": "white"
             }
            },
            "type": "table"
           }
          ]
         },
         "layout": {
          "annotationdefaults": {
           "arrowcolor": "#2a3f5f",
           "arrowhead": 0,
           "arrowwidth": 1
          },
          "autotypenumbers": "strict",
          "coloraxis": {
           "colorbar": {
            "outlinewidth": 0,
            "ticks": ""
           }
          },
          "colorscale": {
           "diverging": [
            [
             0,
             "#8e0152"
            ],
            [
             0.1,
             "#c51b7d"
            ],
            [
             0.2,
             "#de77ae"
            ],
            [
             0.3,
             "#f1b6da"
            ],
            [
             0.4,
             "#fde0ef"
            ],
            [
             0.5,
             "#f7f7f7"
            ],
            [
             0.6,
             "#e6f5d0"
            ],
            [
             0.7,
             "#b8e186"
            ],
            [
             0.8,
             "#7fbc41"
            ],
            [
             0.9,
             "#4d9221"
            ],
            [
             1,
             "#276419"
            ]
           ],
           "sequential": [
            [
             0,
             "#0d0887"
            ],
            [
             0.1111111111111111,
             "#46039f"
            ],
            [
             0.2222222222222222,
             "#7201a8"
            ],
            [
             0.3333333333333333,
             "#9c179e"
            ],
            [
             0.4444444444444444,
             "#bd3786"
            ],
            [
             0.5555555555555556,
             "#d8576b"
            ],
            [
             0.6666666666666666,
             "#ed7953"
            ],
            [
             0.7777777777777778,
             "#fb9f3a"
            ],
            [
             0.8888888888888888,
             "#fdca26"
            ],
            [
             1,
             "#f0f921"
            ]
           ],
           "sequentialminus": [
            [
             0,
             "#0d0887"
            ],
            [
             0.1111111111111111,
             "#46039f"
            ],
            [
             0.2222222222222222,
             "#7201a8"
            ],
            [
             0.3333333333333333,
             "#9c179e"
            ],
            [
             0.4444444444444444,
             "#bd3786"
            ],
            [
             0.5555555555555556,
             "#d8576b"
            ],
            [
             0.6666666666666666,
             "#ed7953"
            ],
            [
             0.7777777777777778,
             "#fb9f3a"
            ],
            [
             0.8888888888888888,
             "#fdca26"
            ],
            [
             1,
             "#f0f921"
            ]
           ]
          },
          "colorway": [
           "#636efa",
           "#EF553B",
           "#00cc96",
           "#ab63fa",
           "#FFA15A",
           "#19d3f3",
           "#FF6692",
           "#B6E880",
           "#FF97FF",
           "#FECB52"
          ],
          "font": {
           "color": "#2a3f5f"
          },
          "geo": {
           "bgcolor": "white",
           "lakecolor": "white",
           "landcolor": "#E5ECF6",
           "showlakes": true,
           "showland": true,
           "subunitcolor": "white"
          },
          "hoverlabel": {
           "align": "left"
          },
          "hovermode": "closest",
          "mapbox": {
           "style": "light"
          },
          "paper_bgcolor": "white",
          "plot_bgcolor": "#E5ECF6",
          "polar": {
           "angularaxis": {
            "gridcolor": "white",
            "linecolor": "white",
            "ticks": ""
           },
           "bgcolor": "#E5ECF6",
           "radialaxis": {
            "gridcolor": "white",
            "linecolor": "white",
            "ticks": ""
           }
          },
          "scene": {
           "xaxis": {
            "backgroundcolor": "#E5ECF6",
            "gridcolor": "white",
            "gridwidth": 2,
            "linecolor": "white",
            "showbackground": true,
            "ticks": "",
            "zerolinecolor": "white"
           },
           "yaxis": {
            "backgroundcolor": "#E5ECF6",
            "gridcolor": "white",
            "gridwidth": 2,
            "linecolor": "white",
            "showbackground": true,
            "ticks": "",
            "zerolinecolor": "white"
           },
           "zaxis": {
            "backgroundcolor": "#E5ECF6",
            "gridcolor": "white",
            "gridwidth": 2,
            "linecolor": "white",
            "showbackground": true,
            "ticks": "",
            "zerolinecolor": "white"
           }
          },
          "shapedefaults": {
           "line": {
            "color": "#2a3f5f"
           }
          },
          "ternary": {
           "aaxis": {
            "gridcolor": "white",
            "linecolor": "white",
            "ticks": ""
           },
           "baxis": {
            "gridcolor": "white",
            "linecolor": "white",
            "ticks": ""
           },
           "bgcolor": "#E5ECF6",
           "caxis": {
            "gridcolor": "white",
            "linecolor": "white",
            "ticks": ""
           }
          },
          "title": {
           "x": 0.05
          },
          "xaxis": {
           "automargin": true,
           "gridcolor": "white",
           "linecolor": "white",
           "ticks": "",
           "title": {
            "standoff": 15
           },
           "zerolinecolor": "white",
           "zerolinewidth": 2
          },
          "yaxis": {
           "automargin": true,
           "gridcolor": "white",
           "linecolor": "white",
           "ticks": "",
           "title": {
            "standoff": 15
           },
           "zerolinecolor": "white",
           "zerolinewidth": 2
          }
         }
        },
        "xaxis": {
         "anchor": "y",
         "domain": [
          0,
          1
         ],
         "title": {
          "text": "Itemname"
         }
        },
        "yaxis": {
         "anchor": "x",
         "domain": [
          0,
          1
         ],
         "title": {
          "text": "sum of Quantity"
         }
        }
       }
      }
     },
     "metadata": {},
     "output_type": "display_data"
    }
   ],
   "source": [
    "px.histogram(df,x='Itemname',y='Quantity')"
   ]
  },
  {
   "cell_type": "markdown",
   "metadata": {},
   "source": [
    "## **Price Consistency Check**"
   ]
  },
  {
   "cell_type": "code",
   "execution_count": 28,
   "metadata": {},
   "outputs": [
    {
     "data": {
      "text/html": [
       "<div>\n",
       "<style scoped>\n",
       "    .dataframe tbody tr th:only-of-type {\n",
       "        vertical-align: middle;\n",
       "    }\n",
       "\n",
       "    .dataframe tbody tr th {\n",
       "        vertical-align: top;\n",
       "    }\n",
       "\n",
       "    .dataframe thead th {\n",
       "        text-align: right;\n",
       "    }\n",
       "</style>\n",
       "<table border=\"1\" class=\"dataframe\">\n",
       "  <thead>\n",
       "    <tr style=\"text-align: right;\">\n",
       "      <th></th>\n",
       "      <th>BillNo</th>\n",
       "      <th>Itemname</th>\n",
       "      <th>Quantity</th>\n",
       "      <th>Price</th>\n",
       "      <th>CustomerID</th>\n",
       "    </tr>\n",
       "  </thead>\n",
       "  <tbody>\n",
       "    <tr>\n",
       "      <th>0</th>\n",
       "      <td>1000</td>\n",
       "      <td>Apples</td>\n",
       "      <td>5</td>\n",
       "      <td>8.30</td>\n",
       "      <td>52299</td>\n",
       "    </tr>\n",
       "    <tr>\n",
       "      <th>1</th>\n",
       "      <td>1000</td>\n",
       "      <td>Butter</td>\n",
       "      <td>4</td>\n",
       "      <td>6.06</td>\n",
       "      <td>11752</td>\n",
       "    </tr>\n",
       "    <tr>\n",
       "      <th>2</th>\n",
       "      <td>1000</td>\n",
       "      <td>Eggs</td>\n",
       "      <td>4</td>\n",
       "      <td>2.66</td>\n",
       "      <td>16415</td>\n",
       "    </tr>\n",
       "    <tr>\n",
       "      <th>3</th>\n",
       "      <td>1000</td>\n",
       "      <td>Potatoes</td>\n",
       "      <td>4</td>\n",
       "      <td>8.10</td>\n",
       "      <td>22889</td>\n",
       "    </tr>\n",
       "    <tr>\n",
       "      <th>4</th>\n",
       "      <td>1004</td>\n",
       "      <td>Oranges</td>\n",
       "      <td>2</td>\n",
       "      <td>7.26</td>\n",
       "      <td>52255</td>\n",
       "    </tr>\n",
       "  </tbody>\n",
       "</table>\n",
       "</div>"
      ],
      "text/plain": [
       "   BillNo  Itemname  Quantity  Price  CustomerID\n",
       "0    1000    Apples         5   8.30       52299\n",
       "1    1000    Butter         4   6.06       11752\n",
       "2    1000      Eggs         4   2.66       16415\n",
       "3    1000  Potatoes         4   8.10       22889\n",
       "4    1004   Oranges         2   7.26       52255"
      ]
     },
     "execution_count": 28,
     "metadata": {},
     "output_type": "execute_result"
    }
   ],
   "source": [
    "df.head()"
   ]
  },
  {
   "cell_type": "code",
   "execution_count": 30,
   "metadata": {},
   "outputs": [
    {
     "data": {
      "text/html": [
       "<div>\n",
       "<style scoped>\n",
       "    .dataframe tbody tr th:only-of-type {\n",
       "        vertical-align: middle;\n",
       "    }\n",
       "\n",
       "    .dataframe tbody tr th {\n",
       "        vertical-align: top;\n",
       "    }\n",
       "\n",
       "    .dataframe thead th {\n",
       "        text-align: right;\n",
       "    }\n",
       "</style>\n",
       "<table border=\"1\" class=\"dataframe\">\n",
       "  <thead>\n",
       "    <tr style=\"text-align: right;\">\n",
       "      <th></th>\n",
       "      <th>BillNo</th>\n",
       "      <th>Itemname</th>\n",
       "      <th>Quantity</th>\n",
       "      <th>Price</th>\n",
       "      <th>CustomerID</th>\n",
       "    </tr>\n",
       "  </thead>\n",
       "  <tbody>\n",
       "    <tr>\n",
       "      <th>4</th>\n",
       "      <td>1004</td>\n",
       "      <td>Oranges</td>\n",
       "      <td>2</td>\n",
       "      <td>7.26</td>\n",
       "      <td>52255</td>\n",
       "    </tr>\n",
       "    <tr>\n",
       "      <th>20</th>\n",
       "      <td>1013</td>\n",
       "      <td>Oranges</td>\n",
       "      <td>1</td>\n",
       "      <td>6.47</td>\n",
       "      <td>32140</td>\n",
       "    </tr>\n",
       "    <tr>\n",
       "      <th>22</th>\n",
       "      <td>1021</td>\n",
       "      <td>Oranges</td>\n",
       "      <td>3</td>\n",
       "      <td>1.13</td>\n",
       "      <td>80292</td>\n",
       "    </tr>\n",
       "    <tr>\n",
       "      <th>114</th>\n",
       "      <td>1112</td>\n",
       "      <td>Oranges</td>\n",
       "      <td>1</td>\n",
       "      <td>9.41</td>\n",
       "      <td>44262</td>\n",
       "    </tr>\n",
       "    <tr>\n",
       "      <th>126</th>\n",
       "      <td>1120</td>\n",
       "      <td>Oranges</td>\n",
       "      <td>2</td>\n",
       "      <td>6.38</td>\n",
       "      <td>71663</td>\n",
       "    </tr>\n",
       "  </tbody>\n",
       "</table>\n",
       "</div>"
      ],
      "text/plain": [
       "     BillNo Itemname  Quantity  Price  CustomerID\n",
       "4      1004  Oranges         2   7.26       52255\n",
       "20     1013  Oranges         1   6.47       32140\n",
       "22     1021  Oranges         3   1.13       80292\n",
       "114    1112  Oranges         1   9.41       44262\n",
       "126    1120  Oranges         2   6.38       71663"
      ]
     },
     "execution_count": 30,
     "metadata": {},
     "output_type": "execute_result"
    }
   ],
   "source": [
    "df[df['Itemname']=='Oranges'][:5]"
   ]
  },
  {
   "cell_type": "markdown",
   "metadata": {},
   "source": [
    "## **Top 10 Most Popular Items**"
   ]
  },
  {
   "cell_type": "code",
   "execution_count": 41,
   "metadata": {},
   "outputs": [
    {
     "data": {
      "text/html": [
       "<div>\n",
       "<style scoped>\n",
       "    .dataframe tbody tr th:only-of-type {\n",
       "        vertical-align: middle;\n",
       "    }\n",
       "\n",
       "    .dataframe tbody tr th {\n",
       "        vertical-align: top;\n",
       "    }\n",
       "\n",
       "    .dataframe thead th {\n",
       "        text-align: right;\n",
       "    }\n",
       "</style>\n",
       "<table border=\"1\" class=\"dataframe\">\n",
       "  <thead>\n",
       "    <tr style=\"text-align: right;\">\n",
       "      <th></th>\n",
       "      <th>Itemname</th>\n",
       "      <th>Quantity</th>\n",
       "    </tr>\n",
       "  </thead>\n",
       "  <tbody>\n",
       "    <tr>\n",
       "      <th>0</th>\n",
       "      <td>Bananas</td>\n",
       "      <td>119</td>\n",
       "    </tr>\n",
       "    <tr>\n",
       "      <th>1</th>\n",
       "      <td>Cheese</td>\n",
       "      <td>99</td>\n",
       "    </tr>\n",
       "    <tr>\n",
       "      <th>2</th>\n",
       "      <td>Coffee</td>\n",
       "      <td>88</td>\n",
       "    </tr>\n",
       "    <tr>\n",
       "      <th>3</th>\n",
       "      <td>Cereal</td>\n",
       "      <td>87</td>\n",
       "    </tr>\n",
       "    <tr>\n",
       "      <th>4</th>\n",
       "      <td>Milk</td>\n",
       "      <td>86</td>\n",
       "    </tr>\n",
       "    <tr>\n",
       "      <th>5</th>\n",
       "      <td>Oranges</td>\n",
       "      <td>81</td>\n",
       "    </tr>\n",
       "    <tr>\n",
       "      <th>6</th>\n",
       "      <td>Tomatoes</td>\n",
       "      <td>79</td>\n",
       "    </tr>\n",
       "    <tr>\n",
       "      <th>7</th>\n",
       "      <td>Sugar</td>\n",
       "      <td>79</td>\n",
       "    </tr>\n",
       "    <tr>\n",
       "      <th>8</th>\n",
       "      <td>Potatoes</td>\n",
       "      <td>78</td>\n",
       "    </tr>\n",
       "    <tr>\n",
       "      <th>9</th>\n",
       "      <td>Bread</td>\n",
       "      <td>76</td>\n",
       "    </tr>\n",
       "  </tbody>\n",
       "</table>\n",
       "</div>"
      ],
      "text/plain": [
       "   Itemname  Quantity\n",
       "0   Bananas       119\n",
       "1    Cheese        99\n",
       "2    Coffee        88\n",
       "3    Cereal        87\n",
       "4      Milk        86\n",
       "5   Oranges        81\n",
       "6  Tomatoes        79\n",
       "7     Sugar        79\n",
       "8  Potatoes        78\n",
       "9     Bread        76"
      ]
     },
     "metadata": {},
     "output_type": "display_data"
    },
    {
     "data": {
      "application/vnd.plotly.v1+json": {
       "config": {
        "plotlyServerURL": "https://plot.ly"
       },
       "data": [
        {
         "alignmentgroup": "True",
         "bingroup": "x",
         "histfunc": "sum",
         "hovertemplate": "Itemname=%{x}<br>sum of Quantity=%{y}<extra></extra>",
         "legendgroup": "",
         "marker": {
          "color": "#636efa",
          "pattern": {
           "shape": ""
          }
         },
         "name": "",
         "offsetgroup": "",
         "orientation": "v",
         "showlegend": false,
         "type": "histogram",
         "x": [
          "Bananas",
          "Cheese",
          "Coffee",
          "Cereal",
          "Milk",
          "Oranges",
          "Tomatoes",
          "Sugar",
          "Potatoes",
          "Bread"
         ],
         "xaxis": "x",
         "y": [
          119,
          99,
          88,
          87,
          86,
          81,
          79,
          79,
          78,
          76
         ],
         "yaxis": "y"
        }
       ],
       "layout": {
        "barmode": "relative",
        "legend": {
         "tracegroupgap": 0
        },
        "template": {
         "data": {
          "bar": [
           {
            "error_x": {
             "color": "#2a3f5f"
            },
            "error_y": {
             "color": "#2a3f5f"
            },
            "marker": {
             "line": {
              "color": "#E5ECF6",
              "width": 0.5
             },
             "pattern": {
              "fillmode": "overlay",
              "size": 10,
              "solidity": 0.2
             }
            },
            "type": "bar"
           }
          ],
          "barpolar": [
           {
            "marker": {
             "line": {
              "color": "#E5ECF6",
              "width": 0.5
             },
             "pattern": {
              "fillmode": "overlay",
              "size": 10,
              "solidity": 0.2
             }
            },
            "type": "barpolar"
           }
          ],
          "carpet": [
           {
            "aaxis": {
             "endlinecolor": "#2a3f5f",
             "gridcolor": "white",
             "linecolor": "white",
             "minorgridcolor": "white",
             "startlinecolor": "#2a3f5f"
            },
            "baxis": {
             "endlinecolor": "#2a3f5f",
             "gridcolor": "white",
             "linecolor": "white",
             "minorgridcolor": "white",
             "startlinecolor": "#2a3f5f"
            },
            "type": "carpet"
           }
          ],
          "choropleth": [
           {
            "colorbar": {
             "outlinewidth": 0,
             "ticks": ""
            },
            "type": "choropleth"
           }
          ],
          "contour": [
           {
            "colorbar": {
             "outlinewidth": 0,
             "ticks": ""
            },
            "colorscale": [
             [
              0,
              "#0d0887"
             ],
             [
              0.1111111111111111,
              "#46039f"
             ],
             [
              0.2222222222222222,
              "#7201a8"
             ],
             [
              0.3333333333333333,
              "#9c179e"
             ],
             [
              0.4444444444444444,
              "#bd3786"
             ],
             [
              0.5555555555555556,
              "#d8576b"
             ],
             [
              0.6666666666666666,
              "#ed7953"
             ],
             [
              0.7777777777777778,
              "#fb9f3a"
             ],
             [
              0.8888888888888888,
              "#fdca26"
             ],
             [
              1,
              "#f0f921"
             ]
            ],
            "type": "contour"
           }
          ],
          "contourcarpet": [
           {
            "colorbar": {
             "outlinewidth": 0,
             "ticks": ""
            },
            "type": "contourcarpet"
           }
          ],
          "heatmap": [
           {
            "colorbar": {
             "outlinewidth": 0,
             "ticks": ""
            },
            "colorscale": [
             [
              0,
              "#0d0887"
             ],
             [
              0.1111111111111111,
              "#46039f"
             ],
             [
              0.2222222222222222,
              "#7201a8"
             ],
             [
              0.3333333333333333,
              "#9c179e"
             ],
             [
              0.4444444444444444,
              "#bd3786"
             ],
             [
              0.5555555555555556,
              "#d8576b"
             ],
             [
              0.6666666666666666,
              "#ed7953"
             ],
             [
              0.7777777777777778,
              "#fb9f3a"
             ],
             [
              0.8888888888888888,
              "#fdca26"
             ],
             [
              1,
              "#f0f921"
             ]
            ],
            "type": "heatmap"
           }
          ],
          "heatmapgl": [
           {
            "colorbar": {
             "outlinewidth": 0,
             "ticks": ""
            },
            "colorscale": [
             [
              0,
              "#0d0887"
             ],
             [
              0.1111111111111111,
              "#46039f"
             ],
             [
              0.2222222222222222,
              "#7201a8"
             ],
             [
              0.3333333333333333,
              "#9c179e"
             ],
             [
              0.4444444444444444,
              "#bd3786"
             ],
             [
              0.5555555555555556,
              "#d8576b"
             ],
             [
              0.6666666666666666,
              "#ed7953"
             ],
             [
              0.7777777777777778,
              "#fb9f3a"
             ],
             [
              0.8888888888888888,
              "#fdca26"
             ],
             [
              1,
              "#f0f921"
             ]
            ],
            "type": "heatmapgl"
           }
          ],
          "histogram": [
           {
            "marker": {
             "pattern": {
              "fillmode": "overlay",
              "size": 10,
              "solidity": 0.2
             }
            },
            "type": "histogram"
           }
          ],
          "histogram2d": [
           {
            "colorbar": {
             "outlinewidth": 0,
             "ticks": ""
            },
            "colorscale": [
             [
              0,
              "#0d0887"
             ],
             [
              0.1111111111111111,
              "#46039f"
             ],
             [
              0.2222222222222222,
              "#7201a8"
             ],
             [
              0.3333333333333333,
              "#9c179e"
             ],
             [
              0.4444444444444444,
              "#bd3786"
             ],
             [
              0.5555555555555556,
              "#d8576b"
             ],
             [
              0.6666666666666666,
              "#ed7953"
             ],
             [
              0.7777777777777778,
              "#fb9f3a"
             ],
             [
              0.8888888888888888,
              "#fdca26"
             ],
             [
              1,
              "#f0f921"
             ]
            ],
            "type": "histogram2d"
           }
          ],
          "histogram2dcontour": [
           {
            "colorbar": {
             "outlinewidth": 0,
             "ticks": ""
            },
            "colorscale": [
             [
              0,
              "#0d0887"
             ],
             [
              0.1111111111111111,
              "#46039f"
             ],
             [
              0.2222222222222222,
              "#7201a8"
             ],
             [
              0.3333333333333333,
              "#9c179e"
             ],
             [
              0.4444444444444444,
              "#bd3786"
             ],
             [
              0.5555555555555556,
              "#d8576b"
             ],
             [
              0.6666666666666666,
              "#ed7953"
             ],
             [
              0.7777777777777778,
              "#fb9f3a"
             ],
             [
              0.8888888888888888,
              "#fdca26"
             ],
             [
              1,
              "#f0f921"
             ]
            ],
            "type": "histogram2dcontour"
           }
          ],
          "mesh3d": [
           {
            "colorbar": {
             "outlinewidth": 0,
             "ticks": ""
            },
            "type": "mesh3d"
           }
          ],
          "parcoords": [
           {
            "line": {
             "colorbar": {
              "outlinewidth": 0,
              "ticks": ""
             }
            },
            "type": "parcoords"
           }
          ],
          "pie": [
           {
            "automargin": true,
            "type": "pie"
           }
          ],
          "scatter": [
           {
            "fillpattern": {
             "fillmode": "overlay",
             "size": 10,
             "solidity": 0.2
            },
            "type": "scatter"
           }
          ],
          "scatter3d": [
           {
            "line": {
             "colorbar": {
              "outlinewidth": 0,
              "ticks": ""
             }
            },
            "marker": {
             "colorbar": {
              "outlinewidth": 0,
              "ticks": ""
             }
            },
            "type": "scatter3d"
           }
          ],
          "scattercarpet": [
           {
            "marker": {
             "colorbar": {
              "outlinewidth": 0,
              "ticks": ""
             }
            },
            "type": "scattercarpet"
           }
          ],
          "scattergeo": [
           {
            "marker": {
             "colorbar": {
              "outlinewidth": 0,
              "ticks": ""
             }
            },
            "type": "scattergeo"
           }
          ],
          "scattergl": [
           {
            "marker": {
             "colorbar": {
              "outlinewidth": 0,
              "ticks": ""
             }
            },
            "type": "scattergl"
           }
          ],
          "scattermapbox": [
           {
            "marker": {
             "colorbar": {
              "outlinewidth": 0,
              "ticks": ""
             }
            },
            "type": "scattermapbox"
           }
          ],
          "scatterpolar": [
           {
            "marker": {
             "colorbar": {
              "outlinewidth": 0,
              "ticks": ""
             }
            },
            "type": "scatterpolar"
           }
          ],
          "scatterpolargl": [
           {
            "marker": {
             "colorbar": {
              "outlinewidth": 0,
              "ticks": ""
             }
            },
            "type": "scatterpolargl"
           }
          ],
          "scatterternary": [
           {
            "marker": {
             "colorbar": {
              "outlinewidth": 0,
              "ticks": ""
             }
            },
            "type": "scatterternary"
           }
          ],
          "surface": [
           {
            "colorbar": {
             "outlinewidth": 0,
             "ticks": ""
            },
            "colorscale": [
             [
              0,
              "#0d0887"
             ],
             [
              0.1111111111111111,
              "#46039f"
             ],
             [
              0.2222222222222222,
              "#7201a8"
             ],
             [
              0.3333333333333333,
              "#9c179e"
             ],
             [
              0.4444444444444444,
              "#bd3786"
             ],
             [
              0.5555555555555556,
              "#d8576b"
             ],
             [
              0.6666666666666666,
              "#ed7953"
             ],
             [
              0.7777777777777778,
              "#fb9f3a"
             ],
             [
              0.8888888888888888,
              "#fdca26"
             ],
             [
              1,
              "#f0f921"
             ]
            ],
            "type": "surface"
           }
          ],
          "table": [
           {
            "cells": {
             "fill": {
              "color": "#EBF0F8"
             },
             "line": {
              "color": "white"
             }
            },
            "header": {
             "fill": {
              "color": "#C8D4E3"
             },
             "line": {
              "color": "white"
             }
            },
            "type": "table"
           }
          ]
         },
         "layout": {
          "annotationdefaults": {
           "arrowcolor": "#2a3f5f",
           "arrowhead": 0,
           "arrowwidth": 1
          },
          "autotypenumbers": "strict",
          "coloraxis": {
           "colorbar": {
            "outlinewidth": 0,
            "ticks": ""
           }
          },
          "colorscale": {
           "diverging": [
            [
             0,
             "#8e0152"
            ],
            [
             0.1,
             "#c51b7d"
            ],
            [
             0.2,
             "#de77ae"
            ],
            [
             0.3,
             "#f1b6da"
            ],
            [
             0.4,
             "#fde0ef"
            ],
            [
             0.5,
             "#f7f7f7"
            ],
            [
             0.6,
             "#e6f5d0"
            ],
            [
             0.7,
             "#b8e186"
            ],
            [
             0.8,
             "#7fbc41"
            ],
            [
             0.9,
             "#4d9221"
            ],
            [
             1,
             "#276419"
            ]
           ],
           "sequential": [
            [
             0,
             "#0d0887"
            ],
            [
             0.1111111111111111,
             "#46039f"
            ],
            [
             0.2222222222222222,
             "#7201a8"
            ],
            [
             0.3333333333333333,
             "#9c179e"
            ],
            [
             0.4444444444444444,
             "#bd3786"
            ],
            [
             0.5555555555555556,
             "#d8576b"
            ],
            [
             0.6666666666666666,
             "#ed7953"
            ],
            [
             0.7777777777777778,
             "#fb9f3a"
            ],
            [
             0.8888888888888888,
             "#fdca26"
            ],
            [
             1,
             "#f0f921"
            ]
           ],
           "sequentialminus": [
            [
             0,
             "#0d0887"
            ],
            [
             0.1111111111111111,
             "#46039f"
            ],
            [
             0.2222222222222222,
             "#7201a8"
            ],
            [
             0.3333333333333333,
             "#9c179e"
            ],
            [
             0.4444444444444444,
             "#bd3786"
            ],
            [
             0.5555555555555556,
             "#d8576b"
            ],
            [
             0.6666666666666666,
             "#ed7953"
            ],
            [
             0.7777777777777778,
             "#fb9f3a"
            ],
            [
             0.8888888888888888,
             "#fdca26"
            ],
            [
             1,
             "#f0f921"
            ]
           ]
          },
          "colorway": [
           "#636efa",
           "#EF553B",
           "#00cc96",
           "#ab63fa",
           "#FFA15A",
           "#19d3f3",
           "#FF6692",
           "#B6E880",
           "#FF97FF",
           "#FECB52"
          ],
          "font": {
           "color": "#2a3f5f"
          },
          "geo": {
           "bgcolor": "white",
           "lakecolor": "white",
           "landcolor": "#E5ECF6",
           "showlakes": true,
           "showland": true,
           "subunitcolor": "white"
          },
          "hoverlabel": {
           "align": "left"
          },
          "hovermode": "closest",
          "mapbox": {
           "style": "light"
          },
          "paper_bgcolor": "white",
          "plot_bgcolor": "#E5ECF6",
          "polar": {
           "angularaxis": {
            "gridcolor": "white",
            "linecolor": "white",
            "ticks": ""
           },
           "bgcolor": "#E5ECF6",
           "radialaxis": {
            "gridcolor": "white",
            "linecolor": "white",
            "ticks": ""
           }
          },
          "scene": {
           "xaxis": {
            "backgroundcolor": "#E5ECF6",
            "gridcolor": "white",
            "gridwidth": 2,
            "linecolor": "white",
            "showbackground": true,
            "ticks": "",
            "zerolinecolor": "white"
           },
           "yaxis": {
            "backgroundcolor": "#E5ECF6",
            "gridcolor": "white",
            "gridwidth": 2,
            "linecolor": "white",
            "showbackground": true,
            "ticks": "",
            "zerolinecolor": "white"
           },
           "zaxis": {
            "backgroundcolor": "#E5ECF6",
            "gridcolor": "white",
            "gridwidth": 2,
            "linecolor": "white",
            "showbackground": true,
            "ticks": "",
            "zerolinecolor": "white"
           }
          },
          "shapedefaults": {
           "line": {
            "color": "#2a3f5f"
           }
          },
          "ternary": {
           "aaxis": {
            "gridcolor": "white",
            "linecolor": "white",
            "ticks": ""
           },
           "baxis": {
            "gridcolor": "white",
            "linecolor": "white",
            "ticks": ""
           },
           "bgcolor": "#E5ECF6",
           "caxis": {
            "gridcolor": "white",
            "linecolor": "white",
            "ticks": ""
           }
          },
          "title": {
           "x": 0.05
          },
          "xaxis": {
           "automargin": true,
           "gridcolor": "white",
           "linecolor": "white",
           "ticks": "",
           "title": {
            "standoff": 15
           },
           "zerolinecolor": "white",
           "zerolinewidth": 2
          },
          "yaxis": {
           "automargin": true,
           "gridcolor": "white",
           "linecolor": "white",
           "ticks": "",
           "title": {
            "standoff": 15
           },
           "zerolinecolor": "white",
           "zerolinewidth": 2
          }
         }
        },
        "title": {
         "text": "Top 10 Most Popular Items"
        },
        "xaxis": {
         "anchor": "y",
         "domain": [
          0,
          1
         ],
         "title": {
          "text": "Itemname"
         }
        },
        "yaxis": {
         "anchor": "x",
         "domain": [
          0,
          1
         ],
         "title": {
          "text": "sum of Quantity"
         }
        }
       }
      }
     },
     "metadata": {},
     "output_type": "display_data"
    }
   ],
   "source": [
    "df_most_popular = df.groupby('Itemname')['Quantity'].sum().sort_values(ascending=False).reset_index()[:10]\n",
    "display(df_most_popular)\n",
    "\n",
    "px.histogram(df_most_popular,x='Itemname',y='Quantity',title='Top 10 Most Popular Items')"
   ]
  },
  {
   "cell_type": "markdown",
   "metadata": {},
   "source": [
    "## **CustomerID Wise Mean Order QTY & Total Order Value** "
   ]
  },
  {
   "cell_type": "code",
   "execution_count": 46,
   "metadata": {},
   "outputs": [
    {
     "data": {
      "text/html": [
       "<div>\n",
       "<style scoped>\n",
       "    .dataframe tbody tr th:only-of-type {\n",
       "        vertical-align: middle;\n",
       "    }\n",
       "\n",
       "    .dataframe tbody tr th {\n",
       "        vertical-align: top;\n",
       "    }\n",
       "\n",
       "    .dataframe thead th {\n",
       "        text-align: right;\n",
       "    }\n",
       "</style>\n",
       "<table border=\"1\" class=\"dataframe\">\n",
       "  <thead>\n",
       "    <tr style=\"text-align: right;\">\n",
       "      <th></th>\n",
       "      <th>CustomerID</th>\n",
       "      <th>Avg_Basket_Qty</th>\n",
       "      <th>Total_Basket_Value</th>\n",
       "    </tr>\n",
       "  </thead>\n",
       "  <tbody>\n",
       "    <tr>\n",
       "      <th>0</th>\n",
       "      <td>10504</td>\n",
       "      <td>1.0</td>\n",
       "      <td>2.04</td>\n",
       "    </tr>\n",
       "    <tr>\n",
       "      <th>1</th>\n",
       "      <td>10588</td>\n",
       "      <td>5.0</td>\n",
       "      <td>5.50</td>\n",
       "    </tr>\n",
       "    <tr>\n",
       "      <th>2</th>\n",
       "      <td>10826</td>\n",
       "      <td>1.0</td>\n",
       "      <td>5.67</td>\n",
       "    </tr>\n",
       "    <tr>\n",
       "      <th>3</th>\n",
       "      <td>11113</td>\n",
       "      <td>3.0</td>\n",
       "      <td>8.84</td>\n",
       "    </tr>\n",
       "    <tr>\n",
       "      <th>4</th>\n",
       "      <td>11267</td>\n",
       "      <td>1.0</td>\n",
       "      <td>8.87</td>\n",
       "    </tr>\n",
       "    <tr>\n",
       "      <th>5</th>\n",
       "      <td>11373</td>\n",
       "      <td>2.0</td>\n",
       "      <td>6.69</td>\n",
       "    </tr>\n",
       "    <tr>\n",
       "      <th>6</th>\n",
       "      <td>11430</td>\n",
       "      <td>3.0</td>\n",
       "      <td>4.85</td>\n",
       "    </tr>\n",
       "    <tr>\n",
       "      <th>7</th>\n",
       "      <td>11644</td>\n",
       "      <td>5.0</td>\n",
       "      <td>4.67</td>\n",
       "    </tr>\n",
       "    <tr>\n",
       "      <th>8</th>\n",
       "      <td>11752</td>\n",
       "      <td>4.0</td>\n",
       "      <td>6.06</td>\n",
       "    </tr>\n",
       "    <tr>\n",
       "      <th>9</th>\n",
       "      <td>11754</td>\n",
       "      <td>3.0</td>\n",
       "      <td>1.18</td>\n",
       "    </tr>\n",
       "  </tbody>\n",
       "</table>\n",
       "</div>"
      ],
      "text/plain": [
       "   CustomerID  Avg_Basket_Qty  Total_Basket_Value\n",
       "0       10504             1.0                2.04\n",
       "1       10588             5.0                5.50\n",
       "2       10826             1.0                5.67\n",
       "3       11113             3.0                8.84\n",
       "4       11267             1.0                8.87\n",
       "5       11373             2.0                6.69\n",
       "6       11430             3.0                4.85\n",
       "7       11644             5.0                4.67\n",
       "8       11752             4.0                6.06\n",
       "9       11754             3.0                1.18"
      ]
     },
     "execution_count": 46,
     "metadata": {},
     "output_type": "execute_result"
    }
   ],
   "source": [
    "df_customer_data = df.groupby('CustomerID').agg({'Quantity':'mean','Price':'sum'}).reset_index()\n",
    "df_customer_data.columns = ['CustomerID','Avg_Basket_Qty','Total_Basket_Value']\n",
    "df_customer_data.head(10)"
   ]
  },
  {
   "cell_type": "code",
   "execution_count": 48,
   "metadata": {},
   "outputs": [
    {
     "data": {
      "application/vnd.plotly.v1+json": {
       "config": {
        "plotlyServerURL": "https://plot.ly"
       },
       "data": [
        {
         "hovertemplate": "CustomerID=%{x}<br>Total_Basket_Value=%{y}<extra></extra>",
         "legendgroup": "",
         "marker": {
          "color": "#636efa",
          "symbol": "circle"
         },
         "mode": "markers",
         "name": "",
         "orientation": "v",
         "showlegend": false,
         "type": "scatter",
         "x": [
          10504,
          10588,
          10826,
          11113,
          11267,
          11373,
          11430,
          11644,
          11752,
          11754,
          12550,
          12759,
          12777,
          12894,
          12951,
          13350,
          13413,
          13560,
          13601,
          13996,
          14018,
          14479,
          14594,
          14668,
          14869,
          15037,
          15290,
          15320,
          15378,
          15639,
          15790,
          15870,
          15876,
          15877,
          15938,
          15974,
          16027,
          16415,
          16469,
          16539,
          16613,
          16666,
          16844,
          16891,
          17005,
          17508,
          17679,
          17772,
          17821,
          18108,
          18132,
          18416,
          18450,
          18579,
          18782,
          18944,
          19038,
          19153,
          19478,
          19711,
          19774,
          19850,
          20072,
          20321,
          20351,
          20696,
          20909,
          21032,
          21035,
          21114,
          21268,
          21763,
          21868,
          22590,
          22613,
          22752,
          22764,
          22889,
          23073,
          23154,
          23412,
          23748,
          23884,
          24468,
          24493,
          25149,
          25378,
          25485,
          25656,
          25803,
          25874,
          26004,
          26046,
          26139,
          26307,
          26455,
          26627,
          26938,
          27080,
          27125,
          27376,
          27406,
          27433,
          27600,
          27619,
          28431,
          28715,
          28798,
          29519,
          29798,
          29871,
          29955,
          30221,
          30445,
          30543,
          30570,
          30621,
          30936,
          31127,
          31279,
          32074,
          32140,
          32332,
          32602,
          32813,
          32827,
          32905,
          33260,
          33323,
          33668,
          34087,
          34423,
          34539,
          34679,
          34687,
          34870,
          35074,
          35115,
          35384,
          35705,
          35709,
          35979,
          36019,
          36132,
          36298,
          36694,
          36719,
          37013,
          37152,
          37245,
          37403,
          37639,
          37686,
          37832,
          38011,
          38405,
          38536,
          38643,
          39192,
          39639,
          39724,
          39792,
          39902,
          39921,
          40115,
          40205,
          40389,
          40508,
          40800,
          40946,
          41003,
          41055,
          41440,
          41510,
          41629,
          41923,
          42281,
          42445,
          42567,
          42602,
          42722,
          42831,
          42926,
          43017,
          43169,
          43275,
          43327,
          43594,
          43681,
          43702,
          43704,
          43933,
          43975,
          44065,
          44183,
          44222,
          44236,
          44262,
          44502,
          44616,
          45015,
          45049,
          45060,
          45063,
          45064,
          45369,
          45410,
          45531,
          45811,
          46249,
          46399,
          46419,
          46426,
          46523,
          47285,
          47387,
          47681,
          47892,
          48098,
          48716,
          48912,
          48960,
          49110,
          49195,
          49638,
          49645,
          50407,
          50473,
          50813,
          50919,
          51032,
          51260,
          51336,
          51604,
          51682,
          52161,
          52194,
          52239,
          52255,
          52267,
          52299,
          52369,
          52711,
          53252,
          53334,
          53364,
          53368,
          53407,
          53486,
          53527,
          53609,
          53719,
          53723,
          54133,
          54178,
          54206,
          54225,
          54358,
          54793,
          54896,
          54970,
          55091,
          55267,
          55304,
          55321,
          55371,
          55421,
          55423,
          55506,
          55592,
          55704,
          55885,
          56067,
          56145,
          56291,
          57198,
          58046,
          58613,
          58893,
          59094,
          59237,
          59255,
          59416,
          59580,
          60088,
          60252,
          60271,
          60275,
          60351,
          60600,
          60944,
          61198,
          61230,
          61399,
          61496,
          61567,
          61738,
          61753,
          62431,
          62667,
          63008,
          63032,
          63057,
          63124,
          63217,
          63287,
          63681,
          63813,
          64093,
          64324,
          64367,
          64821,
          64854,
          65291,
          65376,
          65508,
          65941,
          66106,
          67240,
          67685,
          68017,
          68259,
          68313,
          68417,
          68571,
          68861,
          68912,
          69005,
          69123,
          69455,
          69611,
          69784,
          69838,
          69993,
          70126,
          70520,
          70748,
          70781,
          71236,
          71310,
          71377,
          71628,
          71663,
          71938,
          71987,
          72262,
          72279,
          72390,
          72611,
          72981,
          73266,
          73288,
          73544,
          73550,
          73613,
          73732,
          73789,
          73818,
          74271,
          74277,
          74383,
          74386,
          74773,
          74784,
          74910,
          75915,
          75967,
          76052,
          76128,
          76164,
          76168,
          76488,
          76583,
          76637,
          76666,
          76765,
          76946,
          76973,
          77559,
          77640,
          77765,
          77988,
          78106,
          78128,
          78268,
          78279,
          78342,
          78411,
          78522,
          78642,
          78889,
          78915,
          79183,
          79689,
          79964,
          80128,
          80292,
          80320,
          80346,
          80708,
          80925,
          81031,
          81260,
          81294,
          81556,
          82102,
          82670,
          82829,
          83029,
          83035,
          83049,
          83132,
          83603,
          83712,
          83735,
          83754,
          83761,
          84010,
          84097,
          84523,
          84568,
          84684,
          84871,
          84964,
          85303,
          85311,
          85393,
          85652,
          85895,
          85903,
          85960,
          86475,
          86586,
          86740,
          86833,
          86986,
          87130,
          87889,
          88065,
          88386,
          88554,
          88751,
          88784,
          88820,
          88923,
          88999,
          89244,
          89472,
          89637,
          89823,
          89941,
          90037,
          90160,
          90241,
          90362,
          90438,
          91077,
          91211,
          91284,
          91418,
          91421,
          91572,
          91832,
          92263,
          92271,
          92650,
          92652,
          92961,
          92962,
          93596,
          93698,
          93890,
          93949,
          94391,
          94737,
          94859,
          95259,
          95462,
          95622,
          95776,
          95924,
          96010,
          96136,
          96375,
          96384,
          96485,
          96839,
          96845,
          97240,
          97428,
          97433,
          98392,
          98394,
          98741,
          98766,
          98833,
          98942,
          99122,
          99162
         ],
         "xaxis": "x",
         "y": [
          2.04,
          5.5,
          5.67,
          8.84,
          8.87,
          6.69,
          4.85,
          4.67,
          6.06,
          1.18,
          9.13,
          9.66,
          6.56,
          3.02,
          8.81,
          1.55,
          3.4,
          6.93,
          5.08,
          5.21,
          2.16,
          7.05,
          8.03,
          6.78,
          8.54,
          8.66,
          3.82,
          9.25,
          4.9,
          9.53,
          4.08,
          2.25,
          8.41,
          8.71,
          4.05,
          5.37,
          4.77,
          2.66,
          9.93,
          2.33,
          9.64,
          3.66,
          3.09,
          2.29,
          2.89,
          8.23,
          6.44,
          9.62,
          5.26,
          9.84,
          4.18,
          3.97,
          8.51,
          6.68,
          3,
          4.84,
          9.43,
          9.28,
          1.58,
          7.12,
          8.51,
          9.67,
          7.67,
          9.26,
          7.09,
          1.22,
          9.28,
          5.3,
          6.81,
          3.05,
          5.11,
          3.48,
          9.6,
          2.62,
          8.14,
          8.48,
          7.51,
          8.1,
          8.88,
          3.54,
          4.14,
          4.02,
          6.35,
          5.35,
          4.33,
          2.65,
          2.01,
          6.88,
          4.94,
          9.04,
          2.84,
          1.33,
          8.68,
          4.91,
          1.37,
          8.49,
          4.99,
          3.73,
          2.25,
          9.53,
          9.31,
          7.91,
          5.84,
          9.78,
          2.48,
          7.15,
          1.64,
          1.59,
          4.08,
          7.71,
          9.7,
          6.66,
          2.08,
          4.65,
          8.75,
          2.58,
          7.74,
          4.21,
          5.66,
          7.87,
          6.36,
          6.47,
          6.13,
          2.93,
          3,
          5.56,
          4.53,
          9.94,
          5.15,
          2.67,
          7.88,
          9.75,
          2.4,
          8.15,
          7.37,
          9.72,
          8.07,
          2.92,
          5.32,
          5,
          2.22,
          2.94,
          7.22,
          6.25,
          4.26,
          3.67,
          6.15,
          5.74,
          2.25,
          7.38,
          3.69,
          9.64,
          4.05,
          1.27,
          1.46,
          4.78,
          7.5,
          4.5,
          5.25,
          7.28,
          2.01,
          4.14,
          7.92,
          4.85,
          1.6,
          3.71,
          4.86,
          8.68,
          8.03,
          9.79,
          3.11,
          3.89,
          2.32,
          4.7,
          1.21,
          7.43,
          1.41,
          9.84,
          4.7,
          4.78,
          9.88,
          1.96,
          5.41,
          2.58,
          9.15,
          1.21,
          5.86,
          1.59,
          7.2,
          1.55,
          3.63,
          8.15,
          4.23,
          2.71,
          3.85,
          4.9,
          4.9,
          9.41,
          1.61,
          7.47,
          2.81,
          1.83,
          8.75,
          8.5,
          1.98,
          5.87,
          9.09,
          7.92,
          7.82,
          6.42,
          6.91,
          11.49,
          8.91,
          8,
          8.22,
          8.4,
          8.31,
          1.59,
          2.89,
          8.71,
          3.52,
          4.45,
          4.6,
          3.98,
          7.38,
          9.18,
          4.66,
          3.48,
          3.19,
          7.41,
          9.75,
          6.41,
          5.85,
          4.2,
          6.16,
          6.03,
          4.88,
          5.66,
          7.26,
          6.6,
          8.3,
          9.72,
          9.82,
          6.91,
          2.64,
          1.64,
          4.35,
          7.66,
          4.08,
          1.04,
          8.98,
          7.82,
          9.1,
          4.19,
          6.77,
          5.39,
          5.28,
          5.29,
          4.09,
          9.32,
          5.06,
          5.57,
          4.62,
          1.12,
          4.24,
          4.34,
          3.22,
          8.79,
          4.49,
          6.04,
          8.56,
          1.25,
          1.48,
          8.26,
          5.76,
          4.54,
          4.69,
          5.79,
          7.46,
          4.12,
          7.12,
          8.11,
          8.93,
          8.2,
          7.78,
          1.41,
          5.24,
          7.35,
          6.21,
          1.49,
          9.52,
          6.58,
          6.37,
          3.2,
          3.48,
          6.32,
          5.74,
          7.89,
          3.67,
          9.5,
          2.55,
          2.63,
          5.8,
          4.38,
          4.32,
          5.81,
          7.25,
          3.85,
          2.76,
          8.41,
          1.12,
          5.32,
          7.98,
          8.04,
          2.73,
          6.66,
          9.83,
          1.15,
          5.62,
          4.65,
          3.01,
          2.82,
          9.14,
          7.97,
          1.5,
          3.95,
          4.85,
          6.04,
          1.26,
          7.83,
          2.87,
          8.83,
          4.82,
          7.64,
          3.85,
          3.64,
          9.5,
          9.61,
          3,
          3.24,
          8.78,
          8.92,
          6.38,
          8.84,
          8.71,
          9.11,
          6.85,
          5.14,
          2.86,
          8.86,
          8.75,
          5.58,
          6.98,
          9.04,
          3.43,
          9.52,
          3.35,
          3.35,
          2.59,
          1.9,
          6.36,
          4.24,
          3.88,
          8.2,
          4.61,
          2.29,
          7.07,
          6.41,
          1.33,
          8.09,
          7.34,
          5.04,
          9.87,
          2.38,
          8.33,
          6.47,
          2.65,
          4.89,
          6.12,
          4.43,
          5.69,
          5.44,
          3.82,
          6.12,
          2.45,
          2.62,
          2.89,
          9.94,
          3.69,
          1.39,
          4.53,
          2.68,
          8.97,
          9.69,
          8.45,
          4.33,
          1.13,
          2.27,
          3.05,
          8.42,
          2.48,
          1.71,
          3,
          3.22,
          7.25,
          6.09,
          4.04,
          4.49,
          9.86,
          4.22,
          6.5,
          9.67,
          1.82,
          7.35,
          6.91,
          9.1,
          9.58,
          2.63,
          4.54,
          6.1,
          9.48,
          9.05,
          6.88,
          3.61,
          3.95,
          7.58,
          5.76,
          7.52,
          2.08,
          1.28,
          3.45,
          3.9,
          4.04,
          9.79,
          7.12,
          6.34,
          4.93,
          2.34,
          4.3,
          6.91,
          6.99,
          8.82,
          8.37,
          1.26,
          1.91,
          9.79,
          1.29,
          6.09,
          4.69,
          7.14,
          4.35,
          8.22,
          5.04,
          2.3,
          9.49,
          6.35,
          7.74,
          2.38,
          4.73,
          6.93,
          8.15,
          4.93,
          4.33,
          1.54,
          6.48,
          4.79,
          5.31,
          5.42,
          5.77,
          8.38,
          2.93,
          9.39,
          2.09,
          9.39,
          8.6,
          2.32,
          5.45,
          4.01,
          4.27,
          3.69,
          8.84,
          2.12,
          4.92,
          7.1,
          5.94,
          3.75,
          7.32,
          7.18,
          4.66,
          2.68,
          5.16,
          7.38,
          3.58,
          8.11,
          5.89,
          4.6,
          8.96,
          7.66,
          7.14
         ],
         "yaxis": "y"
        }
       ],
       "layout": {
        "legend": {
         "tracegroupgap": 0
        },
        "margin": {
         "t": 60
        },
        "template": {
         "data": {
          "bar": [
           {
            "error_x": {
             "color": "#2a3f5f"
            },
            "error_y": {
             "color": "#2a3f5f"
            },
            "marker": {
             "line": {
              "color": "#E5ECF6",
              "width": 0.5
             },
             "pattern": {
              "fillmode": "overlay",
              "size": 10,
              "solidity": 0.2
             }
            },
            "type": "bar"
           }
          ],
          "barpolar": [
           {
            "marker": {
             "line": {
              "color": "#E5ECF6",
              "width": 0.5
             },
             "pattern": {
              "fillmode": "overlay",
              "size": 10,
              "solidity": 0.2
             }
            },
            "type": "barpolar"
           }
          ],
          "carpet": [
           {
            "aaxis": {
             "endlinecolor": "#2a3f5f",
             "gridcolor": "white",
             "linecolor": "white",
             "minorgridcolor": "white",
             "startlinecolor": "#2a3f5f"
            },
            "baxis": {
             "endlinecolor": "#2a3f5f",
             "gridcolor": "white",
             "linecolor": "white",
             "minorgridcolor": "white",
             "startlinecolor": "#2a3f5f"
            },
            "type": "carpet"
           }
          ],
          "choropleth": [
           {
            "colorbar": {
             "outlinewidth": 0,
             "ticks": ""
            },
            "type": "choropleth"
           }
          ],
          "contour": [
           {
            "colorbar": {
             "outlinewidth": 0,
             "ticks": ""
            },
            "colorscale": [
             [
              0,
              "#0d0887"
             ],
             [
              0.1111111111111111,
              "#46039f"
             ],
             [
              0.2222222222222222,
              "#7201a8"
             ],
             [
              0.3333333333333333,
              "#9c179e"
             ],
             [
              0.4444444444444444,
              "#bd3786"
             ],
             [
              0.5555555555555556,
              "#d8576b"
             ],
             [
              0.6666666666666666,
              "#ed7953"
             ],
             [
              0.7777777777777778,
              "#fb9f3a"
             ],
             [
              0.8888888888888888,
              "#fdca26"
             ],
             [
              1,
              "#f0f921"
             ]
            ],
            "type": "contour"
           }
          ],
          "contourcarpet": [
           {
            "colorbar": {
             "outlinewidth": 0,
             "ticks": ""
            },
            "type": "contourcarpet"
           }
          ],
          "heatmap": [
           {
            "colorbar": {
             "outlinewidth": 0,
             "ticks": ""
            },
            "colorscale": [
             [
              0,
              "#0d0887"
             ],
             [
              0.1111111111111111,
              "#46039f"
             ],
             [
              0.2222222222222222,
              "#7201a8"
             ],
             [
              0.3333333333333333,
              "#9c179e"
             ],
             [
              0.4444444444444444,
              "#bd3786"
             ],
             [
              0.5555555555555556,
              "#d8576b"
             ],
             [
              0.6666666666666666,
              "#ed7953"
             ],
             [
              0.7777777777777778,
              "#fb9f3a"
             ],
             [
              0.8888888888888888,
              "#fdca26"
             ],
             [
              1,
              "#f0f921"
             ]
            ],
            "type": "heatmap"
           }
          ],
          "heatmapgl": [
           {
            "colorbar": {
             "outlinewidth": 0,
             "ticks": ""
            },
            "colorscale": [
             [
              0,
              "#0d0887"
             ],
             [
              0.1111111111111111,
              "#46039f"
             ],
             [
              0.2222222222222222,
              "#7201a8"
             ],
             [
              0.3333333333333333,
              "#9c179e"
             ],
             [
              0.4444444444444444,
              "#bd3786"
             ],
             [
              0.5555555555555556,
              "#d8576b"
             ],
             [
              0.6666666666666666,
              "#ed7953"
             ],
             [
              0.7777777777777778,
              "#fb9f3a"
             ],
             [
              0.8888888888888888,
              "#fdca26"
             ],
             [
              1,
              "#f0f921"
             ]
            ],
            "type": "heatmapgl"
           }
          ],
          "histogram": [
           {
            "marker": {
             "pattern": {
              "fillmode": "overlay",
              "size": 10,
              "solidity": 0.2
             }
            },
            "type": "histogram"
           }
          ],
          "histogram2d": [
           {
            "colorbar": {
             "outlinewidth": 0,
             "ticks": ""
            },
            "colorscale": [
             [
              0,
              "#0d0887"
             ],
             [
              0.1111111111111111,
              "#46039f"
             ],
             [
              0.2222222222222222,
              "#7201a8"
             ],
             [
              0.3333333333333333,
              "#9c179e"
             ],
             [
              0.4444444444444444,
              "#bd3786"
             ],
             [
              0.5555555555555556,
              "#d8576b"
             ],
             [
              0.6666666666666666,
              "#ed7953"
             ],
             [
              0.7777777777777778,
              "#fb9f3a"
             ],
             [
              0.8888888888888888,
              "#fdca26"
             ],
             [
              1,
              "#f0f921"
             ]
            ],
            "type": "histogram2d"
           }
          ],
          "histogram2dcontour": [
           {
            "colorbar": {
             "outlinewidth": 0,
             "ticks": ""
            },
            "colorscale": [
             [
              0,
              "#0d0887"
             ],
             [
              0.1111111111111111,
              "#46039f"
             ],
             [
              0.2222222222222222,
              "#7201a8"
             ],
             [
              0.3333333333333333,
              "#9c179e"
             ],
             [
              0.4444444444444444,
              "#bd3786"
             ],
             [
              0.5555555555555556,
              "#d8576b"
             ],
             [
              0.6666666666666666,
              "#ed7953"
             ],
             [
              0.7777777777777778,
              "#fb9f3a"
             ],
             [
              0.8888888888888888,
              "#fdca26"
             ],
             [
              1,
              "#f0f921"
             ]
            ],
            "type": "histogram2dcontour"
           }
          ],
          "mesh3d": [
           {
            "colorbar": {
             "outlinewidth": 0,
             "ticks": ""
            },
            "type": "mesh3d"
           }
          ],
          "parcoords": [
           {
            "line": {
             "colorbar": {
              "outlinewidth": 0,
              "ticks": ""
             }
            },
            "type": "parcoords"
           }
          ],
          "pie": [
           {
            "automargin": true,
            "type": "pie"
           }
          ],
          "scatter": [
           {
            "fillpattern": {
             "fillmode": "overlay",
             "size": 10,
             "solidity": 0.2
            },
            "type": "scatter"
           }
          ],
          "scatter3d": [
           {
            "line": {
             "colorbar": {
              "outlinewidth": 0,
              "ticks": ""
             }
            },
            "marker": {
             "colorbar": {
              "outlinewidth": 0,
              "ticks": ""
             }
            },
            "type": "scatter3d"
           }
          ],
          "scattercarpet": [
           {
            "marker": {
             "colorbar": {
              "outlinewidth": 0,
              "ticks": ""
             }
            },
            "type": "scattercarpet"
           }
          ],
          "scattergeo": [
           {
            "marker": {
             "colorbar": {
              "outlinewidth": 0,
              "ticks": ""
             }
            },
            "type": "scattergeo"
           }
          ],
          "scattergl": [
           {
            "marker": {
             "colorbar": {
              "outlinewidth": 0,
              "ticks": ""
             }
            },
            "type": "scattergl"
           }
          ],
          "scattermapbox": [
           {
            "marker": {
             "colorbar": {
              "outlinewidth": 0,
              "ticks": ""
             }
            },
            "type": "scattermapbox"
           }
          ],
          "scatterpolar": [
           {
            "marker": {
             "colorbar": {
              "outlinewidth": 0,
              "ticks": ""
             }
            },
            "type": "scatterpolar"
           }
          ],
          "scatterpolargl": [
           {
            "marker": {
             "colorbar": {
              "outlinewidth": 0,
              "ticks": ""
             }
            },
            "type": "scatterpolargl"
           }
          ],
          "scatterternary": [
           {
            "marker": {
             "colorbar": {
              "outlinewidth": 0,
              "ticks": ""
             }
            },
            "type": "scatterternary"
           }
          ],
          "surface": [
           {
            "colorbar": {
             "outlinewidth": 0,
             "ticks": ""
            },
            "colorscale": [
             [
              0,
              "#0d0887"
             ],
             [
              0.1111111111111111,
              "#46039f"
             ],
             [
              0.2222222222222222,
              "#7201a8"
             ],
             [
              0.3333333333333333,
              "#9c179e"
             ],
             [
              0.4444444444444444,
              "#bd3786"
             ],
             [
              0.5555555555555556,
              "#d8576b"
             ],
             [
              0.6666666666666666,
              "#ed7953"
             ],
             [
              0.7777777777777778,
              "#fb9f3a"
             ],
             [
              0.8888888888888888,
              "#fdca26"
             ],
             [
              1,
              "#f0f921"
             ]
            ],
            "type": "surface"
           }
          ],
          "table": [
           {
            "cells": {
             "fill": {
              "color": "#EBF0F8"
             },
             "line": {
              "color": "white"
             }
            },
            "header": {
             "fill": {
              "color": "#C8D4E3"
             },
             "line": {
              "color": "white"
             }
            },
            "type": "table"
           }
          ]
         },
         "layout": {
          "annotationdefaults": {
           "arrowcolor": "#2a3f5f",
           "arrowhead": 0,
           "arrowwidth": 1
          },
          "autotypenumbers": "strict",
          "coloraxis": {
           "colorbar": {
            "outlinewidth": 0,
            "ticks": ""
           }
          },
          "colorscale": {
           "diverging": [
            [
             0,
             "#8e0152"
            ],
            [
             0.1,
             "#c51b7d"
            ],
            [
             0.2,
             "#de77ae"
            ],
            [
             0.3,
             "#f1b6da"
            ],
            [
             0.4,
             "#fde0ef"
            ],
            [
             0.5,
             "#f7f7f7"
            ],
            [
             0.6,
             "#e6f5d0"
            ],
            [
             0.7,
             "#b8e186"
            ],
            [
             0.8,
             "#7fbc41"
            ],
            [
             0.9,
             "#4d9221"
            ],
            [
             1,
             "#276419"
            ]
           ],
           "sequential": [
            [
             0,
             "#0d0887"
            ],
            [
             0.1111111111111111,
             "#46039f"
            ],
            [
             0.2222222222222222,
             "#7201a8"
            ],
            [
             0.3333333333333333,
             "#9c179e"
            ],
            [
             0.4444444444444444,
             "#bd3786"
            ],
            [
             0.5555555555555556,
             "#d8576b"
            ],
            [
             0.6666666666666666,
             "#ed7953"
            ],
            [
             0.7777777777777778,
             "#fb9f3a"
            ],
            [
             0.8888888888888888,
             "#fdca26"
            ],
            [
             1,
             "#f0f921"
            ]
           ],
           "sequentialminus": [
            [
             0,
             "#0d0887"
            ],
            [
             0.1111111111111111,
             "#46039f"
            ],
            [
             0.2222222222222222,
             "#7201a8"
            ],
            [
             0.3333333333333333,
             "#9c179e"
            ],
            [
             0.4444444444444444,
             "#bd3786"
            ],
            [
             0.5555555555555556,
             "#d8576b"
            ],
            [
             0.6666666666666666,
             "#ed7953"
            ],
            [
             0.7777777777777778,
             "#fb9f3a"
            ],
            [
             0.8888888888888888,
             "#fdca26"
            ],
            [
             1,
             "#f0f921"
            ]
           ]
          },
          "colorway": [
           "#636efa",
           "#EF553B",
           "#00cc96",
           "#ab63fa",
           "#FFA15A",
           "#19d3f3",
           "#FF6692",
           "#B6E880",
           "#FF97FF",
           "#FECB52"
          ],
          "font": {
           "color": "#2a3f5f"
          },
          "geo": {
           "bgcolor": "white",
           "lakecolor": "white",
           "landcolor": "#E5ECF6",
           "showlakes": true,
           "showland": true,
           "subunitcolor": "white"
          },
          "hoverlabel": {
           "align": "left"
          },
          "hovermode": "closest",
          "mapbox": {
           "style": "light"
          },
          "paper_bgcolor": "white",
          "plot_bgcolor": "#E5ECF6",
          "polar": {
           "angularaxis": {
            "gridcolor": "white",
            "linecolor": "white",
            "ticks": ""
           },
           "bgcolor": "#E5ECF6",
           "radialaxis": {
            "gridcolor": "white",
            "linecolor": "white",
            "ticks": ""
           }
          },
          "scene": {
           "xaxis": {
            "backgroundcolor": "#E5ECF6",
            "gridcolor": "white",
            "gridwidth": 2,
            "linecolor": "white",
            "showbackground": true,
            "ticks": "",
            "zerolinecolor": "white"
           },
           "yaxis": {
            "backgroundcolor": "#E5ECF6",
            "gridcolor": "white",
            "gridwidth": 2,
            "linecolor": "white",
            "showbackground": true,
            "ticks": "",
            "zerolinecolor": "white"
           },
           "zaxis": {
            "backgroundcolor": "#E5ECF6",
            "gridcolor": "white",
            "gridwidth": 2,
            "linecolor": "white",
            "showbackground": true,
            "ticks": "",
            "zerolinecolor": "white"
           }
          },
          "shapedefaults": {
           "line": {
            "color": "#2a3f5f"
           }
          },
          "ternary": {
           "aaxis": {
            "gridcolor": "white",
            "linecolor": "white",
            "ticks": ""
           },
           "baxis": {
            "gridcolor": "white",
            "linecolor": "white",
            "ticks": ""
           },
           "bgcolor": "#E5ECF6",
           "caxis": {
            "gridcolor": "white",
            "linecolor": "white",
            "ticks": ""
           }
          },
          "title": {
           "x": 0.05
          },
          "xaxis": {
           "automargin": true,
           "gridcolor": "white",
           "linecolor": "white",
           "ticks": "",
           "title": {
            "standoff": 15
           },
           "zerolinecolor": "white",
           "zerolinewidth": 2
          },
          "yaxis": {
           "automargin": true,
           "gridcolor": "white",
           "linecolor": "white",
           "ticks": "",
           "title": {
            "standoff": 15
           },
           "zerolinecolor": "white",
           "zerolinewidth": 2
          }
         }
        },
        "xaxis": {
         "anchor": "y",
         "domain": [
          0,
          1
         ],
         "title": {
          "text": "CustomerID"
         }
        },
        "yaxis": {
         "anchor": "x",
         "domain": [
          0,
          1
         ],
         "title": {
          "text": "Total_Basket_Value"
         }
        }
       }
      }
     },
     "metadata": {},
     "output_type": "display_data"
    }
   ],
   "source": [
    "px.scatter(df_customer_data,x='CustomerID',y='Total_Basket_Value')"
   ]
  },
  {
   "cell_type": "markdown",
   "metadata": {},
   "source": [
    "# **Data Analysis - Apriori**"
   ]
  },
  {
   "cell_type": "code",
   "execution_count": 49,
   "metadata": {},
   "outputs": [
    {
     "data": {
      "text/html": [
       "<div>\n",
       "<style scoped>\n",
       "    .dataframe tbody tr th:only-of-type {\n",
       "        vertical-align: middle;\n",
       "    }\n",
       "\n",
       "    .dataframe tbody tr th {\n",
       "        vertical-align: top;\n",
       "    }\n",
       "\n",
       "    .dataframe thead th {\n",
       "        text-align: right;\n",
       "    }\n",
       "</style>\n",
       "<table border=\"1\" class=\"dataframe\">\n",
       "  <thead>\n",
       "    <tr style=\"text-align: right;\">\n",
       "      <th></th>\n",
       "      <th>BillNo</th>\n",
       "      <th>Itemname</th>\n",
       "      <th>Quantity</th>\n",
       "      <th>Price</th>\n",
       "      <th>CustomerID</th>\n",
       "    </tr>\n",
       "  </thead>\n",
       "  <tbody>\n",
       "    <tr>\n",
       "      <th>0</th>\n",
       "      <td>1000</td>\n",
       "      <td>Apples</td>\n",
       "      <td>5</td>\n",
       "      <td>8.30</td>\n",
       "      <td>52299</td>\n",
       "    </tr>\n",
       "    <tr>\n",
       "      <th>1</th>\n",
       "      <td>1000</td>\n",
       "      <td>Butter</td>\n",
       "      <td>4</td>\n",
       "      <td>6.06</td>\n",
       "      <td>11752</td>\n",
       "    </tr>\n",
       "    <tr>\n",
       "      <th>2</th>\n",
       "      <td>1000</td>\n",
       "      <td>Eggs</td>\n",
       "      <td>4</td>\n",
       "      <td>2.66</td>\n",
       "      <td>16415</td>\n",
       "    </tr>\n",
       "    <tr>\n",
       "      <th>3</th>\n",
       "      <td>1000</td>\n",
       "      <td>Potatoes</td>\n",
       "      <td>4</td>\n",
       "      <td>8.10</td>\n",
       "      <td>22889</td>\n",
       "    </tr>\n",
       "    <tr>\n",
       "      <th>4</th>\n",
       "      <td>1004</td>\n",
       "      <td>Oranges</td>\n",
       "      <td>2</td>\n",
       "      <td>7.26</td>\n",
       "      <td>52255</td>\n",
       "    </tr>\n",
       "  </tbody>\n",
       "</table>\n",
       "</div>"
      ],
      "text/plain": [
       "   BillNo  Itemname  Quantity  Price  CustomerID\n",
       "0    1000    Apples         5   8.30       52299\n",
       "1    1000    Butter         4   6.06       11752\n",
       "2    1000      Eggs         4   2.66       16415\n",
       "3    1000  Potatoes         4   8.10       22889\n",
       "4    1004   Oranges         2   7.26       52255"
      ]
     },
     "execution_count": 49,
     "metadata": {},
     "output_type": "execute_result"
    }
   ],
   "source": [
    "df.head()"
   ]
  },
  {
   "cell_type": "code",
   "execution_count": 56,
   "metadata": {},
   "outputs": [
    {
     "data": {
      "text/html": [
       "<div>\n",
       "<style scoped>\n",
       "    .dataframe tbody tr th:only-of-type {\n",
       "        vertical-align: middle;\n",
       "    }\n",
       "\n",
       "    .dataframe tbody tr th {\n",
       "        vertical-align: top;\n",
       "    }\n",
       "\n",
       "    .dataframe thead th {\n",
       "        text-align: right;\n",
       "    }\n",
       "</style>\n",
       "<table border=\"1\" class=\"dataframe\">\n",
       "  <thead>\n",
       "    <tr style=\"text-align: right;\">\n",
       "      <th></th>\n",
       "      <th>BillNo</th>\n",
       "      <th>Itemname</th>\n",
       "    </tr>\n",
       "  </thead>\n",
       "  <tbody>\n",
       "    <tr>\n",
       "      <th>0</th>\n",
       "      <td>1000</td>\n",
       "      <td>[Apples, Butter, Eggs, Potatoes]</td>\n",
       "    </tr>\n",
       "    <tr>\n",
       "      <th>1</th>\n",
       "      <td>1004</td>\n",
       "      <td>[Oranges]</td>\n",
       "    </tr>\n",
       "    <tr>\n",
       "      <th>2</th>\n",
       "      <td>1005</td>\n",
       "      <td>[Milk, Onions, Cereal]</td>\n",
       "    </tr>\n",
       "    <tr>\n",
       "      <th>3</th>\n",
       "      <td>1008</td>\n",
       "      <td>[Tomatoes, Potatoes, Cereal]</td>\n",
       "    </tr>\n",
       "    <tr>\n",
       "      <th>4</th>\n",
       "      <td>1011</td>\n",
       "      <td>[Bananas]</td>\n",
       "    </tr>\n",
       "  </tbody>\n",
       "</table>\n",
       "</div>"
      ],
      "text/plain": [
       "   BillNo                          Itemname\n",
       "0    1000  [Apples, Butter, Eggs, Potatoes]\n",
       "1    1004                         [Oranges]\n",
       "2    1005            [Milk, Onions, Cereal]\n",
       "3    1008      [Tomatoes, Potatoes, Cereal]\n",
       "4    1011                         [Bananas]"
      ]
     },
     "execution_count": 56,
     "metadata": {},
     "output_type": "execute_result"
    }
   ],
   "source": [
    "df_basket = df.groupby('BillNo')['Itemname'].apply(list).reset_index()\n",
    "df_basket.head()"
   ]
  },
  {
   "cell_type": "code",
   "execution_count": 59,
   "metadata": {},
   "outputs": [
    {
     "data": {
      "text/html": [
       "<div>\n",
       "<style scoped>\n",
       "    .dataframe tbody tr th:only-of-type {\n",
       "        vertical-align: middle;\n",
       "    }\n",
       "\n",
       "    .dataframe tbody tr th {\n",
       "        vertical-align: top;\n",
       "    }\n",
       "\n",
       "    .dataframe thead th {\n",
       "        text-align: right;\n",
       "    }\n",
       "</style>\n",
       "<table border=\"1\" class=\"dataframe\">\n",
       "  <thead>\n",
       "    <tr style=\"text-align: right;\">\n",
       "      <th></th>\n",
       "      <th>Apples</th>\n",
       "      <th>Bananas</th>\n",
       "      <th>Bread</th>\n",
       "      <th>Butter</th>\n",
       "      <th>Cereal</th>\n",
       "      <th>Cheese</th>\n",
       "      <th>Chicken</th>\n",
       "      <th>Coffee</th>\n",
       "      <th>Eggs</th>\n",
       "      <th>Juice</th>\n",
       "      <th>Milk</th>\n",
       "      <th>Onions</th>\n",
       "      <th>Oranges</th>\n",
       "      <th>Pasta</th>\n",
       "      <th>Potatoes</th>\n",
       "      <th>Sugar</th>\n",
       "      <th>Tea</th>\n",
       "      <th>Tomatoes</th>\n",
       "      <th>Yogurt</th>\n",
       "    </tr>\n",
       "  </thead>\n",
       "  <tbody>\n",
       "    <tr>\n",
       "      <th>0</th>\n",
       "      <td>1</td>\n",
       "      <td>0</td>\n",
       "      <td>0</td>\n",
       "      <td>1</td>\n",
       "      <td>0</td>\n",
       "      <td>0</td>\n",
       "      <td>0</td>\n",
       "      <td>0</td>\n",
       "      <td>1</td>\n",
       "      <td>0</td>\n",
       "      <td>0</td>\n",
       "      <td>0</td>\n",
       "      <td>0</td>\n",
       "      <td>0</td>\n",
       "      <td>1</td>\n",
       "      <td>0</td>\n",
       "      <td>0</td>\n",
       "      <td>0</td>\n",
       "      <td>0</td>\n",
       "    </tr>\n",
       "    <tr>\n",
       "      <th>1</th>\n",
       "      <td>0</td>\n",
       "      <td>0</td>\n",
       "      <td>0</td>\n",
       "      <td>0</td>\n",
       "      <td>0</td>\n",
       "      <td>0</td>\n",
       "      <td>0</td>\n",
       "      <td>0</td>\n",
       "      <td>0</td>\n",
       "      <td>0</td>\n",
       "      <td>0</td>\n",
       "      <td>0</td>\n",
       "      <td>1</td>\n",
       "      <td>0</td>\n",
       "      <td>0</td>\n",
       "      <td>0</td>\n",
       "      <td>0</td>\n",
       "      <td>0</td>\n",
       "      <td>0</td>\n",
       "    </tr>\n",
       "    <tr>\n",
       "      <th>2</th>\n",
       "      <td>0</td>\n",
       "      <td>0</td>\n",
       "      <td>0</td>\n",
       "      <td>0</td>\n",
       "      <td>1</td>\n",
       "      <td>0</td>\n",
       "      <td>0</td>\n",
       "      <td>0</td>\n",
       "      <td>0</td>\n",
       "      <td>0</td>\n",
       "      <td>1</td>\n",
       "      <td>1</td>\n",
       "      <td>0</td>\n",
       "      <td>0</td>\n",
       "      <td>0</td>\n",
       "      <td>0</td>\n",
       "      <td>0</td>\n",
       "      <td>0</td>\n",
       "      <td>0</td>\n",
       "    </tr>\n",
       "    <tr>\n",
       "      <th>3</th>\n",
       "      <td>0</td>\n",
       "      <td>0</td>\n",
       "      <td>0</td>\n",
       "      <td>0</td>\n",
       "      <td>1</td>\n",
       "      <td>0</td>\n",
       "      <td>0</td>\n",
       "      <td>0</td>\n",
       "      <td>0</td>\n",
       "      <td>0</td>\n",
       "      <td>0</td>\n",
       "      <td>0</td>\n",
       "      <td>0</td>\n",
       "      <td>0</td>\n",
       "      <td>1</td>\n",
       "      <td>0</td>\n",
       "      <td>0</td>\n",
       "      <td>1</td>\n",
       "      <td>0</td>\n",
       "    </tr>\n",
       "    <tr>\n",
       "      <th>4</th>\n",
       "      <td>0</td>\n",
       "      <td>1</td>\n",
       "      <td>0</td>\n",
       "      <td>0</td>\n",
       "      <td>0</td>\n",
       "      <td>0</td>\n",
       "      <td>0</td>\n",
       "      <td>0</td>\n",
       "      <td>0</td>\n",
       "      <td>0</td>\n",
       "      <td>0</td>\n",
       "      <td>0</td>\n",
       "      <td>0</td>\n",
       "      <td>0</td>\n",
       "      <td>0</td>\n",
       "      <td>0</td>\n",
       "      <td>0</td>\n",
       "      <td>0</td>\n",
       "      <td>0</td>\n",
       "    </tr>\n",
       "    <tr>\n",
       "      <th>...</th>\n",
       "      <td>...</td>\n",
       "      <td>...</td>\n",
       "      <td>...</td>\n",
       "      <td>...</td>\n",
       "      <td>...</td>\n",
       "      <td>...</td>\n",
       "      <td>...</td>\n",
       "      <td>...</td>\n",
       "      <td>...</td>\n",
       "      <td>...</td>\n",
       "      <td>...</td>\n",
       "      <td>...</td>\n",
       "      <td>...</td>\n",
       "      <td>...</td>\n",
       "      <td>...</td>\n",
       "      <td>...</td>\n",
       "      <td>...</td>\n",
       "      <td>...</td>\n",
       "      <td>...</td>\n",
       "    </tr>\n",
       "    <tr>\n",
       "      <th>148</th>\n",
       "      <td>0</td>\n",
       "      <td>1</td>\n",
       "      <td>1</td>\n",
       "      <td>1</td>\n",
       "      <td>1</td>\n",
       "      <td>1</td>\n",
       "      <td>1</td>\n",
       "      <td>1</td>\n",
       "      <td>1</td>\n",
       "      <td>1</td>\n",
       "      <td>0</td>\n",
       "      <td>0</td>\n",
       "      <td>1</td>\n",
       "      <td>1</td>\n",
       "      <td>0</td>\n",
       "      <td>0</td>\n",
       "      <td>0</td>\n",
       "      <td>0</td>\n",
       "      <td>1</td>\n",
       "    </tr>\n",
       "    <tr>\n",
       "      <th>149</th>\n",
       "      <td>0</td>\n",
       "      <td>0</td>\n",
       "      <td>0</td>\n",
       "      <td>0</td>\n",
       "      <td>0</td>\n",
       "      <td>0</td>\n",
       "      <td>0</td>\n",
       "      <td>1</td>\n",
       "      <td>0</td>\n",
       "      <td>0</td>\n",
       "      <td>0</td>\n",
       "      <td>0</td>\n",
       "      <td>0</td>\n",
       "      <td>0</td>\n",
       "      <td>0</td>\n",
       "      <td>0</td>\n",
       "      <td>0</td>\n",
       "      <td>1</td>\n",
       "      <td>0</td>\n",
       "    </tr>\n",
       "    <tr>\n",
       "      <th>150</th>\n",
       "      <td>0</td>\n",
       "      <td>1</td>\n",
       "      <td>1</td>\n",
       "      <td>1</td>\n",
       "      <td>0</td>\n",
       "      <td>0</td>\n",
       "      <td>1</td>\n",
       "      <td>0</td>\n",
       "      <td>0</td>\n",
       "      <td>1</td>\n",
       "      <td>1</td>\n",
       "      <td>0</td>\n",
       "      <td>1</td>\n",
       "      <td>0</td>\n",
       "      <td>1</td>\n",
       "      <td>0</td>\n",
       "      <td>0</td>\n",
       "      <td>0</td>\n",
       "      <td>0</td>\n",
       "    </tr>\n",
       "    <tr>\n",
       "      <th>151</th>\n",
       "      <td>0</td>\n",
       "      <td>1</td>\n",
       "      <td>1</td>\n",
       "      <td>0</td>\n",
       "      <td>0</td>\n",
       "      <td>0</td>\n",
       "      <td>1</td>\n",
       "      <td>0</td>\n",
       "      <td>0</td>\n",
       "      <td>1</td>\n",
       "      <td>0</td>\n",
       "      <td>0</td>\n",
       "      <td>0</td>\n",
       "      <td>0</td>\n",
       "      <td>0</td>\n",
       "      <td>0</td>\n",
       "      <td>0</td>\n",
       "      <td>0</td>\n",
       "      <td>0</td>\n",
       "    </tr>\n",
       "    <tr>\n",
       "      <th>152</th>\n",
       "      <td>0</td>\n",
       "      <td>0</td>\n",
       "      <td>0</td>\n",
       "      <td>0</td>\n",
       "      <td>0</td>\n",
       "      <td>0</td>\n",
       "      <td>0</td>\n",
       "      <td>1</td>\n",
       "      <td>1</td>\n",
       "      <td>0</td>\n",
       "      <td>0</td>\n",
       "      <td>0</td>\n",
       "      <td>0</td>\n",
       "      <td>1</td>\n",
       "      <td>0</td>\n",
       "      <td>0</td>\n",
       "      <td>0</td>\n",
       "      <td>0</td>\n",
       "      <td>0</td>\n",
       "    </tr>\n",
       "  </tbody>\n",
       "</table>\n",
       "<p>153 rows × 19 columns</p>\n",
       "</div>"
      ],
      "text/plain": [
       "     Apples  Bananas  Bread  Butter  Cereal  Cheese  Chicken  Coffee  Eggs  \\\n",
       "0         1        0      0       1       0       0        0       0     1   \n",
       "1         0        0      0       0       0       0        0       0     0   \n",
       "2         0        0      0       0       1       0        0       0     0   \n",
       "3         0        0      0       0       1       0        0       0     0   \n",
       "4         0        1      0       0       0       0        0       0     0   \n",
       "..      ...      ...    ...     ...     ...     ...      ...     ...   ...   \n",
       "148       0        1      1       1       1       1        1       1     1   \n",
       "149       0        0      0       0       0       0        0       1     0   \n",
       "150       0        1      1       1       0       0        1       0     0   \n",
       "151       0        1      1       0       0       0        1       0     0   \n",
       "152       0        0      0       0       0       0        0       1     1   \n",
       "\n",
       "     Juice  Milk  Onions  Oranges  Pasta  Potatoes  Sugar  Tea  Tomatoes  \\\n",
       "0        0     0       0        0      0         1      0    0         0   \n",
       "1        0     0       0        1      0         0      0    0         0   \n",
       "2        0     1       1        0      0         0      0    0         0   \n",
       "3        0     0       0        0      0         1      0    0         1   \n",
       "4        0     0       0        0      0         0      0    0         0   \n",
       "..     ...   ...     ...      ...    ...       ...    ...  ...       ...   \n",
       "148      1     0       0        1      1         0      0    0         0   \n",
       "149      0     0       0        0      0         0      0    0         1   \n",
       "150      1     1       0        1      0         1      0    0         0   \n",
       "151      1     0       0        0      0         0      0    0         0   \n",
       "152      0     0       0        0      1         0      0    0         0   \n",
       "\n",
       "     Yogurt  \n",
       "0         0  \n",
       "1         0  \n",
       "2         0  \n",
       "3         0  \n",
       "4         0  \n",
       "..      ...  \n",
       "148       1  \n",
       "149       0  \n",
       "150       0  \n",
       "151       0  \n",
       "152       0  \n",
       "\n",
       "[153 rows x 19 columns]"
      ]
     },
     "execution_count": 59,
     "metadata": {},
     "output_type": "execute_result"
    }
   ],
   "source": [
    "basket_encoded = df_basket['Itemname'].str.join('|').str.get_dummies(sep='|')\n",
    "basket_encoded"
   ]
  },
  {
   "cell_type": "code",
   "execution_count": 62,
   "metadata": {},
   "outputs": [
    {
     "name": "stderr",
     "output_type": "stream",
     "text": [
      "c:\\Users\\aksha\\AppData\\Local\\Programs\\Python\\Python312\\Lib\\site-packages\\mlxtend\\frequent_patterns\\fpcommon.py:109: DeprecationWarning:\n",
      "\n",
      "DataFrames with non-bool types result in worse computationalperformance and their support might be discontinued in the future.Please use a DataFrame with bool type\n",
      "\n"
     ]
    },
    {
     "data": {
      "text/html": [
       "<div>\n",
       "<style scoped>\n",
       "    .dataframe tbody tr th:only-of-type {\n",
       "        vertical-align: middle;\n",
       "    }\n",
       "\n",
       "    .dataframe tbody tr th {\n",
       "        vertical-align: top;\n",
       "    }\n",
       "\n",
       "    .dataframe thead th {\n",
       "        text-align: right;\n",
       "    }\n",
       "</style>\n",
       "<table border=\"1\" class=\"dataframe\">\n",
       "  <thead>\n",
       "    <tr style=\"text-align: right;\">\n",
       "      <th></th>\n",
       "      <th>antecedents</th>\n",
       "      <th>consequents</th>\n",
       "      <th>antecedent support</th>\n",
       "      <th>consequent support</th>\n",
       "      <th>support</th>\n",
       "      <th>confidence</th>\n",
       "      <th>lift</th>\n",
       "      <th>leverage</th>\n",
       "      <th>conviction</th>\n",
       "      <th>zhangs_metric</th>\n",
       "    </tr>\n",
       "  </thead>\n",
       "  <tbody>\n",
       "    <tr>\n",
       "      <th>0</th>\n",
       "      <td>(Bread)</td>\n",
       "      <td>(Apples)</td>\n",
       "      <td>0.150327</td>\n",
       "      <td>0.163399</td>\n",
       "      <td>0.045752</td>\n",
       "      <td>0.304348</td>\n",
       "      <td>1.862609</td>\n",
       "      <td>0.021188</td>\n",
       "      <td>1.202614</td>\n",
       "      <td>0.545055</td>\n",
       "    </tr>\n",
       "    <tr>\n",
       "      <th>1</th>\n",
       "      <td>(Apples)</td>\n",
       "      <td>(Bread)</td>\n",
       "      <td>0.163399</td>\n",
       "      <td>0.150327</td>\n",
       "      <td>0.045752</td>\n",
       "      <td>0.280000</td>\n",
       "      <td>1.862609</td>\n",
       "      <td>0.021188</td>\n",
       "      <td>1.180102</td>\n",
       "      <td>0.553571</td>\n",
       "    </tr>\n",
       "    <tr>\n",
       "      <th>2</th>\n",
       "      <td>(Apples)</td>\n",
       "      <td>(Butter)</td>\n",
       "      <td>0.163399</td>\n",
       "      <td>0.163399</td>\n",
       "      <td>0.026144</td>\n",
       "      <td>0.160000</td>\n",
       "      <td>0.979200</td>\n",
       "      <td>-0.000555</td>\n",
       "      <td>0.995954</td>\n",
       "      <td>-0.024762</td>\n",
       "    </tr>\n",
       "    <tr>\n",
       "      <th>3</th>\n",
       "      <td>(Butter)</td>\n",
       "      <td>(Apples)</td>\n",
       "      <td>0.163399</td>\n",
       "      <td>0.163399</td>\n",
       "      <td>0.026144</td>\n",
       "      <td>0.160000</td>\n",
       "      <td>0.979200</td>\n",
       "      <td>-0.000555</td>\n",
       "      <td>0.995954</td>\n",
       "      <td>-0.024762</td>\n",
       "    </tr>\n",
       "    <tr>\n",
       "      <th>4</th>\n",
       "      <td>(Cereal)</td>\n",
       "      <td>(Apples)</td>\n",
       "      <td>0.202614</td>\n",
       "      <td>0.163399</td>\n",
       "      <td>0.019608</td>\n",
       "      <td>0.096774</td>\n",
       "      <td>0.592258</td>\n",
       "      <td>-0.013499</td>\n",
       "      <td>0.926237</td>\n",
       "      <td>-0.463343</td>\n",
       "    </tr>\n",
       "    <tr>\n",
       "      <th>...</th>\n",
       "      <td>...</td>\n",
       "      <td>...</td>\n",
       "      <td>...</td>\n",
       "      <td>...</td>\n",
       "      <td>...</td>\n",
       "      <td>...</td>\n",
       "      <td>...</td>\n",
       "      <td>...</td>\n",
       "      <td>...</td>\n",
       "      <td>...</td>\n",
       "    </tr>\n",
       "    <tr>\n",
       "      <th>2384801</th>\n",
       "      <td>(Onions)</td>\n",
       "      <td>(Yogurt, Milk, Coffee, Juice, Potatoes, Pasta,...</td>\n",
       "      <td>0.150327</td>\n",
       "      <td>0.006536</td>\n",
       "      <td>0.006536</td>\n",
       "      <td>0.043478</td>\n",
       "      <td>6.652174</td>\n",
       "      <td>0.005553</td>\n",
       "      <td>1.038622</td>\n",
       "      <td>1.000000</td>\n",
       "    </tr>\n",
       "    <tr>\n",
       "      <th>2384802</th>\n",
       "      <td>(Eggs)</td>\n",
       "      <td>(Yogurt, Milk, Coffee, Juice, Potatoes, Pasta,...</td>\n",
       "      <td>0.176471</td>\n",
       "      <td>0.006536</td>\n",
       "      <td>0.006536</td>\n",
       "      <td>0.037037</td>\n",
       "      <td>5.666667</td>\n",
       "      <td>0.005383</td>\n",
       "      <td>1.031674</td>\n",
       "      <td>1.000000</td>\n",
       "    </tr>\n",
       "    <tr>\n",
       "      <th>2384803</th>\n",
       "      <td>(Tomatoes)</td>\n",
       "      <td>(Yogurt, Milk, Coffee, Juice, Potatoes, Pasta,...</td>\n",
       "      <td>0.176471</td>\n",
       "      <td>0.006536</td>\n",
       "      <td>0.006536</td>\n",
       "      <td>0.037037</td>\n",
       "      <td>5.666667</td>\n",
       "      <td>0.005383</td>\n",
       "      <td>1.031674</td>\n",
       "      <td>1.000000</td>\n",
       "    </tr>\n",
       "    <tr>\n",
       "      <th>2384804</th>\n",
       "      <td>(Tea)</td>\n",
       "      <td>(Yogurt, Milk, Coffee, Juice, Potatoes, Pasta,...</td>\n",
       "      <td>0.150327</td>\n",
       "      <td>0.006536</td>\n",
       "      <td>0.006536</td>\n",
       "      <td>0.043478</td>\n",
       "      <td>6.652174</td>\n",
       "      <td>0.005553</td>\n",
       "      <td>1.038622</td>\n",
       "      <td>1.000000</td>\n",
       "    </tr>\n",
       "    <tr>\n",
       "      <th>2384805</th>\n",
       "      <td>(Chicken)</td>\n",
       "      <td>(Yogurt, Milk, Coffee, Juice, Potatoes, Pasta,...</td>\n",
       "      <td>0.130719</td>\n",
       "      <td>0.006536</td>\n",
       "      <td>0.006536</td>\n",
       "      <td>0.050000</td>\n",
       "      <td>7.650000</td>\n",
       "      <td>0.005682</td>\n",
       "      <td>1.045752</td>\n",
       "      <td>1.000000</td>\n",
       "    </tr>\n",
       "  </tbody>\n",
       "</table>\n",
       "<p>2384806 rows × 10 columns</p>\n",
       "</div>"
      ],
      "text/plain": [
       "        antecedents                                        consequents  \\\n",
       "0           (Bread)                                           (Apples)   \n",
       "1          (Apples)                                            (Bread)   \n",
       "2          (Apples)                                           (Butter)   \n",
       "3          (Butter)                                           (Apples)   \n",
       "4          (Cereal)                                           (Apples)   \n",
       "...             ...                                                ...   \n",
       "2384801    (Onions)  (Yogurt, Milk, Coffee, Juice, Potatoes, Pasta,...   \n",
       "2384802      (Eggs)  (Yogurt, Milk, Coffee, Juice, Potatoes, Pasta,...   \n",
       "2384803  (Tomatoes)  (Yogurt, Milk, Coffee, Juice, Potatoes, Pasta,...   \n",
       "2384804       (Tea)  (Yogurt, Milk, Coffee, Juice, Potatoes, Pasta,...   \n",
       "2384805   (Chicken)  (Yogurt, Milk, Coffee, Juice, Potatoes, Pasta,...   \n",
       "\n",
       "         antecedent support  consequent support   support  confidence  \\\n",
       "0                  0.150327            0.163399  0.045752    0.304348   \n",
       "1                  0.163399            0.150327  0.045752    0.280000   \n",
       "2                  0.163399            0.163399  0.026144    0.160000   \n",
       "3                  0.163399            0.163399  0.026144    0.160000   \n",
       "4                  0.202614            0.163399  0.019608    0.096774   \n",
       "...                     ...                 ...       ...         ...   \n",
       "2384801            0.150327            0.006536  0.006536    0.043478   \n",
       "2384802            0.176471            0.006536  0.006536    0.037037   \n",
       "2384803            0.176471            0.006536  0.006536    0.037037   \n",
       "2384804            0.150327            0.006536  0.006536    0.043478   \n",
       "2384805            0.130719            0.006536  0.006536    0.050000   \n",
       "\n",
       "             lift  leverage  conviction  zhangs_metric  \n",
       "0        1.862609  0.021188    1.202614       0.545055  \n",
       "1        1.862609  0.021188    1.180102       0.553571  \n",
       "2        0.979200 -0.000555    0.995954      -0.024762  \n",
       "3        0.979200 -0.000555    0.995954      -0.024762  \n",
       "4        0.592258 -0.013499    0.926237      -0.463343  \n",
       "...           ...       ...         ...            ...  \n",
       "2384801  6.652174  0.005553    1.038622       1.000000  \n",
       "2384802  5.666667  0.005383    1.031674       1.000000  \n",
       "2384803  5.666667  0.005383    1.031674       1.000000  \n",
       "2384804  6.652174  0.005553    1.038622       1.000000  \n",
       "2384805  7.650000  0.005682    1.045752       1.000000  \n",
       "\n",
       "[2384806 rows x 10 columns]"
      ]
     },
     "execution_count": 62,
     "metadata": {},
     "output_type": "execute_result"
    }
   ],
   "source": [
    "from mlxtend.frequent_patterns import apriori, association_rules\n",
    "\n",
    "frequent_items = apriori(basket_encoded, min_support=0.001, use_colnames=True)\n",
    "rules = association_rules(frequent_items, metric=\"lift\", min_threshold=0.5)\n",
    "rules"
   ]
  },
  {
   "cell_type": "markdown",
   "metadata": {},
   "source": [
    "# **Conclusion**"
   ]
  },
  {
   "cell_type": "code",
   "execution_count": 66,
   "metadata": {},
   "outputs": [
    {
     "data": {
      "text/html": [
       "<div>\n",
       "<style scoped>\n",
       "    .dataframe tbody tr th:only-of-type {\n",
       "        vertical-align: middle;\n",
       "    }\n",
       "\n",
       "    .dataframe tbody tr th {\n",
       "        vertical-align: top;\n",
       "    }\n",
       "\n",
       "    .dataframe thead th {\n",
       "        text-align: right;\n",
       "    }\n",
       "</style>\n",
       "<table border=\"1\" class=\"dataframe\">\n",
       "  <thead>\n",
       "    <tr style=\"text-align: right;\">\n",
       "      <th></th>\n",
       "      <th>antecedents</th>\n",
       "      <th>consequents</th>\n",
       "      <th>support</th>\n",
       "      <th>confidence</th>\n",
       "      <th>lift</th>\n",
       "    </tr>\n",
       "  </thead>\n",
       "  <tbody>\n",
       "    <tr>\n",
       "      <th>0</th>\n",
       "      <td>(Bread)</td>\n",
       "      <td>(Apples)</td>\n",
       "      <td>0.045752</td>\n",
       "      <td>0.304348</td>\n",
       "      <td>1.862609</td>\n",
       "    </tr>\n",
       "    <tr>\n",
       "      <th>1</th>\n",
       "      <td>(Apples)</td>\n",
       "      <td>(Bread)</td>\n",
       "      <td>0.045752</td>\n",
       "      <td>0.280000</td>\n",
       "      <td>1.862609</td>\n",
       "    </tr>\n",
       "    <tr>\n",
       "      <th>2</th>\n",
       "      <td>(Apples)</td>\n",
       "      <td>(Butter)</td>\n",
       "      <td>0.026144</td>\n",
       "      <td>0.160000</td>\n",
       "      <td>0.979200</td>\n",
       "    </tr>\n",
       "    <tr>\n",
       "      <th>3</th>\n",
       "      <td>(Butter)</td>\n",
       "      <td>(Apples)</td>\n",
       "      <td>0.026144</td>\n",
       "      <td>0.160000</td>\n",
       "      <td>0.979200</td>\n",
       "    </tr>\n",
       "    <tr>\n",
       "      <th>4</th>\n",
       "      <td>(Cereal)</td>\n",
       "      <td>(Apples)</td>\n",
       "      <td>0.019608</td>\n",
       "      <td>0.096774</td>\n",
       "      <td>0.592258</td>\n",
       "    </tr>\n",
       "    <tr>\n",
       "      <th>5</th>\n",
       "      <td>(Apples)</td>\n",
       "      <td>(Cereal)</td>\n",
       "      <td>0.019608</td>\n",
       "      <td>0.120000</td>\n",
       "      <td>0.592258</td>\n",
       "    </tr>\n",
       "    <tr>\n",
       "      <th>6</th>\n",
       "      <td>(Apples)</td>\n",
       "      <td>(Cheese)</td>\n",
       "      <td>0.039216</td>\n",
       "      <td>0.240000</td>\n",
       "      <td>1.311429</td>\n",
       "    </tr>\n",
       "    <tr>\n",
       "      <th>7</th>\n",
       "      <td>(Cheese)</td>\n",
       "      <td>(Apples)</td>\n",
       "      <td>0.039216</td>\n",
       "      <td>0.214286</td>\n",
       "      <td>1.311429</td>\n",
       "    </tr>\n",
       "    <tr>\n",
       "      <th>8</th>\n",
       "      <td>(Apples)</td>\n",
       "      <td>(Chicken)</td>\n",
       "      <td>0.032680</td>\n",
       "      <td>0.200000</td>\n",
       "      <td>1.530000</td>\n",
       "    </tr>\n",
       "    <tr>\n",
       "      <th>9</th>\n",
       "      <td>(Chicken)</td>\n",
       "      <td>(Apples)</td>\n",
       "      <td>0.032680</td>\n",
       "      <td>0.250000</td>\n",
       "      <td>1.530000</td>\n",
       "    </tr>\n",
       "  </tbody>\n",
       "</table>\n",
       "</div>"
      ],
      "text/plain": [
       "  antecedents consequents   support  confidence      lift\n",
       "0     (Bread)    (Apples)  0.045752    0.304348  1.862609\n",
       "1    (Apples)     (Bread)  0.045752    0.280000  1.862609\n",
       "2    (Apples)    (Butter)  0.026144    0.160000  0.979200\n",
       "3    (Butter)    (Apples)  0.026144    0.160000  0.979200\n",
       "4    (Cereal)    (Apples)  0.019608    0.096774  0.592258\n",
       "5    (Apples)    (Cereal)  0.019608    0.120000  0.592258\n",
       "6    (Apples)    (Cheese)  0.039216    0.240000  1.311429\n",
       "7    (Cheese)    (Apples)  0.039216    0.214286  1.311429\n",
       "8    (Apples)   (Chicken)  0.032680    0.200000  1.530000\n",
       "9   (Chicken)    (Apples)  0.032680    0.250000  1.530000"
      ]
     },
     "execution_count": 66,
     "metadata": {},
     "output_type": "execute_result"
    }
   ],
   "source": [
    "rules[['antecedents','consequents','support','confidence','lift']].head(10)"
   ]
  }
 ],
 "metadata": {
  "kernelspec": {
   "display_name": "Python 3",
   "language": "python",
   "name": "python3"
  },
  "language_info": {
   "codemirror_mode": {
    "name": "ipython",
    "version": 3
   },
   "file_extension": ".py",
   "mimetype": "text/x-python",
   "name": "python",
   "nbconvert_exporter": "python",
   "pygments_lexer": "ipython3",
   "version": "3.12.3"
  }
 },
 "nbformat": 4,
 "nbformat_minor": 2
}
