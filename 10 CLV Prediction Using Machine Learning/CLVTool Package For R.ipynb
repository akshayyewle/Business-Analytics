{
 "cells": [
  {
   "cell_type": "markdown",
   "metadata": {},
   "source": [
    "# **Setup**"
   ]
  },
  {
   "cell_type": "code",
   "execution_count": 2,
   "metadata": {
    "vscode": {
     "languageId": "r"
    }
   },
   "outputs": [],
   "source": [
    "# install.packages(\"CLVTools\")"
   ]
  },
  {
   "cell_type": "code",
   "execution_count": 3,
   "metadata": {
    "vscode": {
     "languageId": "r"
    }
   },
   "outputs": [],
   "source": [
    "library(\"CLVTools\")"
   ]
  },
  {
   "cell_type": "markdown",
   "metadata": {},
   "source": [
    "## **Data Import**"
   ]
  },
  {
   "cell_type": "code",
   "execution_count": 4,
   "metadata": {
    "vscode": {
     "languageId": "r"
    }
   },
   "outputs": [
    {
     "data": {
      "text/html": [
       "<style>\n",
       ".list-inline {list-style: none; margin:0; padding: 0}\n",
       ".list-inline>li {display: inline-block}\n",
       ".list-inline>li:not(:last-child)::after {content: \"\\00b7\"; padding: 0 .5ex}\n",
       "</style>\n",
       "<ol class=list-inline><li>6696</li><li>4</li></ol>\n"
      ],
      "text/latex": [
       "\\begin{enumerate*}\n",
       "\\item 6696\n",
       "\\item 4\n",
       "\\end{enumerate*}\n"
      ],
      "text/markdown": [
       "1. 6696\n",
       "2. 4\n",
       "\n",
       "\n"
      ],
      "text/plain": [
       "[1] 6696    4"
      ]
     },
     "metadata": {},
     "output_type": "display_data"
    },
    {
     "data": {
      "text/html": [
       "<table class=\"dataframe\">\n",
       "<caption>A data.table: 10 × 4</caption>\n",
       "<thead>\n",
       "\t<tr><th scope=col>Id</th><th scope=col>Date</th><th scope=col>CDs</th><th scope=col>Price</th></tr>\n",
       "\t<tr><th scope=col>&lt;chr&gt;</th><th scope=col>&lt;date&gt;</th><th scope=col>&lt;int&gt;</th><th scope=col>&lt;dbl&gt;</th></tr>\n",
       "</thead>\n",
       "<tbody>\n",
       "\t<tr><td>1   </td><td>1997-01-01</td><td>2</td><td>29.33</td></tr>\n",
       "\t<tr><td>1   </td><td>1997-01-18</td><td>2</td><td>29.73</td></tr>\n",
       "\t<tr><td>1   </td><td>1997-08-02</td><td>1</td><td>14.96</td></tr>\n",
       "\t<tr><td>1   </td><td>1997-12-12</td><td>2</td><td>26.48</td></tr>\n",
       "\t<tr><td>10  </td><td>1997-01-01</td><td>2</td><td>30.32</td></tr>\n",
       "\t<tr><td>100 </td><td>1997-01-05</td><td>1</td><td>16.99</td></tr>\n",
       "\t<tr><td>100 </td><td>1997-06-21</td><td>2</td><td>26.22</td></tr>\n",
       "\t<tr><td>1000</td><td>1997-02-07</td><td>1</td><td> 9.97</td></tr>\n",
       "\t<tr><td>1000</td><td>1997-03-13</td><td>1</td><td>13.77</td></tr>\n",
       "\t<tr><td>1000</td><td>1997-04-28</td><td>1</td><td>13.77</td></tr>\n",
       "</tbody>\n",
       "</table>\n"
      ],
      "text/latex": [
       "A data.table: 10 × 4\n",
       "\\begin{tabular}{llll}\n",
       " Id & Date & CDs & Price\\\\\n",
       " <chr> & <date> & <int> & <dbl>\\\\\n",
       "\\hline\n",
       "\t 1    & 1997-01-01 & 2 & 29.33\\\\\n",
       "\t 1    & 1997-01-18 & 2 & 29.73\\\\\n",
       "\t 1    & 1997-08-02 & 1 & 14.96\\\\\n",
       "\t 1    & 1997-12-12 & 2 & 26.48\\\\\n",
       "\t 10   & 1997-01-01 & 2 & 30.32\\\\\n",
       "\t 100  & 1997-01-05 & 1 & 16.99\\\\\n",
       "\t 100  & 1997-06-21 & 2 & 26.22\\\\\n",
       "\t 1000 & 1997-02-07 & 1 &  9.97\\\\\n",
       "\t 1000 & 1997-03-13 & 1 & 13.77\\\\\n",
       "\t 1000 & 1997-04-28 & 1 & 13.77\\\\\n",
       "\\end{tabular}\n"
      ],
      "text/markdown": [
       "\n",
       "A data.table: 10 × 4\n",
       "\n",
       "| Id &lt;chr&gt; | Date &lt;date&gt; | CDs &lt;int&gt; | Price &lt;dbl&gt; |\n",
       "|---|---|---|---|\n",
       "| 1    | 1997-01-01 | 2 | 29.33 |\n",
       "| 1    | 1997-01-18 | 2 | 29.73 |\n",
       "| 1    | 1997-08-02 | 1 | 14.96 |\n",
       "| 1    | 1997-12-12 | 2 | 26.48 |\n",
       "| 10   | 1997-01-01 | 2 | 30.32 |\n",
       "| 100  | 1997-01-05 | 1 | 16.99 |\n",
       "| 100  | 1997-06-21 | 2 | 26.22 |\n",
       "| 1000 | 1997-02-07 | 1 |  9.97 |\n",
       "| 1000 | 1997-03-13 | 1 | 13.77 |\n",
       "| 1000 | 1997-04-28 | 1 | 13.77 |\n",
       "\n"
      ],
      "text/plain": [
       "   Id   Date       CDs Price\n",
       "1  1    1997-01-01 2   29.33\n",
       "2  1    1997-01-18 2   29.73\n",
       "3  1    1997-08-02 1   14.96\n",
       "4  1    1997-12-12 2   26.48\n",
       "5  10   1997-01-01 2   30.32\n",
       "6  100  1997-01-05 1   16.99\n",
       "7  100  1997-06-21 2   26.22\n",
       "8  1000 1997-02-07 1    9.97\n",
       "9  1000 1997-03-13 1   13.77\n",
       "10 1000 1997-04-28 1   13.77"
      ]
     },
     "metadata": {},
     "output_type": "display_data"
    }
   ],
   "source": [
    "# Import Data\n",
    "data(\"cdnow\")\n",
    "\n",
    "# View Data Dimensions\n",
    "dim(cdnow)\n",
    "\n",
    "# View Data Sample\n",
    "head(cdnow,n=10)"
   ]
  },
  {
   "cell_type": "code",
   "execution_count": 5,
   "metadata": {
    "vscode": {
     "languageId": "r"
    }
   },
   "outputs": [
    {
     "data": {
      "text/html": [
       "36.4533960573477"
      ],
      "text/latex": [
       "36.4533960573477"
      ],
      "text/markdown": [
       "36.4533960573477"
      ],
      "text/plain": [
       "[1] 36.4534"
      ]
     },
     "metadata": {},
     "output_type": "display_data"
    }
   ],
   "source": [
    "# Mean Price\n",
    "mean(cdnow$Price)"
   ]
  }
 ],
 "metadata": {
  "kernelspec": {
   "display_name": "R",
   "language": "R",
   "name": "ir"
  },
  "language_info": {
   "codemirror_mode": "r",
   "file_extension": ".r",
   "mimetype": "text/x-r-source",
   "name": "R",
   "pygments_lexer": "r",
   "version": "4.3.2"
  }
 },
 "nbformat": 4,
 "nbformat_minor": 2
}
